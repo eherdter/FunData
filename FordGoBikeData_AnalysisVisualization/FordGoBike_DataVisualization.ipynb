{
 "cells": [
  {
   "cell_type": "markdown",
   "metadata": {},
   "source": [
    "# FordGoBike_DataVisualization\n",
    "This is an exploraton of the the FordGoBike dataset from San Francisco in 2018.  \n",
    "\n",
    "**Objective**: This notebook will explore the dataset and use visualizations to gain insight about trends in rider usage. "
   ]
  }
 ],
 "metadata": {
  "kernelspec": {
   "display_name": "Python 3",
   "language": "python",
   "name": "python3"
  },
  "language_info": {
   "codemirror_mode": {
    "name": "ipython",
    "version": 3
   },
   "file_extension": ".py",
   "mimetype": "text/x-python",
   "name": "python",
   "nbconvert_exporter": "python",
   "pygments_lexer": "ipython3",
   "version": "3.7.1"
  }
 },
 "nbformat": 4,
 "nbformat_minor": 2
}
