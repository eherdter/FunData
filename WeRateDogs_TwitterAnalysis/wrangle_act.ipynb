{
 "cells": [
  {
   "cell_type": "markdown",
   "metadata": {},
   "source": [
    "# Gather and Wrangle: We Rate Dogs Twitter Archive\n"
   ]
  },
  {
   "cell_type": "markdown",
   "metadata": {},
   "source": [
    "**The goal of this project is to gather and clean data from the We Rate Dogs twitter acount. **\n",
    "\n",
    "**The three datasets are:**\n",
    "1. The twitter archive of WeRateDogs\n",
    "2. Tweet image predictions of the dogs in the pictures according to a neural network\n",
    "3. Each tweets favorite and retweet counts\n",
    "\n",
    "**The three data sets will be downloaded in different ways:**\n",
    "1. Twitter archive - Manually downloaded\n",
    "2. Tweet image predictions-Programatically downloaded with the python requests library\n",
    "3. Tweet favorite and retweet counts - Obtained from the Twitter API. "
   ]
  },
  {
   "cell_type": "markdown",
   "metadata": {},
   "source": [
    "First load required packaged. Pandas for Pandas library, requests to load things programmatically with a url,\n",
    "tweepy to access twitter API (this first needs to be installed in your ipython environment via pip install tweepy) and os to access parts of your operating system directory"
   ]
  },
  {
   "cell_type": "code",
   "execution_count": 6,
   "metadata": {},
   "outputs": [],
   "source": [
    "import pandas as pd\n",
    "import requests\n",
    "import tweepy\n",
    "import os \n",
    "%matplotlib inline"
   ]
  },
  {
   "cell_type": "markdown",
   "metadata": {},
   "source": [
    "**First load the data that were manually downloaded. These data were obtained from the WeRateDogs twitter account managers who downloaded these data and made it available for students in the class.**"
   ]
  },
  {
   "cell_type": "code",
   "execution_count": 7,
   "metadata": {},
   "outputs": [],
   "source": [
    "df_arch = pd.read_csv('Data/twitter-archive-enhanced.csv')"
   ]
  },
  {
   "cell_type": "markdown",
   "metadata": {},
   "source": [
    "**Now programmatically download the image prediction data.**"
   ]
  },
  {
   "cell_type": "code",
   "execution_count": 10,
   "metadata": {},
   "outputs": [],
   "source": [
    "#url of where the data are\n",
    "url = 'https://d17h27t6h515a5.cloudfront.net/topher/2017/August/599fd2ad_image-predictions/image-predictions.tsv'\n",
    "response = requests.get(url)\n",
    "\n",
    "#now save the file to the computer\n",
    "#put the data in the Data folder\n",
    "folder_name = 'Data'\n",
    "if not os.path.exists(folder_name):\n",
    "    os.makedirs(folder_name)\n",
    "    \n",
    "with open(os.path.join(folder_name, url.split('/')[-1]), mode='wb') as file:\n",
    "    file.write(response.content)"
   ]
  },
  {
   "cell_type": "code",
   "execution_count": null,
   "metadata": {},
   "outputs": [],
   "source": []
  }
 ],
 "metadata": {
  "kernelspec": {
   "display_name": "Python 3",
   "language": "python",
   "name": "python3"
  },
  "language_info": {
   "codemirror_mode": {
    "name": "ipython",
    "version": 3
   },
   "file_extension": ".py",
   "mimetype": "text/x-python",
   "name": "python",
   "nbconvert_exporter": "python",
   "pygments_lexer": "ipython3",
   "version": "3.7.1"
  }
 },
 "nbformat": 4,
 "nbformat_minor": 2
}
