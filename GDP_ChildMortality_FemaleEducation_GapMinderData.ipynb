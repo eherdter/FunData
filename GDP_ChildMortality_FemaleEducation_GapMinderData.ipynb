{
 "cells": [
  {
   "cell_type": "markdown",
   "metadata": {},
   "source": [
    "\n",
    "\n",
    "# Investigating GDP, child mortality, and female education around the globe using the Gapminder datasets. \n",
    "\n",
    "\n",
    "## Table of Contents\n",
    "<ul>\n",
    "<li><a href=\"#intro\">Introduction</a></li>\n",
    "<li><a href=\"#wrangling\">Data Wrangling</a></li>\n",
    "<li><a href=\"#eda\">Exploratory Data Analysis</a></li>\n",
    "<li><a href=\"#conclusions\">Conclusions</a></li>\n",
    "</ul>"
   ]
  },
  {
   "cell_type": "markdown",
   "metadata": {},
   "source": [
    "<a id='intro'></a>\n",
    "## Introduction\n",
    "\n",
    "For this project, we've been asked to perform exploratory data analysis using NumPy and Pandas and to use data visualization as a means to display some possible relationships among the datasets. These are only qualitative findings as they are not supported with any inferential statitics. But they provide an important first glance into the datasets and may provide strong foundation for future exploration and hypothesis testing. \n",
    "\n",
    "I chose to explore the Gapminder datasets. I chose three indicator datasets which I explore below. These are:\n",
    "1. Child mortality rate (child mortality of ages 0-5 dying per 1000 born)\n",
    "2. GDP per capita (Income per person adjusted for inflation)\n",
    "3. Education of women (average number of years of schooling women have had by the age range 35-44 years)\n",
    "\n",
    "I chose these datasets because I wanted to explore questions relating to the education rate of women around the world and how it relates to infant and child health and GDP? I chose the age range of 35-44 years because by the age of 35 most women around the world have already had at least 1 baby if not have at least 1 child who has already reached the age of 5. \n",
    "\n",
    "I will explore three primary questions. These are:  \n",
    "\n",
    "1. Which countries are in the low range, which countries are in the high range? \n",
    "> Which countries have highest GDP, lowest GDP?  \n",
    "> Which coutries have most educated women, least educated women?   \n",
    "> Which countries have highest child mortality, lowest child mortality?   \n",
    "\n",
    "2. Where have there been increases, where have these indicators been stagnant?\n",
    "> Where has GDP increased the most since 1970? Where has GDP growth been stagnant?  \n",
    "> Where has child mortality decreased the most since 1970? Where has child mortality been stagnant?  \n",
    "> Where has education rate of women increased the most since 1970? Where has it been stagnant?   \n",
    "\n",
    "3. What is the child mortality rate like in countries with highly educated women compared to those with uneducated women? \n",
    "> Do wealthier countries have more highly educated women?  \n",
    "> Do wealthier countries have lower child mortality?  \n",
    "> Do highly educated women have healthier babies/children?   \n",
    "\n",
    "Importantly, these data may have been updated by other sources but for consistency I chose a terminal year of 2015 for all datasets to make sure comparisons are comparable. "
   ]
  },
  {
   "cell_type": "markdown",
   "metadata": {},
   "source": [
    "<a id='wrangling'></a>\n",
    "## Data Wrangling\n",
    "\n",
    "\n",
    "\n",
    "### General Properties"
   ]
  },
  {
   "cell_type": "code",
   "execution_count": 260,
   "metadata": {},
   "outputs": [],
   "source": [
    "import pandas as pd\n",
    "import matplotlib.pyplot as plt\n",
    "%matplotlib inline\n",
    "\n",
    "pd.options.display.max_rows = 4000"
   ]
  },
  {
   "cell_type": "code",
   "execution_count": 261,
   "metadata": {},
   "outputs": [],
   "source": [
    "# Load data and print out a few lines. Perform operations to inspect data\n",
    "school = pd.read_csv('mean_years_in_school_women_35_to_44_years.csv')\n",
    "M = pd.read_csv('child_mortality_0_5_year_olds_dying_per_1000_born.csv')\n",
    "inc = pd.read_csv('income_per_person_gdppercapita_ppp_inflation_adjusted.csv')\n"
   ]
  },
  {
   "cell_type": "code",
   "execution_count": 262,
   "metadata": {},
   "outputs": [
    {
     "data": {
      "text/html": [
       "<div>\n",
       "<style scoped>\n",
       "    .dataframe tbody tr th:only-of-type {\n",
       "        vertical-align: middle;\n",
       "    }\n",
       "\n",
       "    .dataframe tbody tr th {\n",
       "        vertical-align: top;\n",
       "    }\n",
       "\n",
       "    .dataframe thead th {\n",
       "        text-align: right;\n",
       "    }\n",
       "</style>\n",
       "<table border=\"1\" class=\"dataframe\">\n",
       "  <thead>\n",
       "    <tr style=\"text-align: right;\">\n",
       "      <th></th>\n",
       "      <th>country</th>\n",
       "      <th>1970</th>\n",
       "      <th>1971</th>\n",
       "      <th>1972</th>\n",
       "      <th>1973</th>\n",
       "      <th>1974</th>\n",
       "      <th>1975</th>\n",
       "      <th>1976</th>\n",
       "      <th>1977</th>\n",
       "      <th>1978</th>\n",
       "      <th>...</th>\n",
       "      <th>2006</th>\n",
       "      <th>2007</th>\n",
       "      <th>2008</th>\n",
       "      <th>2009</th>\n",
       "      <th>2010</th>\n",
       "      <th>2011</th>\n",
       "      <th>2012</th>\n",
       "      <th>2013</th>\n",
       "      <th>2014</th>\n",
       "      <th>2015</th>\n",
       "    </tr>\n",
       "  </thead>\n",
       "  <tbody>\n",
       "    <tr>\n",
       "      <th>0</th>\n",
       "      <td>Afghanistan</td>\n",
       "      <td>0.15</td>\n",
       "      <td>0.16</td>\n",
       "      <td>0.16</td>\n",
       "      <td>0.17</td>\n",
       "      <td>0.18</td>\n",
       "      <td>0.18</td>\n",
       "      <td>0.19</td>\n",
       "      <td>0.20</td>\n",
       "      <td>0.20</td>\n",
       "      <td>...</td>\n",
       "      <td>0.54</td>\n",
       "      <td>0.56</td>\n",
       "      <td>0.58</td>\n",
       "      <td>0.60</td>\n",
       "      <td>0.62</td>\n",
       "      <td>0.64</td>\n",
       "      <td>0.67</td>\n",
       "      <td>0.69</td>\n",
       "      <td>0.71</td>\n",
       "      <td>0.74</td>\n",
       "    </tr>\n",
       "    <tr>\n",
       "      <th>1</th>\n",
       "      <td>Albania</td>\n",
       "      <td>5.04</td>\n",
       "      <td>5.16</td>\n",
       "      <td>5.29</td>\n",
       "      <td>5.43</td>\n",
       "      <td>5.56</td>\n",
       "      <td>5.70</td>\n",
       "      <td>5.83</td>\n",
       "      <td>5.97</td>\n",
       "      <td>6.12</td>\n",
       "      <td>...</td>\n",
       "      <td>10.50</td>\n",
       "      <td>10.70</td>\n",
       "      <td>10.80</td>\n",
       "      <td>11.00</td>\n",
       "      <td>11.20</td>\n",
       "      <td>11.30</td>\n",
       "      <td>11.50</td>\n",
       "      <td>11.70</td>\n",
       "      <td>11.80</td>\n",
       "      <td>12.00</td>\n",
       "    </tr>\n",
       "    <tr>\n",
       "      <th>2</th>\n",
       "      <td>Algeria</td>\n",
       "      <td>1.01</td>\n",
       "      <td>1.05</td>\n",
       "      <td>1.08</td>\n",
       "      <td>1.12</td>\n",
       "      <td>1.16</td>\n",
       "      <td>1.20</td>\n",
       "      <td>1.24</td>\n",
       "      <td>1.29</td>\n",
       "      <td>1.33</td>\n",
       "      <td>...</td>\n",
       "      <td>3.36</td>\n",
       "      <td>3.46</td>\n",
       "      <td>3.56</td>\n",
       "      <td>3.67</td>\n",
       "      <td>3.77</td>\n",
       "      <td>3.88</td>\n",
       "      <td>3.99</td>\n",
       "      <td>4.10</td>\n",
       "      <td>4.21</td>\n",
       "      <td>4.33</td>\n",
       "    </tr>\n",
       "    <tr>\n",
       "      <th>3</th>\n",
       "      <td>Andorra</td>\n",
       "      <td>6.68</td>\n",
       "      <td>6.83</td>\n",
       "      <td>6.98</td>\n",
       "      <td>7.14</td>\n",
       "      <td>7.29</td>\n",
       "      <td>7.45</td>\n",
       "      <td>7.61</td>\n",
       "      <td>7.77</td>\n",
       "      <td>7.93</td>\n",
       "      <td>...</td>\n",
       "      <td>12.60</td>\n",
       "      <td>12.70</td>\n",
       "      <td>12.90</td>\n",
       "      <td>13.00</td>\n",
       "      <td>13.20</td>\n",
       "      <td>13.30</td>\n",
       "      <td>13.50</td>\n",
       "      <td>13.60</td>\n",
       "      <td>13.80</td>\n",
       "      <td>13.90</td>\n",
       "    </tr>\n",
       "    <tr>\n",
       "      <th>4</th>\n",
       "      <td>Angola</td>\n",
       "      <td>1.12</td>\n",
       "      <td>1.16</td>\n",
       "      <td>1.20</td>\n",
       "      <td>1.24</td>\n",
       "      <td>1.28</td>\n",
       "      <td>1.32</td>\n",
       "      <td>1.36</td>\n",
       "      <td>1.41</td>\n",
       "      <td>1.45</td>\n",
       "      <td>...</td>\n",
       "      <td>3.50</td>\n",
       "      <td>3.60</td>\n",
       "      <td>3.71</td>\n",
       "      <td>3.81</td>\n",
       "      <td>3.92</td>\n",
       "      <td>4.03</td>\n",
       "      <td>4.14</td>\n",
       "      <td>4.26</td>\n",
       "      <td>4.37</td>\n",
       "      <td>4.49</td>\n",
       "    </tr>\n",
       "  </tbody>\n",
       "</table>\n",
       "<p>5 rows × 47 columns</p>\n",
       "</div>"
      ],
      "text/plain": [
       "       country  1970  1971  1972  1973  1974  1975  1976  1977  1978  ...    \\\n",
       "0  Afghanistan  0.15  0.16  0.16  0.17  0.18  0.18  0.19  0.20  0.20  ...     \n",
       "1      Albania  5.04  5.16  5.29  5.43  5.56  5.70  5.83  5.97  6.12  ...     \n",
       "2      Algeria  1.01  1.05  1.08  1.12  1.16  1.20  1.24  1.29  1.33  ...     \n",
       "3      Andorra  6.68  6.83  6.98  7.14  7.29  7.45  7.61  7.77  7.93  ...     \n",
       "4       Angola  1.12  1.16  1.20  1.24  1.28  1.32  1.36  1.41  1.45  ...     \n",
       "\n",
       "    2006   2007   2008   2009   2010   2011   2012   2013   2014   2015  \n",
       "0   0.54   0.56   0.58   0.60   0.62   0.64   0.67   0.69   0.71   0.74  \n",
       "1  10.50  10.70  10.80  11.00  11.20  11.30  11.50  11.70  11.80  12.00  \n",
       "2   3.36   3.46   3.56   3.67   3.77   3.88   3.99   4.10   4.21   4.33  \n",
       "3  12.60  12.70  12.90  13.00  13.20  13.30  13.50  13.60  13.80  13.90  \n",
       "4   3.50   3.60   3.71   3.81   3.92   4.03   4.14   4.26   4.37   4.49  \n",
       "\n",
       "[5 rows x 47 columns]"
      ]
     },
     "execution_count": 262,
     "metadata": {},
     "output_type": "execute_result"
    }
   ],
   "source": [
    "school.head(5)"
   ]
  },
  {
   "cell_type": "code",
   "execution_count": 263,
   "metadata": {},
   "outputs": [
    {
     "data": {
      "text/html": [
       "<div>\n",
       "<style scoped>\n",
       "    .dataframe tbody tr th:only-of-type {\n",
       "        vertical-align: middle;\n",
       "    }\n",
       "\n",
       "    .dataframe tbody tr th {\n",
       "        vertical-align: top;\n",
       "    }\n",
       "\n",
       "    .dataframe thead th {\n",
       "        text-align: right;\n",
       "    }\n",
       "</style>\n",
       "<table border=\"1\" class=\"dataframe\">\n",
       "  <thead>\n",
       "    <tr style=\"text-align: right;\">\n",
       "      <th></th>\n",
       "      <th>country</th>\n",
       "      <th>1800</th>\n",
       "      <th>1801</th>\n",
       "      <th>1802</th>\n",
       "      <th>1803</th>\n",
       "      <th>1804</th>\n",
       "      <th>1805</th>\n",
       "      <th>1806</th>\n",
       "      <th>1807</th>\n",
       "      <th>1808</th>\n",
       "      <th>...</th>\n",
       "      <th>2009</th>\n",
       "      <th>2010</th>\n",
       "      <th>2011</th>\n",
       "      <th>2012</th>\n",
       "      <th>2013</th>\n",
       "      <th>2014</th>\n",
       "      <th>2015</th>\n",
       "      <th>2016</th>\n",
       "      <th>2017</th>\n",
       "      <th>2018</th>\n",
       "    </tr>\n",
       "  </thead>\n",
       "  <tbody>\n",
       "    <tr>\n",
       "      <th>0</th>\n",
       "      <td>Afghanistan</td>\n",
       "      <td>469.0</td>\n",
       "      <td>469.0</td>\n",
       "      <td>469.0</td>\n",
       "      <td>469.0</td>\n",
       "      <td>469.0</td>\n",
       "      <td>469.0</td>\n",
       "      <td>470.0</td>\n",
       "      <td>470.0</td>\n",
       "      <td>470.0</td>\n",
       "      <td>...</td>\n",
       "      <td>94.1</td>\n",
       "      <td>90.2</td>\n",
       "      <td>86.4</td>\n",
       "      <td>82.8</td>\n",
       "      <td>79.3</td>\n",
       "      <td>76.1</td>\n",
       "      <td>73.2</td>\n",
       "      <td>70.4</td>\n",
       "      <td>68.2</td>\n",
       "      <td>65.9</td>\n",
       "    </tr>\n",
       "    <tr>\n",
       "      <th>1</th>\n",
       "      <td>Albania</td>\n",
       "      <td>375.0</td>\n",
       "      <td>375.0</td>\n",
       "      <td>375.0</td>\n",
       "      <td>375.0</td>\n",
       "      <td>375.0</td>\n",
       "      <td>375.0</td>\n",
       "      <td>375.0</td>\n",
       "      <td>375.0</td>\n",
       "      <td>375.0</td>\n",
       "      <td>...</td>\n",
       "      <td>17.2</td>\n",
       "      <td>16.6</td>\n",
       "      <td>16.0</td>\n",
       "      <td>15.4</td>\n",
       "      <td>14.9</td>\n",
       "      <td>14.4</td>\n",
       "      <td>14.0</td>\n",
       "      <td>13.5</td>\n",
       "      <td>13.3</td>\n",
       "      <td>12.9</td>\n",
       "    </tr>\n",
       "    <tr>\n",
       "      <th>2</th>\n",
       "      <td>Algeria</td>\n",
       "      <td>460.0</td>\n",
       "      <td>460.0</td>\n",
       "      <td>460.0</td>\n",
       "      <td>460.0</td>\n",
       "      <td>460.0</td>\n",
       "      <td>460.0</td>\n",
       "      <td>460.0</td>\n",
       "      <td>460.0</td>\n",
       "      <td>460.0</td>\n",
       "      <td>...</td>\n",
       "      <td>28.3</td>\n",
       "      <td>27.3</td>\n",
       "      <td>26.6</td>\n",
       "      <td>26.1</td>\n",
       "      <td>25.8</td>\n",
       "      <td>25.6</td>\n",
       "      <td>25.5</td>\n",
       "      <td>25.2</td>\n",
       "      <td>23.9</td>\n",
       "      <td>23.1</td>\n",
       "    </tr>\n",
       "    <tr>\n",
       "      <th>3</th>\n",
       "      <td>Andorra</td>\n",
       "      <td>NaN</td>\n",
       "      <td>NaN</td>\n",
       "      <td>NaN</td>\n",
       "      <td>NaN</td>\n",
       "      <td>NaN</td>\n",
       "      <td>NaN</td>\n",
       "      <td>NaN</td>\n",
       "      <td>NaN</td>\n",
       "      <td>NaN</td>\n",
       "      <td>...</td>\n",
       "      <td>3.4</td>\n",
       "      <td>3.3</td>\n",
       "      <td>3.2</td>\n",
       "      <td>3.1</td>\n",
       "      <td>3.0</td>\n",
       "      <td>2.9</td>\n",
       "      <td>2.8</td>\n",
       "      <td>2.7</td>\n",
       "      <td>NaN</td>\n",
       "      <td>NaN</td>\n",
       "    </tr>\n",
       "    <tr>\n",
       "      <th>4</th>\n",
       "      <td>Angola</td>\n",
       "      <td>486.0</td>\n",
       "      <td>486.0</td>\n",
       "      <td>486.0</td>\n",
       "      <td>486.0</td>\n",
       "      <td>486.0</td>\n",
       "      <td>486.0</td>\n",
       "      <td>486.0</td>\n",
       "      <td>486.0</td>\n",
       "      <td>486.0</td>\n",
       "      <td>...</td>\n",
       "      <td>128.0</td>\n",
       "      <td>119.0</td>\n",
       "      <td>111.0</td>\n",
       "      <td>104.0</td>\n",
       "      <td>96.8</td>\n",
       "      <td>91.2</td>\n",
       "      <td>86.5</td>\n",
       "      <td>82.5</td>\n",
       "      <td>83.1</td>\n",
       "      <td>81.6</td>\n",
       "    </tr>\n",
       "  </tbody>\n",
       "</table>\n",
       "<p>5 rows × 220 columns</p>\n",
       "</div>"
      ],
      "text/plain": [
       "       country   1800   1801   1802   1803   1804   1805   1806   1807   1808  \\\n",
       "0  Afghanistan  469.0  469.0  469.0  469.0  469.0  469.0  470.0  470.0  470.0   \n",
       "1      Albania  375.0  375.0  375.0  375.0  375.0  375.0  375.0  375.0  375.0   \n",
       "2      Algeria  460.0  460.0  460.0  460.0  460.0  460.0  460.0  460.0  460.0   \n",
       "3      Andorra    NaN    NaN    NaN    NaN    NaN    NaN    NaN    NaN    NaN   \n",
       "4       Angola  486.0  486.0  486.0  486.0  486.0  486.0  486.0  486.0  486.0   \n",
       "\n",
       "   ...    2009   2010   2011   2012  2013  2014  2015  2016  2017  2018  \n",
       "0  ...    94.1   90.2   86.4   82.8  79.3  76.1  73.2  70.4  68.2  65.9  \n",
       "1  ...    17.2   16.6   16.0   15.4  14.9  14.4  14.0  13.5  13.3  12.9  \n",
       "2  ...    28.3   27.3   26.6   26.1  25.8  25.6  25.5  25.2  23.9  23.1  \n",
       "3  ...     3.4    3.3    3.2    3.1   3.0   2.9   2.8   2.7   NaN   NaN  \n",
       "4  ...   128.0  119.0  111.0  104.0  96.8  91.2  86.5  82.5  83.1  81.6  \n",
       "\n",
       "[5 rows x 220 columns]"
      ]
     },
     "execution_count": 263,
     "metadata": {},
     "output_type": "execute_result"
    }
   ],
   "source": [
    "M.head(5)"
   ]
  },
  {
   "cell_type": "code",
   "execution_count": 264,
   "metadata": {},
   "outputs": [
    {
     "data": {
      "text/html": [
       "<div>\n",
       "<style scoped>\n",
       "    .dataframe tbody tr th:only-of-type {\n",
       "        vertical-align: middle;\n",
       "    }\n",
       "\n",
       "    .dataframe tbody tr th {\n",
       "        vertical-align: top;\n",
       "    }\n",
       "\n",
       "    .dataframe thead th {\n",
       "        text-align: right;\n",
       "    }\n",
       "</style>\n",
       "<table border=\"1\" class=\"dataframe\">\n",
       "  <thead>\n",
       "    <tr style=\"text-align: right;\">\n",
       "      <th></th>\n",
       "      <th>country</th>\n",
       "      <th>1800</th>\n",
       "      <th>1801</th>\n",
       "      <th>1802</th>\n",
       "      <th>1803</th>\n",
       "      <th>1804</th>\n",
       "      <th>1805</th>\n",
       "      <th>1806</th>\n",
       "      <th>1807</th>\n",
       "      <th>1808</th>\n",
       "      <th>...</th>\n",
       "      <th>2031</th>\n",
       "      <th>2032</th>\n",
       "      <th>2033</th>\n",
       "      <th>2034</th>\n",
       "      <th>2035</th>\n",
       "      <th>2036</th>\n",
       "      <th>2037</th>\n",
       "      <th>2038</th>\n",
       "      <th>2039</th>\n",
       "      <th>2040</th>\n",
       "    </tr>\n",
       "  </thead>\n",
       "  <tbody>\n",
       "    <tr>\n",
       "      <th>0</th>\n",
       "      <td>Afghanistan</td>\n",
       "      <td>603</td>\n",
       "      <td>603</td>\n",
       "      <td>603</td>\n",
       "      <td>603</td>\n",
       "      <td>603</td>\n",
       "      <td>603</td>\n",
       "      <td>603</td>\n",
       "      <td>603</td>\n",
       "      <td>603</td>\n",
       "      <td>...</td>\n",
       "      <td>2420</td>\n",
       "      <td>2470</td>\n",
       "      <td>2520</td>\n",
       "      <td>2580</td>\n",
       "      <td>2640</td>\n",
       "      <td>2700</td>\n",
       "      <td>2760</td>\n",
       "      <td>2820</td>\n",
       "      <td>2880</td>\n",
       "      <td>2940</td>\n",
       "    </tr>\n",
       "    <tr>\n",
       "      <th>1</th>\n",
       "      <td>Albania</td>\n",
       "      <td>667</td>\n",
       "      <td>667</td>\n",
       "      <td>667</td>\n",
       "      <td>667</td>\n",
       "      <td>667</td>\n",
       "      <td>668</td>\n",
       "      <td>668</td>\n",
       "      <td>668</td>\n",
       "      <td>668</td>\n",
       "      <td>...</td>\n",
       "      <td>18500</td>\n",
       "      <td>18900</td>\n",
       "      <td>19300</td>\n",
       "      <td>19700</td>\n",
       "      <td>20200</td>\n",
       "      <td>20600</td>\n",
       "      <td>21100</td>\n",
       "      <td>21500</td>\n",
       "      <td>22000</td>\n",
       "      <td>22500</td>\n",
       "    </tr>\n",
       "    <tr>\n",
       "      <th>2</th>\n",
       "      <td>Algeria</td>\n",
       "      <td>715</td>\n",
       "      <td>716</td>\n",
       "      <td>717</td>\n",
       "      <td>718</td>\n",
       "      <td>719</td>\n",
       "      <td>720</td>\n",
       "      <td>721</td>\n",
       "      <td>722</td>\n",
       "      <td>723</td>\n",
       "      <td>...</td>\n",
       "      <td>15600</td>\n",
       "      <td>15900</td>\n",
       "      <td>16300</td>\n",
       "      <td>16700</td>\n",
       "      <td>17000</td>\n",
       "      <td>17400</td>\n",
       "      <td>17800</td>\n",
       "      <td>18200</td>\n",
       "      <td>18600</td>\n",
       "      <td>19000</td>\n",
       "    </tr>\n",
       "    <tr>\n",
       "      <th>3</th>\n",
       "      <td>Andorra</td>\n",
       "      <td>1200</td>\n",
       "      <td>1200</td>\n",
       "      <td>1200</td>\n",
       "      <td>1200</td>\n",
       "      <td>1210</td>\n",
       "      <td>1210</td>\n",
       "      <td>1210</td>\n",
       "      <td>1210</td>\n",
       "      <td>1220</td>\n",
       "      <td>...</td>\n",
       "      <td>73200</td>\n",
       "      <td>74800</td>\n",
       "      <td>76400</td>\n",
       "      <td>78100</td>\n",
       "      <td>79900</td>\n",
       "      <td>81600</td>\n",
       "      <td>83400</td>\n",
       "      <td>85300</td>\n",
       "      <td>87200</td>\n",
       "      <td>89100</td>\n",
       "    </tr>\n",
       "    <tr>\n",
       "      <th>4</th>\n",
       "      <td>Angola</td>\n",
       "      <td>618</td>\n",
       "      <td>620</td>\n",
       "      <td>623</td>\n",
       "      <td>626</td>\n",
       "      <td>628</td>\n",
       "      <td>631</td>\n",
       "      <td>634</td>\n",
       "      <td>637</td>\n",
       "      <td>640</td>\n",
       "      <td>...</td>\n",
       "      <td>6270</td>\n",
       "      <td>6410</td>\n",
       "      <td>6550</td>\n",
       "      <td>6700</td>\n",
       "      <td>6850</td>\n",
       "      <td>7000</td>\n",
       "      <td>7150</td>\n",
       "      <td>7310</td>\n",
       "      <td>7470</td>\n",
       "      <td>7640</td>\n",
       "    </tr>\n",
       "  </tbody>\n",
       "</table>\n",
       "<p>5 rows × 242 columns</p>\n",
       "</div>"
      ],
      "text/plain": [
       "       country  1800  1801  1802  1803  1804  1805  1806  1807  1808  ...    \\\n",
       "0  Afghanistan   603   603   603   603   603   603   603   603   603  ...     \n",
       "1      Albania   667   667   667   667   667   668   668   668   668  ...     \n",
       "2      Algeria   715   716   717   718   719   720   721   722   723  ...     \n",
       "3      Andorra  1200  1200  1200  1200  1210  1210  1210  1210  1220  ...     \n",
       "4       Angola   618   620   623   626   628   631   634   637   640  ...     \n",
       "\n",
       "    2031   2032   2033   2034   2035   2036   2037   2038   2039   2040  \n",
       "0   2420   2470   2520   2580   2640   2700   2760   2820   2880   2940  \n",
       "1  18500  18900  19300  19700  20200  20600  21100  21500  22000  22500  \n",
       "2  15600  15900  16300  16700  17000  17400  17800  18200  18600  19000  \n",
       "3  73200  74800  76400  78100  79900  81600  83400  85300  87200  89100  \n",
       "4   6270   6410   6550   6700   6850   7000   7150   7310   7470   7640  \n",
       "\n",
       "[5 rows x 242 columns]"
      ]
     },
     "execution_count": 264,
     "metadata": {},
     "output_type": "execute_result"
    }
   ],
   "source": [
    "inc.head(5)"
   ]
  },
  {
   "cell_type": "markdown",
   "metadata": {},
   "source": [
    "**What are the dimensions of each?**"
   ]
  },
  {
   "cell_type": "code",
   "execution_count": 265,
   "metadata": {},
   "outputs": [
    {
     "data": {
      "text/plain": [
       "(187, 47)"
      ]
     },
     "execution_count": 265,
     "metadata": {},
     "output_type": "execute_result"
    }
   ],
   "source": [
    "school.shape"
   ]
  },
  {
   "cell_type": "code",
   "execution_count": 266,
   "metadata": {},
   "outputs": [
    {
     "data": {
      "text/plain": [
       "(193, 220)"
      ]
     },
     "execution_count": 266,
     "metadata": {},
     "output_type": "execute_result"
    }
   ],
   "source": [
    "M.shape"
   ]
  },
  {
   "cell_type": "code",
   "execution_count": 267,
   "metadata": {},
   "outputs": [
    {
     "data": {
      "text/plain": [
       "(193, 242)"
      ]
     },
     "execution_count": 267,
     "metadata": {},
     "output_type": "execute_result"
    }
   ],
   "source": [
    "inc.shape"
   ]
  },
  {
   "cell_type": "markdown",
   "metadata": {},
   "source": [
    "**Looks like there are some inconsistences in total years (columns) in each dataset as well as the the countries (rows). Now check to see if there are any missing values?**\n",
    "https://stackoverflow.com/questions/43427564/display-all-informations-with-data-info-in-python"
   ]
  },
  {
   "cell_type": "code",
   "execution_count": 268,
   "metadata": {},
   "outputs": [
    {
     "name": "stdout",
     "output_type": "stream",
     "text": [
      "<class 'pandas.core.frame.DataFrame'>\n",
      "RangeIndex: 187 entries, 0 to 186\n",
      "Data columns (total 47 columns):\n",
      "country    187 non-null object\n",
      "1970       187 non-null float64\n",
      "1971       187 non-null float64\n",
      "1972       187 non-null float64\n",
      "1973       187 non-null float64\n",
      "1974       187 non-null float64\n",
      "1975       187 non-null float64\n",
      "1976       187 non-null float64\n",
      "1977       187 non-null float64\n",
      "1978       187 non-null float64\n",
      "1979       187 non-null float64\n",
      "1980       187 non-null float64\n",
      "1981       187 non-null float64\n",
      "1982       187 non-null float64\n",
      "1983       187 non-null float64\n",
      "1984       187 non-null float64\n",
      "1985       187 non-null float64\n",
      "1986       187 non-null float64\n",
      "1987       187 non-null float64\n",
      "1988       187 non-null float64\n",
      "1989       187 non-null float64\n",
      "1990       187 non-null float64\n",
      "1991       187 non-null float64\n",
      "1992       187 non-null float64\n",
      "1993       187 non-null float64\n",
      "1994       187 non-null float64\n",
      "1995       187 non-null float64\n",
      "1996       187 non-null float64\n",
      "1997       187 non-null float64\n",
      "1998       187 non-null float64\n",
      "1999       187 non-null float64\n",
      "2000       187 non-null float64\n",
      "2001       187 non-null float64\n",
      "2002       187 non-null float64\n",
      "2003       187 non-null float64\n",
      "2004       187 non-null float64\n",
      "2005       187 non-null float64\n",
      "2006       187 non-null float64\n",
      "2007       187 non-null float64\n",
      "2008       187 non-null float64\n",
      "2009       187 non-null float64\n",
      "2010       187 non-null float64\n",
      "2011       187 non-null float64\n",
      "2012       187 non-null float64\n",
      "2013       187 non-null float64\n",
      "2014       187 non-null float64\n",
      "2015       187 non-null float64\n",
      "dtypes: float64(46), object(1)\n",
      "memory usage: 68.7+ KB\n"
     ]
    }
   ],
   "source": [
    "school.info()"
   ]
  },
  {
   "cell_type": "code",
   "execution_count": 269,
   "metadata": {},
   "outputs": [
    {
     "name": "stdout",
     "output_type": "stream",
     "text": [
      "<class 'pandas.core.frame.DataFrame'>\n",
      "RangeIndex: 193 entries, 0 to 192\n",
      "Data columns (total 220 columns):\n",
      "country    193 non-null object\n",
      "1800       184 non-null float64\n",
      "1801       184 non-null float64\n",
      "1802       184 non-null float64\n",
      "1803       184 non-null float64\n",
      "1804       184 non-null float64\n",
      "1805       184 non-null float64\n",
      "1806       184 non-null float64\n",
      "1807       184 non-null float64\n",
      "1808       184 non-null float64\n",
      "1809       184 non-null float64\n",
      "1810       184 non-null float64\n",
      "1811       184 non-null float64\n",
      "1812       184 non-null float64\n",
      "1813       184 non-null float64\n",
      "1814       184 non-null float64\n",
      "1815       184 non-null float64\n",
      "1816       184 non-null float64\n",
      "1817       184 non-null float64\n",
      "1818       184 non-null float64\n",
      "1819       184 non-null float64\n",
      "1820       184 non-null float64\n",
      "1821       184 non-null float64\n",
      "1822       184 non-null float64\n",
      "1823       184 non-null float64\n",
      "1824       184 non-null float64\n",
      "1825       184 non-null float64\n",
      "1826       184 non-null float64\n",
      "1827       184 non-null float64\n",
      "1828       184 non-null float64\n",
      "1829       184 non-null float64\n",
      "1830       184 non-null float64\n",
      "1831       184 non-null float64\n",
      "1832       184 non-null float64\n",
      "1833       184 non-null float64\n",
      "1834       184 non-null float64\n",
      "1835       184 non-null float64\n",
      "1836       184 non-null float64\n",
      "1837       184 non-null float64\n",
      "1838       184 non-null float64\n",
      "1839       184 non-null float64\n",
      "1840       184 non-null float64\n",
      "1841       184 non-null float64\n",
      "1842       184 non-null float64\n",
      "1843       184 non-null float64\n",
      "1844       184 non-null float64\n",
      "1845       184 non-null float64\n",
      "1846       184 non-null float64\n",
      "1847       184 non-null float64\n",
      "1848       184 non-null float64\n",
      "1849       184 non-null float64\n",
      "1850       184 non-null float64\n",
      "1851       184 non-null float64\n",
      "1852       184 non-null float64\n",
      "1853       184 non-null float64\n",
      "1854       184 non-null float64\n",
      "1855       184 non-null float64\n",
      "1856       184 non-null float64\n",
      "1857       184 non-null float64\n",
      "1858       184 non-null float64\n",
      "1859       184 non-null float64\n",
      "1860       184 non-null float64\n",
      "1861       184 non-null float64\n",
      "1862       184 non-null float64\n",
      "1863       184 non-null float64\n",
      "1864       184 non-null float64\n",
      "1865       184 non-null float64\n",
      "1866       184 non-null float64\n",
      "1867       184 non-null float64\n",
      "1868       184 non-null float64\n",
      "1869       184 non-null float64\n",
      "1870       184 non-null float64\n",
      "1871       184 non-null float64\n",
      "1872       184 non-null float64\n",
      "1873       184 non-null float64\n",
      "1874       184 non-null float64\n",
      "1875       184 non-null float64\n",
      "1876       184 non-null float64\n",
      "1877       184 non-null float64\n",
      "1878       184 non-null float64\n",
      "1879       184 non-null float64\n",
      "1880       184 non-null float64\n",
      "1881       184 non-null float64\n",
      "1882       184 non-null float64\n",
      "1883       184 non-null float64\n",
      "1884       184 non-null float64\n",
      "1885       184 non-null float64\n",
      "1886       184 non-null float64\n",
      "1887       184 non-null float64\n",
      "1888       184 non-null float64\n",
      "1889       184 non-null float64\n",
      "1890       184 non-null float64\n",
      "1891       184 non-null float64\n",
      "1892       184 non-null float64\n",
      "1893       184 non-null float64\n",
      "1894       184 non-null float64\n",
      "1895       184 non-null float64\n",
      "1896       184 non-null float64\n",
      "1897       184 non-null float64\n",
      "1898       184 non-null float64\n",
      "1899       184 non-null float64\n",
      "1900       184 non-null float64\n",
      "1901       184 non-null float64\n",
      "1902       184 non-null float64\n",
      "1903       184 non-null float64\n",
      "1904       184 non-null float64\n",
      "1905       184 non-null float64\n",
      "1906       184 non-null float64\n",
      "1907       184 non-null float64\n",
      "1908       184 non-null float64\n",
      "1909       184 non-null float64\n",
      "1910       184 non-null float64\n",
      "1911       184 non-null float64\n",
      "1912       184 non-null float64\n",
      "1913       184 non-null float64\n",
      "1914       184 non-null float64\n",
      "1915       184 non-null float64\n",
      "1916       184 non-null float64\n",
      "1917       184 non-null float64\n",
      "1918       184 non-null float64\n",
      "1919       184 non-null float64\n",
      "1920       184 non-null float64\n",
      "1921       184 non-null float64\n",
      "1922       184 non-null float64\n",
      "1923       184 non-null float64\n",
      "1924       184 non-null float64\n",
      "1925       184 non-null float64\n",
      "1926       184 non-null float64\n",
      "1927       184 non-null float64\n",
      "1928       184 non-null float64\n",
      "1929       184 non-null float64\n",
      "1930       184 non-null float64\n",
      "1931       184 non-null float64\n",
      "1932       184 non-null float64\n",
      "1933       184 non-null float64\n",
      "1934       184 non-null float64\n",
      "1935       184 non-null float64\n",
      "1936       184 non-null float64\n",
      "1937       184 non-null float64\n",
      "1938       184 non-null float64\n",
      "1939       184 non-null float64\n",
      "1940       184 non-null float64\n",
      "1941       184 non-null float64\n",
      "1942       184 non-null float64\n",
      "1943       184 non-null float64\n",
      "1944       184 non-null float64\n",
      "1945       184 non-null float64\n",
      "1946       184 non-null float64\n",
      "1947       184 non-null float64\n",
      "1948       184 non-null float64\n",
      "1949       184 non-null float64\n",
      "1950       184 non-null float64\n",
      "1951       184 non-null float64\n",
      "1952       184 non-null float64\n",
      "1953       184 non-null float64\n",
      "1954       184 non-null float64\n",
      "1955       184 non-null float64\n",
      "1956       184 non-null float64\n",
      "1957       184 non-null float64\n",
      "1958       184 non-null float64\n",
      "1959       185 non-null float64\n",
      "1960       186 non-null float64\n",
      "1961       186 non-null float64\n",
      "1962       186 non-null float64\n",
      "1963       186 non-null float64\n",
      "1964       186 non-null float64\n",
      "1965       186 non-null float64\n",
      "1966       186 non-null float64\n",
      "1967       186 non-null float64\n",
      "1968       186 non-null float64\n",
      "1969       186 non-null float64\n",
      "1970       187 non-null float64\n",
      "1971       187 non-null float64\n",
      "1972       187 non-null float64\n",
      "1973       187 non-null float64\n",
      "1974       187 non-null float64\n",
      "1975       188 non-null float64\n",
      "1976       188 non-null float64\n",
      "1977       188 non-null float64\n",
      "1978       188 non-null float64\n",
      "1979       188 non-null float64\n",
      "1980       188 non-null float64\n",
      "1981       188 non-null float64\n",
      "1982       188 non-null float64\n",
      "1983       188 non-null float64\n",
      "1984       189 non-null float64\n",
      "1985       193 non-null float64\n",
      "1986       193 non-null float64\n",
      "1987       193 non-null float64\n",
      "1988       193 non-null float64\n",
      "1989       193 non-null float64\n",
      "1990       193 non-null float64\n",
      "1991       193 non-null float64\n",
      "1992       193 non-null float64\n",
      "1993       193 non-null float64\n",
      "1994       193 non-null float64\n",
      "1995       193 non-null float64\n",
      "1996       193 non-null float64\n",
      "1997       193 non-null float64\n",
      "1998       193 non-null float64\n",
      "1999       193 non-null float64\n",
      "2000       193 non-null float64\n",
      "2001       193 non-null float64\n",
      "2002       193 non-null float64\n",
      "2003       193 non-null float64\n",
      "2004       193 non-null float64\n",
      "2005       193 non-null float64\n",
      "2006       193 non-null float64\n",
      "2007       193 non-null float64\n",
      "2008       193 non-null float64\n",
      "2009       193 non-null float64\n",
      "2010       193 non-null float64\n",
      "2011       193 non-null float64\n",
      "2012       193 non-null float64\n",
      "2013       193 non-null float64\n",
      "2014       193 non-null float64\n",
      "2015       193 non-null float64\n",
      "2016       193 non-null float64\n",
      "2017       183 non-null float64\n",
      "2018       183 non-null float64\n",
      "dtypes: float64(219), object(1)\n",
      "memory usage: 331.8+ KB\n"
     ]
    }
   ],
   "source": [
    "M.info(verbose=True, null_counts=True)"
   ]
  },
  {
   "cell_type": "code",
   "execution_count": 270,
   "metadata": {},
   "outputs": [
    {
     "name": "stdout",
     "output_type": "stream",
     "text": [
      "<class 'pandas.core.frame.DataFrame'>\n",
      "RangeIndex: 193 entries, 0 to 192\n",
      "Data columns (total 242 columns):\n",
      "country    193 non-null object\n",
      "1800       193 non-null int64\n",
      "1801       193 non-null int64\n",
      "1802       193 non-null int64\n",
      "1803       193 non-null int64\n",
      "1804       193 non-null int64\n",
      "1805       193 non-null int64\n",
      "1806       193 non-null int64\n",
      "1807       193 non-null int64\n",
      "1808       193 non-null int64\n",
      "1809       193 non-null int64\n",
      "1810       193 non-null int64\n",
      "1811       193 non-null int64\n",
      "1812       193 non-null int64\n",
      "1813       193 non-null int64\n",
      "1814       193 non-null int64\n",
      "1815       193 non-null int64\n",
      "1816       193 non-null int64\n",
      "1817       193 non-null int64\n",
      "1818       193 non-null int64\n",
      "1819       193 non-null int64\n",
      "1820       193 non-null int64\n",
      "1821       193 non-null int64\n",
      "1822       193 non-null int64\n",
      "1823       193 non-null int64\n",
      "1824       193 non-null int64\n",
      "1825       193 non-null int64\n",
      "1826       193 non-null int64\n",
      "1827       193 non-null int64\n",
      "1828       193 non-null int64\n",
      "1829       193 non-null int64\n",
      "1830       193 non-null int64\n",
      "1831       193 non-null int64\n",
      "1832       193 non-null int64\n",
      "1833       193 non-null int64\n",
      "1834       193 non-null int64\n",
      "1835       193 non-null int64\n",
      "1836       193 non-null int64\n",
      "1837       193 non-null int64\n",
      "1838       193 non-null int64\n",
      "1839       193 non-null int64\n",
      "1840       193 non-null int64\n",
      "1841       193 non-null int64\n",
      "1842       193 non-null int64\n",
      "1843       193 non-null int64\n",
      "1844       193 non-null int64\n",
      "1845       193 non-null int64\n",
      "1846       193 non-null int64\n",
      "1847       193 non-null int64\n",
      "1848       193 non-null int64\n",
      "1849       193 non-null int64\n",
      "1850       193 non-null int64\n",
      "1851       193 non-null int64\n",
      "1852       193 non-null int64\n",
      "1853       193 non-null int64\n",
      "1854       193 non-null int64\n",
      "1855       193 non-null int64\n",
      "1856       193 non-null int64\n",
      "1857       193 non-null int64\n",
      "1858       193 non-null int64\n",
      "1859       193 non-null int64\n",
      "1860       193 non-null int64\n",
      "1861       193 non-null int64\n",
      "1862       193 non-null int64\n",
      "1863       193 non-null int64\n",
      "1864       193 non-null int64\n",
      "1865       193 non-null int64\n",
      "1866       193 non-null int64\n",
      "1867       193 non-null int64\n",
      "1868       193 non-null int64\n",
      "1869       193 non-null int64\n",
      "1870       193 non-null int64\n",
      "1871       193 non-null int64\n",
      "1872       193 non-null int64\n",
      "1873       193 non-null int64\n",
      "1874       193 non-null int64\n",
      "1875       193 non-null int64\n",
      "1876       193 non-null int64\n",
      "1877       193 non-null int64\n",
      "1878       193 non-null int64\n",
      "1879       193 non-null int64\n",
      "1880       193 non-null int64\n",
      "1881       193 non-null int64\n",
      "1882       193 non-null int64\n",
      "1883       193 non-null int64\n",
      "1884       193 non-null int64\n",
      "1885       193 non-null int64\n",
      "1886       193 non-null int64\n",
      "1887       193 non-null int64\n",
      "1888       193 non-null int64\n",
      "1889       193 non-null int64\n",
      "1890       193 non-null int64\n",
      "1891       193 non-null int64\n",
      "1892       193 non-null int64\n",
      "1893       193 non-null int64\n",
      "1894       193 non-null int64\n",
      "1895       193 non-null int64\n",
      "1896       193 non-null int64\n",
      "1897       193 non-null int64\n",
      "1898       193 non-null int64\n",
      "1899       193 non-null int64\n",
      "1900       193 non-null int64\n",
      "1901       193 non-null int64\n",
      "1902       193 non-null int64\n",
      "1903       193 non-null int64\n",
      "1904       193 non-null int64\n",
      "1905       193 non-null int64\n",
      "1906       193 non-null int64\n",
      "1907       193 non-null int64\n",
      "1908       193 non-null int64\n",
      "1909       193 non-null int64\n",
      "1910       193 non-null int64\n",
      "1911       193 non-null int64\n",
      "1912       193 non-null int64\n",
      "1913       193 non-null int64\n",
      "1914       193 non-null int64\n",
      "1915       193 non-null int64\n",
      "1916       193 non-null int64\n",
      "1917       193 non-null int64\n",
      "1918       193 non-null int64\n",
      "1919       193 non-null int64\n",
      "1920       193 non-null int64\n",
      "1921       193 non-null int64\n",
      "1922       193 non-null int64\n",
      "1923       193 non-null int64\n",
      "1924       193 non-null int64\n",
      "1925       193 non-null int64\n",
      "1926       193 non-null int64\n",
      "1927       193 non-null int64\n",
      "1928       193 non-null int64\n",
      "1929       193 non-null int64\n",
      "1930       193 non-null int64\n",
      "1931       193 non-null int64\n",
      "1932       193 non-null int64\n",
      "1933       193 non-null int64\n",
      "1934       193 non-null int64\n",
      "1935       193 non-null int64\n",
      "1936       193 non-null int64\n",
      "1937       193 non-null int64\n",
      "1938       193 non-null int64\n",
      "1939       193 non-null int64\n",
      "1940       193 non-null int64\n",
      "1941       193 non-null int64\n",
      "1942       193 non-null int64\n",
      "1943       193 non-null int64\n",
      "1944       193 non-null int64\n",
      "1945       193 non-null int64\n",
      "1946       193 non-null int64\n",
      "1947       193 non-null int64\n",
      "1948       193 non-null int64\n",
      "1949       193 non-null int64\n",
      "1950       193 non-null int64\n",
      "1951       193 non-null int64\n",
      "1952       193 non-null int64\n",
      "1953       193 non-null int64\n",
      "1954       193 non-null int64\n",
      "1955       193 non-null int64\n",
      "1956       193 non-null int64\n",
      "1957       193 non-null int64\n",
      "1958       193 non-null int64\n",
      "1959       193 non-null int64\n",
      "1960       193 non-null int64\n",
      "1961       193 non-null int64\n",
      "1962       193 non-null int64\n",
      "1963       193 non-null int64\n",
      "1964       193 non-null int64\n",
      "1965       193 non-null int64\n",
      "1966       193 non-null int64\n",
      "1967       193 non-null int64\n",
      "1968       193 non-null int64\n",
      "1969       193 non-null int64\n",
      "1970       193 non-null int64\n",
      "1971       193 non-null int64\n",
      "1972       193 non-null int64\n",
      "1973       193 non-null int64\n",
      "1974       193 non-null int64\n",
      "1975       193 non-null int64\n",
      "1976       193 non-null int64\n",
      "1977       193 non-null int64\n",
      "1978       193 non-null int64\n",
      "1979       193 non-null int64\n",
      "1980       193 non-null int64\n",
      "1981       193 non-null int64\n",
      "1982       193 non-null int64\n",
      "1983       193 non-null int64\n",
      "1984       193 non-null int64\n",
      "1985       193 non-null int64\n",
      "1986       193 non-null int64\n",
      "1987       193 non-null int64\n",
      "1988       193 non-null int64\n",
      "1989       193 non-null int64\n",
      "1990       193 non-null int64\n",
      "1991       193 non-null int64\n",
      "1992       193 non-null int64\n",
      "1993       193 non-null int64\n",
      "1994       193 non-null int64\n",
      "1995       193 non-null int64\n",
      "1996       193 non-null int64\n",
      "1997       193 non-null int64\n",
      "1998       193 non-null int64\n",
      "1999       193 non-null int64\n",
      "2000       193 non-null int64\n",
      "2001       193 non-null int64\n",
      "2002       193 non-null int64\n",
      "2003       193 non-null int64\n",
      "2004       193 non-null int64\n",
      "2005       193 non-null int64\n",
      "2006       193 non-null int64\n",
      "2007       193 non-null int64\n",
      "2008       193 non-null int64\n",
      "2009       193 non-null int64\n",
      "2010       193 non-null int64\n",
      "2011       193 non-null int64\n",
      "2012       193 non-null int64\n",
      "2013       193 non-null int64\n",
      "2014       193 non-null int64\n",
      "2015       193 non-null int64\n",
      "2016       193 non-null int64\n",
      "2017       193 non-null int64\n",
      "2018       193 non-null int64\n",
      "2019       193 non-null int64\n",
      "2020       193 non-null int64\n",
      "2021       193 non-null int64\n",
      "2022       193 non-null int64\n",
      "2023       193 non-null int64\n",
      "2024       193 non-null int64\n",
      "2025       193 non-null int64\n",
      "2026       193 non-null int64\n",
      "2027       193 non-null int64\n",
      "2028       193 non-null int64\n",
      "2029       193 non-null int64\n",
      "2030       193 non-null int64\n",
      "2031       193 non-null int64\n",
      "2032       193 non-null int64\n",
      "2033       193 non-null int64\n",
      "2034       193 non-null int64\n",
      "2035       193 non-null int64\n",
      "2036       193 non-null int64\n",
      "2037       193 non-null int64\n",
      "2038       193 non-null int64\n",
      "2039       193 non-null int64\n",
      "2040       193 non-null int64\n",
      "dtypes: int64(241), object(1)\n",
      "memory usage: 365.0+ KB\n"
     ]
    }
   ],
   "source": [
    "inc.info(verbose=True, null_counts=True)"
   ]
  },
  {
   "cell_type": "markdown",
   "metadata": {},
   "source": [
    "**Looks like there are also some missing values. Let's check to make sure the datatype are ok.** "
   ]
  },
  {
   "cell_type": "code",
   "execution_count": 271,
   "metadata": {},
   "outputs": [
    {
     "data": {
      "text/plain": [
       "country    object\n",
       "1800        int64\n",
       "1801        int64\n",
       "1802        int64\n",
       "1803        int64\n",
       "1804        int64\n",
       "1805        int64\n",
       "1806        int64\n",
       "1807        int64\n",
       "1808        int64\n",
       "1809        int64\n",
       "1810        int64\n",
       "1811        int64\n",
       "1812        int64\n",
       "1813        int64\n",
       "1814        int64\n",
       "1815        int64\n",
       "1816        int64\n",
       "1817        int64\n",
       "1818        int64\n",
       "1819        int64\n",
       "1820        int64\n",
       "1821        int64\n",
       "1822        int64\n",
       "1823        int64\n",
       "1824        int64\n",
       "1825        int64\n",
       "1826        int64\n",
       "1827        int64\n",
       "1828        int64\n",
       "1829        int64\n",
       "1830        int64\n",
       "1831        int64\n",
       "1832        int64\n",
       "1833        int64\n",
       "1834        int64\n",
       "1835        int64\n",
       "1836        int64\n",
       "1837        int64\n",
       "1838        int64\n",
       "1839        int64\n",
       "1840        int64\n",
       "1841        int64\n",
       "1842        int64\n",
       "1843        int64\n",
       "1844        int64\n",
       "1845        int64\n",
       "1846        int64\n",
       "1847        int64\n",
       "1848        int64\n",
       "1849        int64\n",
       "1850        int64\n",
       "1851        int64\n",
       "1852        int64\n",
       "1853        int64\n",
       "1854        int64\n",
       "1855        int64\n",
       "1856        int64\n",
       "1857        int64\n",
       "1858        int64\n",
       "1859        int64\n",
       "1860        int64\n",
       "1861        int64\n",
       "1862        int64\n",
       "1863        int64\n",
       "1864        int64\n",
       "1865        int64\n",
       "1866        int64\n",
       "1867        int64\n",
       "1868        int64\n",
       "1869        int64\n",
       "1870        int64\n",
       "1871        int64\n",
       "1872        int64\n",
       "1873        int64\n",
       "1874        int64\n",
       "1875        int64\n",
       "1876        int64\n",
       "1877        int64\n",
       "1878        int64\n",
       "1879        int64\n",
       "1880        int64\n",
       "1881        int64\n",
       "1882        int64\n",
       "1883        int64\n",
       "1884        int64\n",
       "1885        int64\n",
       "1886        int64\n",
       "1887        int64\n",
       "1888        int64\n",
       "1889        int64\n",
       "1890        int64\n",
       "1891        int64\n",
       "1892        int64\n",
       "1893        int64\n",
       "1894        int64\n",
       "1895        int64\n",
       "1896        int64\n",
       "1897        int64\n",
       "1898        int64\n",
       "1899        int64\n",
       "1900        int64\n",
       "1901        int64\n",
       "1902        int64\n",
       "1903        int64\n",
       "1904        int64\n",
       "1905        int64\n",
       "1906        int64\n",
       "1907        int64\n",
       "1908        int64\n",
       "1909        int64\n",
       "1910        int64\n",
       "1911        int64\n",
       "1912        int64\n",
       "1913        int64\n",
       "1914        int64\n",
       "1915        int64\n",
       "1916        int64\n",
       "1917        int64\n",
       "1918        int64\n",
       "1919        int64\n",
       "1920        int64\n",
       "1921        int64\n",
       "1922        int64\n",
       "1923        int64\n",
       "1924        int64\n",
       "1925        int64\n",
       "1926        int64\n",
       "1927        int64\n",
       "1928        int64\n",
       "1929        int64\n",
       "1930        int64\n",
       "1931        int64\n",
       "1932        int64\n",
       "1933        int64\n",
       "1934        int64\n",
       "1935        int64\n",
       "1936        int64\n",
       "1937        int64\n",
       "1938        int64\n",
       "1939        int64\n",
       "1940        int64\n",
       "1941        int64\n",
       "1942        int64\n",
       "1943        int64\n",
       "1944        int64\n",
       "1945        int64\n",
       "1946        int64\n",
       "1947        int64\n",
       "1948        int64\n",
       "1949        int64\n",
       "1950        int64\n",
       "1951        int64\n",
       "1952        int64\n",
       "1953        int64\n",
       "1954        int64\n",
       "1955        int64\n",
       "1956        int64\n",
       "1957        int64\n",
       "1958        int64\n",
       "1959        int64\n",
       "1960        int64\n",
       "1961        int64\n",
       "1962        int64\n",
       "1963        int64\n",
       "1964        int64\n",
       "1965        int64\n",
       "1966        int64\n",
       "1967        int64\n",
       "1968        int64\n",
       "1969        int64\n",
       "1970        int64\n",
       "1971        int64\n",
       "1972        int64\n",
       "1973        int64\n",
       "1974        int64\n",
       "1975        int64\n",
       "1976        int64\n",
       "1977        int64\n",
       "1978        int64\n",
       "1979        int64\n",
       "1980        int64\n",
       "1981        int64\n",
       "1982        int64\n",
       "1983        int64\n",
       "1984        int64\n",
       "1985        int64\n",
       "1986        int64\n",
       "1987        int64\n",
       "1988        int64\n",
       "1989        int64\n",
       "1990        int64\n",
       "1991        int64\n",
       "1992        int64\n",
       "1993        int64\n",
       "1994        int64\n",
       "1995        int64\n",
       "1996        int64\n",
       "1997        int64\n",
       "1998        int64\n",
       "1999        int64\n",
       "2000        int64\n",
       "2001        int64\n",
       "2002        int64\n",
       "2003        int64\n",
       "2004        int64\n",
       "2005        int64\n",
       "2006        int64\n",
       "2007        int64\n",
       "2008        int64\n",
       "2009        int64\n",
       "2010        int64\n",
       "2011        int64\n",
       "2012        int64\n",
       "2013        int64\n",
       "2014        int64\n",
       "2015        int64\n",
       "2016        int64\n",
       "2017        int64\n",
       "2018        int64\n",
       "2019        int64\n",
       "2020        int64\n",
       "2021        int64\n",
       "2022        int64\n",
       "2023        int64\n",
       "2024        int64\n",
       "2025        int64\n",
       "2026        int64\n",
       "2027        int64\n",
       "2028        int64\n",
       "2029        int64\n",
       "2030        int64\n",
       "2031        int64\n",
       "2032        int64\n",
       "2033        int64\n",
       "2034        int64\n",
       "2035        int64\n",
       "2036        int64\n",
       "2037        int64\n",
       "2038        int64\n",
       "2039        int64\n",
       "2040        int64\n",
       "dtype: object"
      ]
     },
     "execution_count": 271,
     "metadata": {},
     "output_type": "execute_result"
    }
   ],
   "source": [
    "inc.dtypes"
   ]
  },
  {
   "cell_type": "code",
   "execution_count": 272,
   "metadata": {},
   "outputs": [
    {
     "data": {
      "text/plain": [
       "country     object\n",
       "1800       float64\n",
       "1801       float64\n",
       "1802       float64\n",
       "1803       float64\n",
       "1804       float64\n",
       "1805       float64\n",
       "1806       float64\n",
       "1807       float64\n",
       "1808       float64\n",
       "1809       float64\n",
       "1810       float64\n",
       "1811       float64\n",
       "1812       float64\n",
       "1813       float64\n",
       "1814       float64\n",
       "1815       float64\n",
       "1816       float64\n",
       "1817       float64\n",
       "1818       float64\n",
       "1819       float64\n",
       "1820       float64\n",
       "1821       float64\n",
       "1822       float64\n",
       "1823       float64\n",
       "1824       float64\n",
       "1825       float64\n",
       "1826       float64\n",
       "1827       float64\n",
       "1828       float64\n",
       "1829       float64\n",
       "1830       float64\n",
       "1831       float64\n",
       "1832       float64\n",
       "1833       float64\n",
       "1834       float64\n",
       "1835       float64\n",
       "1836       float64\n",
       "1837       float64\n",
       "1838       float64\n",
       "1839       float64\n",
       "1840       float64\n",
       "1841       float64\n",
       "1842       float64\n",
       "1843       float64\n",
       "1844       float64\n",
       "1845       float64\n",
       "1846       float64\n",
       "1847       float64\n",
       "1848       float64\n",
       "1849       float64\n",
       "1850       float64\n",
       "1851       float64\n",
       "1852       float64\n",
       "1853       float64\n",
       "1854       float64\n",
       "1855       float64\n",
       "1856       float64\n",
       "1857       float64\n",
       "1858       float64\n",
       "1859       float64\n",
       "1860       float64\n",
       "1861       float64\n",
       "1862       float64\n",
       "1863       float64\n",
       "1864       float64\n",
       "1865       float64\n",
       "1866       float64\n",
       "1867       float64\n",
       "1868       float64\n",
       "1869       float64\n",
       "1870       float64\n",
       "1871       float64\n",
       "1872       float64\n",
       "1873       float64\n",
       "1874       float64\n",
       "1875       float64\n",
       "1876       float64\n",
       "1877       float64\n",
       "1878       float64\n",
       "1879       float64\n",
       "1880       float64\n",
       "1881       float64\n",
       "1882       float64\n",
       "1883       float64\n",
       "1884       float64\n",
       "1885       float64\n",
       "1886       float64\n",
       "1887       float64\n",
       "1888       float64\n",
       "1889       float64\n",
       "1890       float64\n",
       "1891       float64\n",
       "1892       float64\n",
       "1893       float64\n",
       "1894       float64\n",
       "1895       float64\n",
       "1896       float64\n",
       "1897       float64\n",
       "1898       float64\n",
       "1899       float64\n",
       "1900       float64\n",
       "1901       float64\n",
       "1902       float64\n",
       "1903       float64\n",
       "1904       float64\n",
       "1905       float64\n",
       "1906       float64\n",
       "1907       float64\n",
       "1908       float64\n",
       "1909       float64\n",
       "1910       float64\n",
       "1911       float64\n",
       "1912       float64\n",
       "1913       float64\n",
       "1914       float64\n",
       "1915       float64\n",
       "1916       float64\n",
       "1917       float64\n",
       "1918       float64\n",
       "1919       float64\n",
       "1920       float64\n",
       "1921       float64\n",
       "1922       float64\n",
       "1923       float64\n",
       "1924       float64\n",
       "1925       float64\n",
       "1926       float64\n",
       "1927       float64\n",
       "1928       float64\n",
       "1929       float64\n",
       "1930       float64\n",
       "1931       float64\n",
       "1932       float64\n",
       "1933       float64\n",
       "1934       float64\n",
       "1935       float64\n",
       "1936       float64\n",
       "1937       float64\n",
       "1938       float64\n",
       "1939       float64\n",
       "1940       float64\n",
       "1941       float64\n",
       "1942       float64\n",
       "1943       float64\n",
       "1944       float64\n",
       "1945       float64\n",
       "1946       float64\n",
       "1947       float64\n",
       "1948       float64\n",
       "1949       float64\n",
       "1950       float64\n",
       "1951       float64\n",
       "1952       float64\n",
       "1953       float64\n",
       "1954       float64\n",
       "1955       float64\n",
       "1956       float64\n",
       "1957       float64\n",
       "1958       float64\n",
       "1959       float64\n",
       "1960       float64\n",
       "1961       float64\n",
       "1962       float64\n",
       "1963       float64\n",
       "1964       float64\n",
       "1965       float64\n",
       "1966       float64\n",
       "1967       float64\n",
       "1968       float64\n",
       "1969       float64\n",
       "1970       float64\n",
       "1971       float64\n",
       "1972       float64\n",
       "1973       float64\n",
       "1974       float64\n",
       "1975       float64\n",
       "1976       float64\n",
       "1977       float64\n",
       "1978       float64\n",
       "1979       float64\n",
       "1980       float64\n",
       "1981       float64\n",
       "1982       float64\n",
       "1983       float64\n",
       "1984       float64\n",
       "1985       float64\n",
       "1986       float64\n",
       "1987       float64\n",
       "1988       float64\n",
       "1989       float64\n",
       "1990       float64\n",
       "1991       float64\n",
       "1992       float64\n",
       "1993       float64\n",
       "1994       float64\n",
       "1995       float64\n",
       "1996       float64\n",
       "1997       float64\n",
       "1998       float64\n",
       "1999       float64\n",
       "2000       float64\n",
       "2001       float64\n",
       "2002       float64\n",
       "2003       float64\n",
       "2004       float64\n",
       "2005       float64\n",
       "2006       float64\n",
       "2007       float64\n",
       "2008       float64\n",
       "2009       float64\n",
       "2010       float64\n",
       "2011       float64\n",
       "2012       float64\n",
       "2013       float64\n",
       "2014       float64\n",
       "2015       float64\n",
       "2016       float64\n",
       "2017       float64\n",
       "2018       float64\n",
       "dtype: object"
      ]
     },
     "execution_count": 272,
     "metadata": {},
     "output_type": "execute_result"
    }
   ],
   "source": [
    "M.dtypes"
   ]
  },
  {
   "cell_type": "code",
   "execution_count": 273,
   "metadata": {},
   "outputs": [
    {
     "data": {
      "text/plain": [
       "country     object\n",
       "1970       float64\n",
       "1971       float64\n",
       "1972       float64\n",
       "1973       float64\n",
       "1974       float64\n",
       "1975       float64\n",
       "1976       float64\n",
       "1977       float64\n",
       "1978       float64\n",
       "1979       float64\n",
       "1980       float64\n",
       "1981       float64\n",
       "1982       float64\n",
       "1983       float64\n",
       "1984       float64\n",
       "1985       float64\n",
       "1986       float64\n",
       "1987       float64\n",
       "1988       float64\n",
       "1989       float64\n",
       "1990       float64\n",
       "1991       float64\n",
       "1992       float64\n",
       "1993       float64\n",
       "1994       float64\n",
       "1995       float64\n",
       "1996       float64\n",
       "1997       float64\n",
       "1998       float64\n",
       "1999       float64\n",
       "2000       float64\n",
       "2001       float64\n",
       "2002       float64\n",
       "2003       float64\n",
       "2004       float64\n",
       "2005       float64\n",
       "2006       float64\n",
       "2007       float64\n",
       "2008       float64\n",
       "2009       float64\n",
       "2010       float64\n",
       "2011       float64\n",
       "2012       float64\n",
       "2013       float64\n",
       "2014       float64\n",
       "2015       float64\n",
       "dtype: object"
      ]
     },
     "execution_count": 273,
     "metadata": {},
     "output_type": "execute_result"
    }
   ],
   "source": [
    "school.dtypes"
   ]
  },
  {
   "cell_type": "markdown",
   "metadata": {},
   "source": [
    "**These datatypes are ok by my standards. Ints and floats, while not the same, are fine for data visualization.**"
   ]
  },
  {
   "cell_type": "markdown",
   "metadata": {},
   "source": [
    "**Last, let's check to make sure there are no duplicated countries in each dataset**"
   ]
  },
  {
   "cell_type": "code",
   "execution_count": 274,
   "metadata": {},
   "outputs": [
    {
     "data": {
      "text/plain": [
       "0"
      ]
     },
     "execution_count": 274,
     "metadata": {},
     "output_type": "execute_result"
    }
   ],
   "source": [
    "M.duplicated('country').sum()"
   ]
  },
  {
   "cell_type": "code",
   "execution_count": 275,
   "metadata": {},
   "outputs": [
    {
     "data": {
      "text/plain": [
       "0"
      ]
     },
     "execution_count": 275,
     "metadata": {},
     "output_type": "execute_result"
    }
   ],
   "source": [
    "school.duplicated('country').sum()"
   ]
  },
  {
   "cell_type": "code",
   "execution_count": 276,
   "metadata": {},
   "outputs": [
    {
     "data": {
      "text/plain": [
       "0"
      ]
     },
     "execution_count": 276,
     "metadata": {},
     "output_type": "execute_result"
    }
   ],
   "source": [
    "inc.duplicated('country').sum()"
   ]
  },
  {
   "cell_type": "markdown",
   "metadata": {},
   "source": [
    "**Ok. No duplicated country names. That's good. We can now data clean.**"
   ]
  },
  {
   "cell_type": "markdown",
   "metadata": {},
   "source": [
    "### Data Cleaning \n",
    "Here the data need to be cleaned and wrangled. \n",
    "1. Make sure countries are consistent with each other.   \n",
    "2. The years need to be made consistent.   \n",
    "3. Any missing values need to be imputed.  "
   ]
  },
  {
   "cell_type": "markdown",
   "metadata": {},
   "source": [
    "**1. Make sure the datsets contain the same countries** "
   ]
  },
  {
   "cell_type": "code",
   "execution_count": 277,
   "metadata": {},
   "outputs": [
    {
     "data": {
      "text/plain": [
       "187"
      ]
     },
     "execution_count": 277,
     "metadata": {},
     "output_type": "execute_result"
    }
   ],
   "source": [
    "school['country'].nunique()"
   ]
  },
  {
   "cell_type": "code",
   "execution_count": 278,
   "metadata": {},
   "outputs": [
    {
     "data": {
      "text/plain": [
       "193"
      ]
     },
     "execution_count": 278,
     "metadata": {},
     "output_type": "execute_result"
    }
   ],
   "source": [
    "M['country'].nunique()"
   ]
  },
  {
   "cell_type": "code",
   "execution_count": 279,
   "metadata": {},
   "outputs": [
    {
     "data": {
      "text/plain": [
       "193"
      ]
     },
     "execution_count": 279,
     "metadata": {},
     "output_type": "execute_result"
    }
   ],
   "source": [
    "inc['country'].nunique()"
   ]
  },
  {
   "cell_type": "markdown",
   "metadata": {},
   "source": [
    "**Looks like there's some inconsistencies**  \n",
    " Filter out the countries from `M` and `inc` that are not in the `school` df. \n",
    " \n",
    " Use these resources:\n",
    ">https://stackoverflow.com/questions/38516664/anti-join-pandas  \n",
    ">https://stackoverflow.com/questions/12065885/filter-dataframe-rows-if-value-in-column-is-in-a-set-list-of-values"
   ]
  },
  {
   "cell_type": "code",
   "execution_count": 280,
   "metadata": {},
   "outputs": [
    {
     "data": {
      "text/plain": [
       "{'Monaco', 'Nauru', 'Palau', 'San Marino', 'St. Kitts and Nevis', 'Tuvalu'}"
      ]
     },
     "execution_count": 280,
     "metadata": {},
     "output_type": "execute_result"
    }
   ],
   "source": [
    "#these are the countries in the M df that are not in the school df\n",
    "m1 = set(M.country).difference(school.country)\n",
    "m1"
   ]
  },
  {
   "cell_type": "markdown",
   "metadata": {},
   "source": [
    "Check to make sure that the difference between `M` and `school` (as shown above) is the same thing as between `inc` and `school`."
   ]
  },
  {
   "cell_type": "code",
   "execution_count": 281,
   "metadata": {},
   "outputs": [
    {
     "data": {
      "text/plain": [
       "True"
      ]
     },
     "execution_count": 281,
     "metadata": {},
     "output_type": "execute_result"
    }
   ],
   "source": [
    "m2 = set(inc.country).difference(school.country)\n",
    "m1 == m2"
   ]
  },
  {
   "cell_type": "markdown",
   "metadata": {},
   "source": [
    "Both `M` and `inc` have the same extra countries. So just use the countries in `school` to filter countries in `M` and `inc`. "
   ]
  },
  {
   "cell_type": "code",
   "execution_count": 282,
   "metadata": {},
   "outputs": [],
   "source": [
    "inc = inc[inc['country'].isin(school['country'])]"
   ]
  },
  {
   "cell_type": "code",
   "execution_count": 283,
   "metadata": {},
   "outputs": [],
   "source": [
    "M = M[M['country'].isin(school['country'])]"
   ]
  },
  {
   "cell_type": "code",
   "execution_count": 284,
   "metadata": {},
   "outputs": [
    {
     "data": {
      "text/plain": [
       "(187, 242)"
      ]
     },
     "execution_count": 284,
     "metadata": {},
     "output_type": "execute_result"
    }
   ],
   "source": [
    "inc.shape"
   ]
  },
  {
   "cell_type": "code",
   "execution_count": 285,
   "metadata": {},
   "outputs": [
    {
     "data": {
      "text/plain": [
       "(187, 220)"
      ]
     },
     "execution_count": 285,
     "metadata": {},
     "output_type": "execute_result"
    }
   ],
   "source": [
    "M.shape"
   ]
  },
  {
   "cell_type": "markdown",
   "metadata": {},
   "source": [
    "**2. Now, make sure the years are the same among all datasets.**\n",
    "I'll select from 1970 to 2015 because all of those years are in all three datasets. I will only need to filter `inc` and `M`. To do this I will use the columns that are in school as a filter for columns in `M` and `inc`  \n"
   ]
  },
  {
   "cell_type": "code",
   "execution_count": 286,
   "metadata": {},
   "outputs": [],
   "source": [
    "M = M.loc[:,list(school.columns)]\n",
    "inc = inc.loc[:,list(school.columns)]"
   ]
  },
  {
   "cell_type": "code",
   "execution_count": 287,
   "metadata": {},
   "outputs": [
    {
     "data": {
      "text/plain": [
       "Index(['country', '1970', '1971', '1972', '1973', '1974', '1975', '1976',\n",
       "       '1977', '1978', '1979', '1980', '1981', '1982', '1983', '1984', '1985',\n",
       "       '1986', '1987', '1988', '1989', '1990', '1991', '1992', '1993', '1994',\n",
       "       '1995', '1996', '1997', '1998', '1999', '2000', '2001', '2002', '2003',\n",
       "       '2004', '2005', '2006', '2007', '2008', '2009', '2010', '2011', '2012',\n",
       "       '2013', '2014', '2015'],\n",
       "      dtype='object')"
      ]
     },
     "execution_count": 287,
     "metadata": {},
     "output_type": "execute_result"
    }
   ],
   "source": [
    "M.columns"
   ]
  },
  {
   "cell_type": "code",
   "execution_count": 288,
   "metadata": {},
   "outputs": [
    {
     "data": {
      "text/plain": [
       "Index(['country', '1970', '1971', '1972', '1973', '1974', '1975', '1976',\n",
       "       '1977', '1978', '1979', '1980', '1981', '1982', '1983', '1984', '1985',\n",
       "       '1986', '1987', '1988', '1989', '1990', '1991', '1992', '1993', '1994',\n",
       "       '1995', '1996', '1997', '1998', '1999', '2000', '2001', '2002', '2003',\n",
       "       '2004', '2005', '2006', '2007', '2008', '2009', '2010', '2011', '2012',\n",
       "       '2013', '2014', '2015'],\n",
       "      dtype='object')"
      ]
     },
     "execution_count": 288,
     "metadata": {},
     "output_type": "execute_result"
    }
   ],
   "source": [
    "inc.columns"
   ]
  },
  {
   "cell_type": "markdown",
   "metadata": {},
   "source": [
    "**3.Now let's check on any null values.**"
   ]
  },
  {
   "cell_type": "code",
   "execution_count": 289,
   "metadata": {},
   "outputs": [
    {
     "data": {
      "text/plain": [
       "0"
      ]
     },
     "execution_count": 289,
     "metadata": {},
     "output_type": "execute_result"
    }
   ],
   "source": [
    "inc.isnull().any(axis=1).sum()"
   ]
  },
  {
   "cell_type": "code",
   "execution_count": 290,
   "metadata": {},
   "outputs": [
    {
     "data": {
      "text/plain": [
       "0"
      ]
     },
     "execution_count": 290,
     "metadata": {},
     "output_type": "execute_result"
    }
   ],
   "source": [
    "school.isnull().any(axis=1).sum()"
   ]
  },
  {
   "cell_type": "code",
   "execution_count": 291,
   "metadata": {},
   "outputs": [
    {
     "data": {
      "text/plain": [
       "1"
      ]
     },
     "execution_count": 291,
     "metadata": {},
     "output_type": "execute_result"
    }
   ],
   "source": [
    "M.isnull().any(axis=1).sum()"
   ]
  },
  {
   "cell_type": "markdown",
   "metadata": {},
   "source": [
    "**One row in M has null values. There are two options to deal with this**\n",
    "> 1.Remove the row completely and then remove that country from inc and school  \n",
    "> 2.Fill in the missing values using some method depending on where they are in the dataset. \n",
    "\n",
    "Let's try option 2 first. "
   ]
  },
  {
   "cell_type": "code",
   "execution_count": 292,
   "metadata": {},
   "outputs": [
    {
     "data": {
      "text/html": [
       "<div>\n",
       "<style scoped>\n",
       "    .dataframe tbody tr th:only-of-type {\n",
       "        vertical-align: middle;\n",
       "    }\n",
       "\n",
       "    .dataframe tbody tr th {\n",
       "        vertical-align: top;\n",
       "    }\n",
       "\n",
       "    .dataframe thead th {\n",
       "        text-align: right;\n",
       "    }\n",
       "</style>\n",
       "<table border=\"1\" class=\"dataframe\">\n",
       "  <thead>\n",
       "    <tr style=\"text-align: right;\">\n",
       "      <th></th>\n",
       "      <th>country</th>\n",
       "      <th>1970</th>\n",
       "      <th>1971</th>\n",
       "      <th>1972</th>\n",
       "      <th>1973</th>\n",
       "      <th>1974</th>\n",
       "      <th>1975</th>\n",
       "      <th>1976</th>\n",
       "      <th>1977</th>\n",
       "      <th>1978</th>\n",
       "      <th>...</th>\n",
       "      <th>2006</th>\n",
       "      <th>2007</th>\n",
       "      <th>2008</th>\n",
       "      <th>2009</th>\n",
       "      <th>2010</th>\n",
       "      <th>2011</th>\n",
       "      <th>2012</th>\n",
       "      <th>2013</th>\n",
       "      <th>2014</th>\n",
       "      <th>2015</th>\n",
       "    </tr>\n",
       "  </thead>\n",
       "  <tbody>\n",
       "    <tr>\n",
       "      <th>3</th>\n",
       "      <td>Andorra</td>\n",
       "      <td>NaN</td>\n",
       "      <td>NaN</td>\n",
       "      <td>NaN</td>\n",
       "      <td>NaN</td>\n",
       "      <td>NaN</td>\n",
       "      <td>NaN</td>\n",
       "      <td>NaN</td>\n",
       "      <td>NaN</td>\n",
       "      <td>NaN</td>\n",
       "      <td>...</td>\n",
       "      <td>3.7</td>\n",
       "      <td>3.6</td>\n",
       "      <td>3.5</td>\n",
       "      <td>3.4</td>\n",
       "      <td>3.3</td>\n",
       "      <td>3.2</td>\n",
       "      <td>3.1</td>\n",
       "      <td>3.0</td>\n",
       "      <td>2.9</td>\n",
       "      <td>2.8</td>\n",
       "    </tr>\n",
       "  </tbody>\n",
       "</table>\n",
       "<p>1 rows × 47 columns</p>\n",
       "</div>"
      ],
      "text/plain": [
       "   country  1970  1971  1972  1973  1974  1975  1976  1977  1978  ...   2006  \\\n",
       "3  Andorra   NaN   NaN   NaN   NaN   NaN   NaN   NaN   NaN   NaN  ...    3.7   \n",
       "\n",
       "   2007  2008  2009  2010  2011  2012  2013  2014  2015  \n",
       "3   3.6   3.5   3.4   3.3   3.2   3.1   3.0   2.9   2.8  \n",
       "\n",
       "[1 rows x 47 columns]"
      ]
     },
     "execution_count": 292,
     "metadata": {},
     "output_type": "execute_result"
    }
   ],
   "source": [
    "M[M.isnull().any(axis=1)]"
   ]
  },
  {
   "cell_type": "markdown",
   "metadata": {},
   "source": [
    "Ok. It looks like it's the beginning of the dataset. So I will fill these values in with the mean values for years 1985,1986,1987.   \n",
    "I used this resource: \n",
    "https://stackoverflow.com/questions/34913590/fillna-in-multiple-columns-in-place-in-python-pandas\n",
    "\n"
   ]
  },
  {
   "cell_type": "code",
   "execution_count": 293,
   "metadata": {},
   "outputs": [],
   "source": [
    "mean = M[M.isnull().any(axis=1)].loc[:,['1985', '1986', '1987']].mean(axis=1)\n",
    "\n",
    "new_and = M[M['country'] == 'Andorra'].apply(lambda x: x.fillna(mean))\n",
    "M[M['country'] == \"Andorra\"] = new_and"
   ]
  },
  {
   "cell_type": "markdown",
   "metadata": {},
   "source": [
    "Ok, let's check to make sure it worked. Now there should be no missing values in M..."
   ]
  },
  {
   "cell_type": "code",
   "execution_count": 294,
   "metadata": {},
   "outputs": [
    {
     "data": {
      "text/plain": [
       "0"
      ]
     },
     "execution_count": 294,
     "metadata": {},
     "output_type": "execute_result"
    }
   ],
   "source": [
    "M.isnull().any(axis=1).sum()"
   ]
  },
  {
   "cell_type": "markdown",
   "metadata": {},
   "source": [
    "Andorra should have filled in values..."
   ]
  },
  {
   "cell_type": "code",
   "execution_count": 295,
   "metadata": {},
   "outputs": [
    {
     "data": {
      "text/html": [
       "<div>\n",
       "<style scoped>\n",
       "    .dataframe tbody tr th:only-of-type {\n",
       "        vertical-align: middle;\n",
       "    }\n",
       "\n",
       "    .dataframe tbody tr th {\n",
       "        vertical-align: top;\n",
       "    }\n",
       "\n",
       "    .dataframe thead th {\n",
       "        text-align: right;\n",
       "    }\n",
       "</style>\n",
       "<table border=\"1\" class=\"dataframe\">\n",
       "  <thead>\n",
       "    <tr style=\"text-align: right;\">\n",
       "      <th></th>\n",
       "      <th>country</th>\n",
       "      <th>1970</th>\n",
       "      <th>1971</th>\n",
       "      <th>1972</th>\n",
       "      <th>1973</th>\n",
       "      <th>1974</th>\n",
       "      <th>1975</th>\n",
       "      <th>1976</th>\n",
       "      <th>1977</th>\n",
       "      <th>1978</th>\n",
       "      <th>...</th>\n",
       "      <th>2006</th>\n",
       "      <th>2007</th>\n",
       "      <th>2008</th>\n",
       "      <th>2009</th>\n",
       "      <th>2010</th>\n",
       "      <th>2011</th>\n",
       "      <th>2012</th>\n",
       "      <th>2013</th>\n",
       "      <th>2014</th>\n",
       "      <th>2015</th>\n",
       "    </tr>\n",
       "  </thead>\n",
       "  <tbody>\n",
       "    <tr>\n",
       "      <th>3</th>\n",
       "      <td>Andorra</td>\n",
       "      <td>11.966667</td>\n",
       "      <td>11.966667</td>\n",
       "      <td>11.966667</td>\n",
       "      <td>11.966667</td>\n",
       "      <td>11.966667</td>\n",
       "      <td>11.966667</td>\n",
       "      <td>11.966667</td>\n",
       "      <td>11.966667</td>\n",
       "      <td>11.966667</td>\n",
       "      <td>...</td>\n",
       "      <td>3.7</td>\n",
       "      <td>3.6</td>\n",
       "      <td>3.5</td>\n",
       "      <td>3.4</td>\n",
       "      <td>3.3</td>\n",
       "      <td>3.2</td>\n",
       "      <td>3.1</td>\n",
       "      <td>3.0</td>\n",
       "      <td>2.9</td>\n",
       "      <td>2.8</td>\n",
       "    </tr>\n",
       "  </tbody>\n",
       "</table>\n",
       "<p>1 rows × 47 columns</p>\n",
       "</div>"
      ],
      "text/plain": [
       "   country       1970       1971       1972       1973       1974       1975  \\\n",
       "3  Andorra  11.966667  11.966667  11.966667  11.966667  11.966667  11.966667   \n",
       "\n",
       "        1976       1977       1978  ...   2006  2007  2008  2009  2010  2011  \\\n",
       "3  11.966667  11.966667  11.966667  ...    3.7   3.6   3.5   3.4   3.3   3.2   \n",
       "\n",
       "   2012  2013  2014  2015  \n",
       "3   3.1   3.0   2.9   2.8  \n",
       "\n",
       "[1 rows x 47 columns]"
      ]
     },
     "execution_count": 295,
     "metadata": {},
     "output_type": "execute_result"
    }
   ],
   "source": [
    "M[M['country'] == \"Andorra\"]"
   ]
  },
  {
   "cell_type": "markdown",
   "metadata": {},
   "source": [
    "<a id='eda'></a>\n",
    "## Exploratory Data Analysis\n",
    "\n",
    "We are now ready to explore the datasets. \n",
    "\n",
    "### Research Question 1: Which countries are in the low range, which countries are in the high range? \n",
    "> A. In 2015, which countries have highest GDP, lowest GDP?   \n",
    "> B. In 2015, which countries have highest child mortality, lowest child mortality?  \n",
    "> C. In 2015, which coutries have most educated women, least educated women?   \n"
   ]
  },
  {
   "cell_type": "markdown",
   "metadata": {},
   "source": [
    "**A. Which countriest have highest and lowest GDP PPP**"
   ]
  },
  {
   "cell_type": "code",
   "execution_count": 296,
   "metadata": {},
   "outputs": [
    {
     "data": {
      "text/plain": [
       "[17178.716577540108, 10800.0]"
      ]
     },
     "execution_count": 296,
     "metadata": {},
     "output_type": "execute_result"
    },
    {
     "data": {
      "image/png": "[encoded data removed]",
      "text/plain": [
       "<Figure size 432x288 with 1 Axes>"
      ]
     },
     "metadata": {
      "needs_background": "light"
     },
     "output_type": "display_data"
    }
   ],
   "source": [
    "#first visualize the overal GDP in PPP for 2015\n",
    "inc['2015'].hist();\n",
    "#looks like it's a very right skewed distribution\n",
    "[inc['2015'].mean(), inc['2015'].median()]"
   ]
  },
  {
   "cell_type": "markdown",
   "metadata": {},
   "source": [
    "**The results of this histogram indicate that global GDP is right skewed which means that there is an unequal distribution of countries around mean GPD. Essentially, there are many more countries that have lower than average GDP. There appear to be a few outliers(80,000+) that causes the global average GDP (17,178) in 2015 to be higher than the median GDP (10,800). We will take a closer look at this distribution below. We will look at the lowest and highest countries in terms of GDP in 2015** "
   ]
  },
  {
   "cell_type": "code",
   "execution_count": 297,
   "metadata": {},
   "outputs": [
    {
     "data": {
      "text/plain": [
       "count       187.000000\n",
       "mean      17178.716578\n",
       "std       19082.450381\n",
       "min         623.000000\n",
       "25%        3270.000000\n",
       "50%       10800.000000\n",
       "75%       24100.000000\n",
       "max      120000.000000\n",
       "Name: 2015, dtype: float64"
      ]
     },
     "execution_count": 297,
     "metadata": {},
     "output_type": "execute_result"
    }
   ],
   "source": [
    "#first figure out the 5 number summary for 2015 to make some bins\n",
    "sum = inc['2015'].describe()\n",
    "sum"
   ]
  },
  {
   "cell_type": "code",
   "execution_count": null,
   "metadata": {},
   "outputs": [],
   "source": []
  },
  {
   "cell_type": "code",
   "execution_count": 298,
   "metadata": {},
   "outputs": [],
   "source": [
    "#make bins\n",
    "def make_bin_edges(x):\n",
    "    min1 = x['min']-0.001\n",
    "    low = (min1 + x['25%'])/2\n",
    "    low_med = x['25%']\n",
    "    med = x['50%']\n",
    "    med_high = x['75%']\n",
    "    high = (med_high + x['max'])/2\n",
    "    highest = x['max']+0.001\n",
    "    return [min1, low, low_med, med, med_high, high, highest]\n",
    "\n",
    "\n",
    "bin_edges = make_bin_edges(sum)\n",
    "bin_edges\n",
    "\n",
    "bin_names = ['lowest', 'low', 'medium_low', 'medium', 'high', 'highest']\n"
   ]
  },
  {
   "cell_type": "code",
   "execution_count": 299,
   "metadata": {},
   "outputs": [],
   "source": [
    "#add bins to the inc df\n",
    "inc['levels2015'] = pd.cut(inc['2015'], bin_edges, labels=bin_names)"
   ]
  },
  {
   "cell_type": "code",
   "execution_count": 300,
   "metadata": {},
   "outputs": [
    {
     "data": {
      "text/plain": [
       "0        lowest\n",
       "1        medium\n",
       "2        medium\n",
       "3          high\n",
       "4    medium_low\n",
       "Name: levels2015, dtype: category\n",
       "Categories (6, object): [lowest < low < medium_low < medium < high < highest]"
      ]
     },
     "execution_count": 300,
     "metadata": {},
     "output_type": "execute_result"
    }
   ],
   "source": [
    "inc['levels2015'].head(5)"
   ]
  },
  {
   "cell_type": "code",
   "execution_count": 301,
   "metadata": {},
   "outputs": [
    {
     "data": {
      "text/html": [
       "<div>\n",
       "<style scoped>\n",
       "    .dataframe tbody tr th:only-of-type {\n",
       "        vertical-align: middle;\n",
       "    }\n",
       "\n",
       "    .dataframe tbody tr th {\n",
       "        vertical-align: top;\n",
       "    }\n",
       "\n",
       "    .dataframe thead th {\n",
       "        text-align: right;\n",
       "    }\n",
       "</style>\n",
       "<table border=\"1\" class=\"dataframe\">\n",
       "  <thead>\n",
       "    <tr style=\"text-align: right;\">\n",
       "      <th></th>\n",
       "      <th>country</th>\n",
       "      <th>1970</th>\n",
       "      <th>1971</th>\n",
       "      <th>1972</th>\n",
       "      <th>1973</th>\n",
       "      <th>1974</th>\n",
       "      <th>1975</th>\n",
       "      <th>1976</th>\n",
       "      <th>1977</th>\n",
       "      <th>1978</th>\n",
       "      <th>...</th>\n",
       "      <th>2007</th>\n",
       "      <th>2008</th>\n",
       "      <th>2009</th>\n",
       "      <th>2010</th>\n",
       "      <th>2011</th>\n",
       "      <th>2012</th>\n",
       "      <th>2013</th>\n",
       "      <th>2014</th>\n",
       "      <th>2015</th>\n",
       "      <th>levels2015</th>\n",
       "    </tr>\n",
       "  </thead>\n",
       "  <tbody>\n",
       "    <tr>\n",
       "      <th>0</th>\n",
       "      <td>Afghanistan</td>\n",
       "      <td>1180</td>\n",
       "      <td>1100</td>\n",
       "      <td>1050</td>\n",
       "      <td>1150</td>\n",
       "      <td>1180</td>\n",
       "      <td>1210</td>\n",
       "      <td>1240</td>\n",
       "      <td>1130</td>\n",
       "      <td>1190</td>\n",
       "      <td>...</td>\n",
       "      <td>1290</td>\n",
       "      <td>1300</td>\n",
       "      <td>1530</td>\n",
       "      <td>1610</td>\n",
       "      <td>1660</td>\n",
       "      <td>1840</td>\n",
       "      <td>1810</td>\n",
       "      <td>1780</td>\n",
       "      <td>1750</td>\n",
       "      <td>lowest</td>\n",
       "    </tr>\n",
       "    <tr>\n",
       "      <th>26</th>\n",
       "      <td>Burkina Faso</td>\n",
       "      <td>790</td>\n",
       "      <td>810</td>\n",
       "      <td>830</td>\n",
       "      <td>774</td>\n",
       "      <td>747</td>\n",
       "      <td>703</td>\n",
       "      <td>683</td>\n",
       "      <td>714</td>\n",
       "      <td>778</td>\n",
       "      <td>...</td>\n",
       "      <td>1300</td>\n",
       "      <td>1360</td>\n",
       "      <td>1350</td>\n",
       "      <td>1430</td>\n",
       "      <td>1470</td>\n",
       "      <td>1520</td>\n",
       "      <td>1520</td>\n",
       "      <td>1540</td>\n",
       "      <td>1550</td>\n",
       "      <td>lowest</td>\n",
       "    </tr>\n",
       "    <tr>\n",
       "      <th>27</th>\n",
       "      <td>Burundi</td>\n",
       "      <td>802</td>\n",
       "      <td>849</td>\n",
       "      <td>773</td>\n",
       "      <td>828</td>\n",
       "      <td>810</td>\n",
       "      <td>802</td>\n",
       "      <td>850</td>\n",
       "      <td>936</td>\n",
       "      <td>905</td>\n",
       "      <td>...</td>\n",
       "      <td>748</td>\n",
       "      <td>759</td>\n",
       "      <td>760</td>\n",
       "      <td>764</td>\n",
       "      <td>772</td>\n",
       "      <td>779</td>\n",
       "      <td>791</td>\n",
       "      <td>803</td>\n",
       "      <td>749</td>\n",
       "      <td>lowest</td>\n",
       "    </tr>\n",
       "    <tr>\n",
       "      <th>32</th>\n",
       "      <td>Central African Republic</td>\n",
       "      <td>1350</td>\n",
       "      <td>1270</td>\n",
       "      <td>1220</td>\n",
       "      <td>1240</td>\n",
       "      <td>1180</td>\n",
       "      <td>1170</td>\n",
       "      <td>1190</td>\n",
       "      <td>1250</td>\n",
       "      <td>1240</td>\n",
       "      <td>...</td>\n",
       "      <td>864</td>\n",
       "      <td>867</td>\n",
       "      <td>870</td>\n",
       "      <td>888</td>\n",
       "      <td>912</td>\n",
       "      <td>946</td>\n",
       "      <td>598</td>\n",
       "      <td>602</td>\n",
       "      <td>626</td>\n",
       "      <td>lowest</td>\n",
       "    </tr>\n",
       "    <tr>\n",
       "      <th>37</th>\n",
       "      <td>Comoros</td>\n",
       "      <td>1430</td>\n",
       "      <td>1460</td>\n",
       "      <td>1460</td>\n",
       "      <td>1530</td>\n",
       "      <td>1530</td>\n",
       "      <td>1580</td>\n",
       "      <td>1530</td>\n",
       "      <td>1530</td>\n",
       "      <td>1510</td>\n",
       "      <td>...</td>\n",
       "      <td>1450</td>\n",
       "      <td>1420</td>\n",
       "      <td>1420</td>\n",
       "      <td>1410</td>\n",
       "      <td>1420</td>\n",
       "      <td>1420</td>\n",
       "      <td>1440</td>\n",
       "      <td>1430</td>\n",
       "      <td>1410</td>\n",
       "      <td>lowest</td>\n",
       "    </tr>\n",
       "  </tbody>\n",
       "</table>\n",
       "<p>5 rows × 48 columns</p>\n",
       "</div>"
      ],
      "text/plain": [
       "                     country  1970  1971  1972  1973  1974  1975  1976  1977  \\\n",
       "0                Afghanistan  1180  1100  1050  1150  1180  1210  1240  1130   \n",
       "26              Burkina Faso   790   810   830   774   747   703   683   714   \n",
       "27                   Burundi   802   849   773   828   810   802   850   936   \n",
       "32  Central African Republic  1350  1270  1220  1240  1180  1170  1190  1250   \n",
       "37                   Comoros  1430  1460  1460  1530  1530  1580  1530  1530   \n",
       "\n",
       "    1978     ...      2007  2008  2009  2010  2011  2012  2013  2014  2015  \\\n",
       "0   1190     ...      1290  1300  1530  1610  1660  1840  1810  1780  1750   \n",
       "26   778     ...      1300  1360  1350  1430  1470  1520  1520  1540  1550   \n",
       "27   905     ...       748   759   760   764   772   779   791   803   749   \n",
       "32  1240     ...       864   867   870   888   912   946   598   602   626   \n",
       "37  1510     ...      1450  1420  1420  1410  1420  1420  1440  1430  1410   \n",
       "\n",
       "    levels2015  \n",
       "0       lowest  \n",
       "26      lowest  \n",
       "27      lowest  \n",
       "32      lowest  \n",
       "37      lowest  \n",
       "\n",
       "[5 rows x 48 columns]"
      ]
     },
     "execution_count": 301,
     "metadata": {},
     "output_type": "execute_result"
    }
   ],
   "source": [
    "#select lowest countries and select highest countries\n",
    "inc[inc['levels2015'] == 'lowest'].head(5)"
   ]
  },
  {
   "cell_type": "code",
   "execution_count": 302,
   "metadata": {},
   "outputs": [
    {
     "data": {
      "text/html": [
       "<div>\n",
       "<style scoped>\n",
       "    .dataframe tbody tr th:only-of-type {\n",
       "        vertical-align: middle;\n",
       "    }\n",
       "\n",
       "    .dataframe tbody tr th {\n",
       "        vertical-align: top;\n",
       "    }\n",
       "\n",
       "    .dataframe thead th {\n",
       "        text-align: right;\n",
       "    }\n",
       "</style>\n",
       "<table border=\"1\" class=\"dataframe\">\n",
       "  <thead>\n",
       "    <tr style=\"text-align: right;\">\n",
       "      <th></th>\n",
       "      <th>country</th>\n",
       "      <th>1970</th>\n",
       "      <th>1971</th>\n",
       "      <th>1972</th>\n",
       "      <th>1973</th>\n",
       "      <th>1974</th>\n",
       "      <th>1975</th>\n",
       "      <th>1976</th>\n",
       "      <th>1977</th>\n",
       "      <th>1978</th>\n",
       "      <th>...</th>\n",
       "      <th>2007</th>\n",
       "      <th>2008</th>\n",
       "      <th>2009</th>\n",
       "      <th>2010</th>\n",
       "      <th>2011</th>\n",
       "      <th>2012</th>\n",
       "      <th>2013</th>\n",
       "      <th>2014</th>\n",
       "      <th>2015</th>\n",
       "      <th>levels2015</th>\n",
       "    </tr>\n",
       "  </thead>\n",
       "  <tbody>\n",
       "    <tr>\n",
       "      <th>24</th>\n",
       "      <td>Brunei</td>\n",
       "      <td>79300</td>\n",
       "      <td>83800</td>\n",
       "      <td>88700</td>\n",
       "      <td>93400</td>\n",
       "      <td>100000</td>\n",
       "      <td>96800</td>\n",
       "      <td>112000</td>\n",
       "      <td>120000</td>\n",
       "      <td>123000</td>\n",
       "      <td>...</td>\n",
       "      <td>84500</td>\n",
       "      <td>81900</td>\n",
       "      <td>79500</td>\n",
       "      <td>80600</td>\n",
       "      <td>82400</td>\n",
       "      <td>82000</td>\n",
       "      <td>79100</td>\n",
       "      <td>76100</td>\n",
       "      <td>74600</td>\n",
       "      <td>highest</td>\n",
       "    </tr>\n",
       "    <tr>\n",
       "      <th>97</th>\n",
       "      <td>Luxembourg</td>\n",
       "      <td>29600</td>\n",
       "      <td>30100</td>\n",
       "      <td>31800</td>\n",
       "      <td>34100</td>\n",
       "      <td>35300</td>\n",
       "      <td>32700</td>\n",
       "      <td>33300</td>\n",
       "      <td>33800</td>\n",
       "      <td>35100</td>\n",
       "      <td>...</td>\n",
       "      <td>97900</td>\n",
       "      <td>94900</td>\n",
       "      <td>89100</td>\n",
       "      <td>91700</td>\n",
       "      <td>92000</td>\n",
       "      <td>89500</td>\n",
       "      <td>91000</td>\n",
       "      <td>93800</td>\n",
       "      <td>95300</td>\n",
       "      <td>highest</td>\n",
       "    </tr>\n",
       "    <tr>\n",
       "      <th>138</th>\n",
       "      <td>Qatar</td>\n",
       "      <td>155000</td>\n",
       "      <td>156000</td>\n",
       "      <td>159000</td>\n",
       "      <td>161000</td>\n",
       "      <td>158000</td>\n",
       "      <td>156000</td>\n",
       "      <td>160000</td>\n",
       "      <td>142000</td>\n",
       "      <td>146000</td>\n",
       "      <td>...</td>\n",
       "      <td>119000</td>\n",
       "      <td>120000</td>\n",
       "      <td>117000</td>\n",
       "      <td>125000</td>\n",
       "      <td>129000</td>\n",
       "      <td>125000</td>\n",
       "      <td>123000</td>\n",
       "      <td>121000</td>\n",
       "      <td>120000</td>\n",
       "      <td>highest</td>\n",
       "    </tr>\n",
       "    <tr>\n",
       "      <th>150</th>\n",
       "      <td>Singapore</td>\n",
       "      <td>10300</td>\n",
       "      <td>11400</td>\n",
       "      <td>12700</td>\n",
       "      <td>13900</td>\n",
       "      <td>14500</td>\n",
       "      <td>14800</td>\n",
       "      <td>15600</td>\n",
       "      <td>16600</td>\n",
       "      <td>17800</td>\n",
       "      <td>...</td>\n",
       "      <td>68400</td>\n",
       "      <td>66000</td>\n",
       "      <td>63700</td>\n",
       "      <td>72100</td>\n",
       "      <td>75000</td>\n",
       "      <td>76000</td>\n",
       "      <td>78500</td>\n",
       "      <td>80300</td>\n",
       "      <td>80900</td>\n",
       "      <td>highest</td>\n",
       "    </tr>\n",
       "  </tbody>\n",
       "</table>\n",
       "<p>4 rows × 48 columns</p>\n",
       "</div>"
      ],
      "text/plain": [
       "        country    1970    1971    1972    1973    1974    1975    1976  \\\n",
       "24       Brunei   79300   83800   88700   93400  100000   96800  112000   \n",
       "97   Luxembourg   29600   30100   31800   34100   35300   32700   33300   \n",
       "138       Qatar  155000  156000  159000  161000  158000  156000  160000   \n",
       "150   Singapore   10300   11400   12700   13900   14500   14800   15600   \n",
       "\n",
       "       1977    1978     ...        2007    2008    2009    2010    2011  \\\n",
       "24   120000  123000     ...       84500   81900   79500   80600   82400   \n",
       "97    33800   35100     ...       97900   94900   89100   91700   92000   \n",
       "138  142000  146000     ...      119000  120000  117000  125000  129000   \n",
       "150   16600   17800     ...       68400   66000   63700   72100   75000   \n",
       "\n",
       "       2012    2013    2014    2015  levels2015  \n",
       "24    82000   79100   76100   74600     highest  \n",
       "97    89500   91000   93800   95300     highest  \n",
       "138  125000  123000  121000  120000     highest  \n",
       "150   76000   78500   80300   80900     highest  \n",
       "\n",
       "[4 rows x 48 columns]"
      ]
     },
     "execution_count": 302,
     "metadata": {},
     "output_type": "execute_result"
    }
   ],
   "source": [
    "inc[inc['levels2015'] == 'highest']"
   ]
  },
  {
   "cell_type": "code",
   "execution_count": 303,
   "metadata": {},
   "outputs": [
    {
     "data": {
      "image/png": "[encoded data removed]",
      "text/plain": [
       "<Figure size 720x504 with 1 Axes>"
      ]
     },
     "metadata": {
      "needs_background": "light"
     },
     "output_type": "display_data"
    }
   ],
   "source": [
    "#visualize the lowest countries\n",
    "\n",
    "#make a function to use in future plotting\n",
    "def country_bar_plot(df, figx, figy, level_varname, level, sort_val, ylabel, title, rot_ticks= False):\n",
    "    ''' makes a histogram of countries based on specified levels\n",
    "    df= the pandas dataframe\n",
    "    figz = figure size x dimension\n",
    "    figy = figures size y dimension\n",
    "    level_varname = string specifying the level variable to plot\n",
    "    level = a string specifying the which level of countries i.e. highest, lowest, etc\n",
    "    ylable = a string specifying the ylabel\n",
    "    title = s string specifiying the title \n",
    "    \n",
    "    >>> country_hist_plot(inc, 10, 7, 'levels2015', 'lowest', 'Gross domestic product (PPP) \\n per capita adjusted for inflation (US Dollars) \\n PPP = at purchasing power parity', 'Countries with lowest GDP', rot_ticks= True)\n",
    "    '''\n",
    "    \n",
    "    plt.figure(figsize=(figx,figy))\n",
    "    labels = df[df[level_varname] == level].sort_values(by=sort_val)['country']\n",
    "       \n",
    "    plt.bar(labels, df[df[level_varname] == level].sort_values(by=sort_val)[sort_val])\n",
    "    \n",
    "    if rot_ticks == True:\n",
    "        plt.xticks(rotation=90)\n",
    "            \n",
    "    plt.xlabel('Country', fontsize=14)\n",
    "    plt.ylabel(ylabel, fontsize=12)\n",
    "    plt.title(title);\n",
    "\n",
    "country_bar_plot(inc, 10, 7, 'levels2015', 'lowest', '2015','Gross domestic product (PPP) \\n per capita adjusted for inflation (US Dollars) \\n PPP = at purchasing power parity', 'Countries with lowest GDP', rot_ticks= True)    "
   ]
  },
  {
   "cell_type": "code",
   "execution_count": 304,
   "metadata": {},
   "outputs": [
    {
     "data": {
      "image/png": "[encoded data removed]",
      "text/plain": [
       "<Figure size 720x504 with 1 Axes>"
      ]
     },
     "metadata": {
      "needs_background": "light"
     },
     "output_type": "display_data"
    }
   ],
   "source": [
    "#visualize the highest countries\n",
    "country_bar_plot(inc, 10, 7, 'levels2015', 'highest', '2015','Gross domestic product (PPP) \\n per capita adjusted for inflation (US Dollars) \\n PPP = at purchasing power parity', 'Countries with highest GDP', rot_ticks= False)    \n"
   ]
  },
  {
   "cell_type": "markdown",
   "metadata": {},
   "source": [
    "**The results of these bar plots confirm my initial thoughts garnered from the histogram of overall GDP. There are many more countries classified within the lowest GDP bracket than in the highest GDP bracket. There are 27 countries in the lowest bracket (a large majority in Africa) and only 4 in the highest bracket. Both Brunei and Qatar are oil rich countries which puts them in this bracket.**"
   ]
  },
  {
   "cell_type": "markdown",
   "metadata": {},
   "source": [
    "**B. Which countriest have highest and lowest child mortality rate?**"
   ]
  },
  {
   "cell_type": "code",
   "execution_count": 305,
   "metadata": {},
   "outputs": [
    {
     "data": {
      "image/png": "[encoded data removed]",
      "text/plain": [
       "<Figure size 432x288 with 1 Axes>"
      ]
     },
     "metadata": {
      "needs_background": "light"
     },
     "output_type": "display_data"
    }
   ],
   "source": [
    "#first visualize the overal GDP in PPP for 2015\n",
    "M['2015'].hist();\n",
    "#looks like it's a very right skewed distribution"
   ]
  },
  {
   "cell_type": "markdown",
   "metadata": {},
   "source": [
    "**This distribution is very right skewed also but this is a good thing to see. This means there are many more countries with very low child mortality than there are high child mortality. We will take a closer look at these data too see which countries are in the low end and which are in the high end.**"
   ]
  },
  {
   "cell_type": "code",
   "execution_count": 306,
   "metadata": {},
   "outputs": [
    {
     "data": {
      "text/plain": [
       "count    187.000000\n",
       "mean      31.945989\n",
       "std       31.618110\n",
       "min        2.200000\n",
       "25%        8.200000\n",
       "50%       18.100000\n",
       "75%       50.800000\n",
       "max      137.000000\n",
       "Name: 2015, dtype: float64"
      ]
     },
     "execution_count": 306,
     "metadata": {},
     "output_type": "execute_result"
    }
   ],
   "source": [
    "#Same procedure as above\n",
    "#first figure out the 5 number summary for 2015 to make some bins\n",
    "sum = M['2015'].describe()\n",
    "sum"
   ]
  },
  {
   "cell_type": "code",
   "execution_count": 307,
   "metadata": {},
   "outputs": [
    {
     "data": {
      "text/plain": [
       "[2.1990000000000003, 5.1995, 8.2, 18.1, 50.8, 93.9, 137.001]"
      ]
     },
     "execution_count": 307,
     "metadata": {},
     "output_type": "execute_result"
    }
   ],
   "source": [
    "#make bins\n",
    "bin_edges = make_bin_edges(sum)\n",
    "bin_names = ['lowest', 'low', 'medium_low', 'medium', 'high', 'highest']\n",
    "bin_edges"
   ]
  },
  {
   "cell_type": "code",
   "execution_count": 308,
   "metadata": {},
   "outputs": [],
   "source": [
    "#add bins to the M df\n",
    "M['levels2015'] = pd.cut(M['2015'], bin_edges, labels=bin_names)\n",
    "\n"
   ]
  },
  {
   "cell_type": "code",
   "execution_count": 309,
   "metadata": {},
   "outputs": [
    {
     "data": {
      "text/plain": [
       "0"
      ]
     },
     "execution_count": 309,
     "metadata": {},
     "output_type": "execute_result"
    }
   ],
   "source": [
    "#check to make sure every entry got a level\n",
    "M['levels2015'].isnull().any().sum()"
   ]
  },
  {
   "cell_type": "code",
   "execution_count": 310,
   "metadata": {},
   "outputs": [
    {
     "data": {
      "image/png": "[encoded data removed]",
      "text/plain": [
       "<Figure size 720x504 with 1 Axes>"
      ]
     },
     "metadata": {
      "needs_background": "light"
     },
     "output_type": "display_data"
    }
   ],
   "source": [
    "#visualize countries with lowest child mortality\n",
    "country_bar_plot(M, 10, 7, 'levels2015', 'lowest','2015', 'Child Mortality (age 0 - 5) Per 1000 Born', 'Countries with lowest child mortality per 1000 born', rot_ticks= True)    \n",
    "\n"
   ]
  },
  {
   "cell_type": "code",
   "execution_count": 311,
   "metadata": {},
   "outputs": [
    {
     "data": {
      "image/png": "[encoded data removed]",
      "text/plain": [
       "<Figure size 720x504 with 1 Axes>"
      ]
     },
     "metadata": {
      "needs_background": "light"
     },
     "output_type": "display_data"
    }
   ],
   "source": [
    "#visualize the highest \n",
    "country_bar_plot(M, 10, 7, 'levels2015', 'highest', '2015','Child Mortality (age 0 - 5) Per 1000 Born', 'Countries with highest child mortality per 1000 born', rot_ticks= True)    \n"
   ]
  },
  {
   "cell_type": "markdown",
   "metadata": {},
   "source": [
    "**The results of these two bar plots are encouraging. There are many more countries that have low child mortality than do high (as inferred from the earlier histogram). All of the countries that have highest child mortality (depicted here) are also those that are within the lowest GDP bracket. All of these are in Africa, many of these have a long history of civil unrest. Many western and eastern European countries are among those with lowest child mortality. Interestingly, the United States is not among these. In 2016, the rate in the US was 6.6 which is wihtin the 'low' bracket.**"
   ]
  },
  {
   "cell_type": "markdown",
   "metadata": {},
   "source": [
    "**C. Which countriest have most and least educated?**"
   ]
  },
  {
   "cell_type": "code",
   "execution_count": 312,
   "metadata": {},
   "outputs": [
    {
     "data": {
      "image/png": "[encoded data removed]",
      "text/plain": [
       "<Figure size 432x288 with 1 Axes>"
      ]
     },
     "metadata": {
      "needs_background": "light"
     },
     "output_type": "display_data"
    }
   ],
   "source": [
    "#first visualize the overal GDP in PPP for 2015\n",
    "school['2015'].hist();\n"
   ]
  },
  {
   "cell_type": "markdown",
   "metadata": {},
   "source": [
    "**This distribution is much different from the earlier two. It seems like there is a threshold around 8 years of education which is roughly from K - grade 8. Females either stop going to school here or generally continue on for several more years. Average education years is 13 which is roughly K - grade 12. In following bar plots we will explore which countries are on the low and which are on the high end of this distribution.**"
   ]
  },
  {
   "cell_type": "code",
   "execution_count": 313,
   "metadata": {},
   "outputs": [
    {
     "data": {
      "text/plain": [
       "count    187.000000\n",
       "mean       9.006845\n",
       "std        4.295344\n",
       "min        0.740000\n",
       "25%        5.565000\n",
       "50%        9.620000\n",
       "75%       12.900000\n",
       "max       15.600000\n",
       "Name: 2015, dtype: float64"
      ]
     },
     "execution_count": 313,
     "metadata": {},
     "output_type": "execute_result"
    }
   ],
   "source": [
    "#first figure out the 5 number summary for 2015 to make some bins\n",
    "sum = school['2015'].describe()\n",
    "sum"
   ]
  },
  {
   "cell_type": "code",
   "execution_count": 314,
   "metadata": {},
   "outputs": [
    {
     "data": {
      "text/plain": [
       "[0.739,\n",
       " 3.1519999999999997,\n",
       " 5.5649999999999995,\n",
       " 9.62,\n",
       " 12.9,\n",
       " 14.25,\n",
       " 15.600999999999999]"
      ]
     },
     "execution_count": 314,
     "metadata": {},
     "output_type": "execute_result"
    }
   ],
   "source": [
    "#make bins\n",
    "\n",
    "\n",
    "bin_edges = make_bin_edges(sum)\n",
    "bin_names = ['lowest', 'low', 'medium_low', 'medium', 'high', 'highest']\n",
    "bin_edges"
   ]
  },
  {
   "cell_type": "code",
   "execution_count": 315,
   "metadata": {},
   "outputs": [
    {
     "data": {
      "text/plain": [
       "0     0.74\n",
       "1    12.00\n",
       "2     4.33\n",
       "3    13.90\n",
       "4     4.49\n",
       "Name: 2015, dtype: float64"
      ]
     },
     "execution_count": 315,
     "metadata": {},
     "output_type": "execute_result"
    }
   ],
   "source": [
    "#add bins to the inc df\n",
    "school['levels2015'] = pd.cut(school['2015'], bin_edges, labels=bin_names)\n",
    "\n",
    "school['2015'].head(5)"
   ]
  },
  {
   "cell_type": "code",
   "execution_count": 316,
   "metadata": {},
   "outputs": [
    {
     "data": {
      "text/plain": [
       "0"
      ]
     },
     "execution_count": 316,
     "metadata": {},
     "output_type": "execute_result"
    }
   ],
   "source": [
    "#check to make sure every entry got a level\n",
    "school['levels2015'].isnull().any().sum()"
   ]
  },
  {
   "cell_type": "code",
   "execution_count": 317,
   "metadata": {},
   "outputs": [
    {
     "data": {
      "text/html": [
       "<div>\n",
       "<style scoped>\n",
       "    .dataframe tbody tr th:only-of-type {\n",
       "        vertical-align: middle;\n",
       "    }\n",
       "\n",
       "    .dataframe tbody tr th {\n",
       "        vertical-align: top;\n",
       "    }\n",
       "\n",
       "    .dataframe thead th {\n",
       "        text-align: right;\n",
       "    }\n",
       "</style>\n",
       "<table border=\"1\" class=\"dataframe\">\n",
       "  <thead>\n",
       "    <tr style=\"text-align: right;\">\n",
       "      <th></th>\n",
       "      <th>country</th>\n",
       "      <th>1970</th>\n",
       "      <th>1971</th>\n",
       "      <th>1972</th>\n",
       "      <th>1973</th>\n",
       "      <th>1974</th>\n",
       "      <th>1975</th>\n",
       "      <th>1976</th>\n",
       "      <th>1977</th>\n",
       "      <th>1978</th>\n",
       "      <th>...</th>\n",
       "      <th>2007</th>\n",
       "      <th>2008</th>\n",
       "      <th>2009</th>\n",
       "      <th>2010</th>\n",
       "      <th>2011</th>\n",
       "      <th>2012</th>\n",
       "      <th>2013</th>\n",
       "      <th>2014</th>\n",
       "      <th>2015</th>\n",
       "      <th>levels2015</th>\n",
       "    </tr>\n",
       "  </thead>\n",
       "  <tbody>\n",
       "    <tr>\n",
       "      <th>0</th>\n",
       "      <td>Afghanistan</td>\n",
       "      <td>0.15</td>\n",
       "      <td>0.16</td>\n",
       "      <td>0.16</td>\n",
       "      <td>0.17</td>\n",
       "      <td>0.18</td>\n",
       "      <td>0.18</td>\n",
       "      <td>0.19</td>\n",
       "      <td>0.20</td>\n",
       "      <td>0.20</td>\n",
       "      <td>...</td>\n",
       "      <td>0.56</td>\n",
       "      <td>0.58</td>\n",
       "      <td>0.60</td>\n",
       "      <td>0.62</td>\n",
       "      <td>0.64</td>\n",
       "      <td>0.67</td>\n",
       "      <td>0.69</td>\n",
       "      <td>0.71</td>\n",
       "      <td>0.74</td>\n",
       "      <td>lowest</td>\n",
       "    </tr>\n",
       "    <tr>\n",
       "      <th>18</th>\n",
       "      <td>Benin</td>\n",
       "      <td>0.44</td>\n",
       "      <td>0.46</td>\n",
       "      <td>0.48</td>\n",
       "      <td>0.49</td>\n",
       "      <td>0.51</td>\n",
       "      <td>0.53</td>\n",
       "      <td>0.55</td>\n",
       "      <td>0.56</td>\n",
       "      <td>0.58</td>\n",
       "      <td>...</td>\n",
       "      <td>1.60</td>\n",
       "      <td>1.65</td>\n",
       "      <td>1.70</td>\n",
       "      <td>1.76</td>\n",
       "      <td>1.82</td>\n",
       "      <td>1.87</td>\n",
       "      <td>1.93</td>\n",
       "      <td>1.99</td>\n",
       "      <td>2.06</td>\n",
       "      <td>lowest</td>\n",
       "    </tr>\n",
       "    <tr>\n",
       "      <th>19</th>\n",
       "      <td>Bhutan</td>\n",
       "      <td>0.57</td>\n",
       "      <td>0.59</td>\n",
       "      <td>0.61</td>\n",
       "      <td>0.63</td>\n",
       "      <td>0.65</td>\n",
       "      <td>0.68</td>\n",
       "      <td>0.70</td>\n",
       "      <td>0.72</td>\n",
       "      <td>0.75</td>\n",
       "      <td>...</td>\n",
       "      <td>1.89</td>\n",
       "      <td>1.95</td>\n",
       "      <td>2.01</td>\n",
       "      <td>2.07</td>\n",
       "      <td>2.14</td>\n",
       "      <td>2.20</td>\n",
       "      <td>2.27</td>\n",
       "      <td>2.34</td>\n",
       "      <td>2.41</td>\n",
       "      <td>lowest</td>\n",
       "    </tr>\n",
       "    <tr>\n",
       "      <th>26</th>\n",
       "      <td>Burkina Faso</td>\n",
       "      <td>0.20</td>\n",
       "      <td>0.21</td>\n",
       "      <td>0.22</td>\n",
       "      <td>0.23</td>\n",
       "      <td>0.23</td>\n",
       "      <td>0.24</td>\n",
       "      <td>0.25</td>\n",
       "      <td>0.26</td>\n",
       "      <td>0.27</td>\n",
       "      <td>...</td>\n",
       "      <td>0.84</td>\n",
       "      <td>0.87</td>\n",
       "      <td>0.90</td>\n",
       "      <td>0.93</td>\n",
       "      <td>0.97</td>\n",
       "      <td>1.00</td>\n",
       "      <td>1.04</td>\n",
       "      <td>1.07</td>\n",
       "      <td>1.11</td>\n",
       "      <td>lowest</td>\n",
       "    </tr>\n",
       "    <tr>\n",
       "      <th>27</th>\n",
       "      <td>Burundi</td>\n",
       "      <td>0.65</td>\n",
       "      <td>0.67</td>\n",
       "      <td>0.70</td>\n",
       "      <td>0.72</td>\n",
       "      <td>0.75</td>\n",
       "      <td>0.77</td>\n",
       "      <td>0.80</td>\n",
       "      <td>0.83</td>\n",
       "      <td>0.85</td>\n",
       "      <td>...</td>\n",
       "      <td>2.26</td>\n",
       "      <td>2.33</td>\n",
       "      <td>2.40</td>\n",
       "      <td>2.48</td>\n",
       "      <td>2.55</td>\n",
       "      <td>2.63</td>\n",
       "      <td>2.71</td>\n",
       "      <td>2.79</td>\n",
       "      <td>2.88</td>\n",
       "      <td>lowest</td>\n",
       "    </tr>\n",
       "  </tbody>\n",
       "</table>\n",
       "<p>5 rows × 48 columns</p>\n",
       "</div>"
      ],
      "text/plain": [
       "         country  1970  1971  1972  1973  1974  1975  1976  1977  1978  \\\n",
       "0    Afghanistan  0.15  0.16  0.16  0.17  0.18  0.18  0.19  0.20  0.20   \n",
       "18         Benin  0.44  0.46  0.48  0.49  0.51  0.53  0.55  0.56  0.58   \n",
       "19        Bhutan  0.57  0.59  0.61  0.63  0.65  0.68  0.70  0.72  0.75   \n",
       "26  Burkina Faso  0.20  0.21  0.22  0.23  0.23  0.24  0.25  0.26  0.27   \n",
       "27       Burundi  0.65  0.67  0.70  0.72  0.75  0.77  0.80  0.83  0.85   \n",
       "\n",
       "       ...      2007  2008  2009  2010  2011  2012  2013  2014  2015  \\\n",
       "0      ...      0.56  0.58  0.60  0.62  0.64  0.67  0.69  0.71  0.74   \n",
       "18     ...      1.60  1.65  1.70  1.76  1.82  1.87  1.93  1.99  2.06   \n",
       "19     ...      1.89  1.95  2.01  2.07  2.14  2.20  2.27  2.34  2.41   \n",
       "26     ...      0.84  0.87  0.90  0.93  0.97  1.00  1.04  1.07  1.11   \n",
       "27     ...      2.26  2.33  2.40  2.48  2.55  2.63  2.71  2.79  2.88   \n",
       "\n",
       "    levels2015  \n",
       "0       lowest  \n",
       "18      lowest  \n",
       "19      lowest  \n",
       "26      lowest  \n",
       "27      lowest  \n",
       "\n",
       "[5 rows x 48 columns]"
      ]
     },
     "execution_count": 317,
     "metadata": {},
     "output_type": "execute_result"
    }
   ],
   "source": [
    "#select lowest countries and select highest countries\n",
    "school[school['levels2015'] == 'lowest'].head(5)"
   ]
  },
  {
   "cell_type": "code",
   "execution_count": 318,
   "metadata": {},
   "outputs": [
    {
     "data": {
      "text/html": [
       "<div>\n",
       "<style scoped>\n",
       "    .dataframe tbody tr th:only-of-type {\n",
       "        vertical-align: middle;\n",
       "    }\n",
       "\n",
       "    .dataframe tbody tr th {\n",
       "        vertical-align: top;\n",
       "    }\n",
       "\n",
       "    .dataframe thead th {\n",
       "        text-align: right;\n",
       "    }\n",
       "</style>\n",
       "<table border=\"1\" class=\"dataframe\">\n",
       "  <thead>\n",
       "    <tr style=\"text-align: right;\">\n",
       "      <th></th>\n",
       "      <th>country</th>\n",
       "      <th>1970</th>\n",
       "      <th>1971</th>\n",
       "      <th>1972</th>\n",
       "      <th>1973</th>\n",
       "      <th>1974</th>\n",
       "      <th>1975</th>\n",
       "      <th>1976</th>\n",
       "      <th>1977</th>\n",
       "      <th>1978</th>\n",
       "      <th>...</th>\n",
       "      <th>2007</th>\n",
       "      <th>2008</th>\n",
       "      <th>2009</th>\n",
       "      <th>2010</th>\n",
       "      <th>2011</th>\n",
       "      <th>2012</th>\n",
       "      <th>2013</th>\n",
       "      <th>2014</th>\n",
       "      <th>2015</th>\n",
       "      <th>levels2015</th>\n",
       "    </tr>\n",
       "  </thead>\n",
       "  <tbody>\n",
       "    <tr>\n",
       "      <th>15</th>\n",
       "      <td>Belarus</td>\n",
       "      <td>7.25</td>\n",
       "      <td>7.40</td>\n",
       "      <td>7.56</td>\n",
       "      <td>7.72</td>\n",
       "      <td>7.88</td>\n",
       "      <td>8.04</td>\n",
       "      <td>8.21</td>\n",
       "      <td>8.37</td>\n",
       "      <td>8.53</td>\n",
       "      <td>...</td>\n",
       "      <td>13.5</td>\n",
       "      <td>13.7</td>\n",
       "      <td>13.9</td>\n",
       "      <td>14.0</td>\n",
       "      <td>14.2</td>\n",
       "      <td>14.3</td>\n",
       "      <td>14.5</td>\n",
       "      <td>14.6</td>\n",
       "      <td>14.8</td>\n",
       "      <td>highest</td>\n",
       "    </tr>\n",
       "    <tr>\n",
       "      <th>30</th>\n",
       "      <td>Canada</td>\n",
       "      <td>9.39</td>\n",
       "      <td>9.58</td>\n",
       "      <td>9.77</td>\n",
       "      <td>9.96</td>\n",
       "      <td>10.20</td>\n",
       "      <td>10.30</td>\n",
       "      <td>10.50</td>\n",
       "      <td>10.70</td>\n",
       "      <td>10.90</td>\n",
       "      <td>...</td>\n",
       "      <td>14.7</td>\n",
       "      <td>14.8</td>\n",
       "      <td>14.9</td>\n",
       "      <td>15.1</td>\n",
       "      <td>15.2</td>\n",
       "      <td>15.3</td>\n",
       "      <td>15.4</td>\n",
       "      <td>15.5</td>\n",
       "      <td>15.6</td>\n",
       "      <td>highest</td>\n",
       "    </tr>\n",
       "    <tr>\n",
       "      <th>45</th>\n",
       "      <td>Czech Republic</td>\n",
       "      <td>7.49</td>\n",
       "      <td>7.65</td>\n",
       "      <td>7.81</td>\n",
       "      <td>7.98</td>\n",
       "      <td>8.14</td>\n",
       "      <td>8.31</td>\n",
       "      <td>8.48</td>\n",
       "      <td>8.64</td>\n",
       "      <td>8.81</td>\n",
       "      <td>...</td>\n",
       "      <td>13.3</td>\n",
       "      <td>13.4</td>\n",
       "      <td>13.5</td>\n",
       "      <td>13.7</td>\n",
       "      <td>13.8</td>\n",
       "      <td>13.9</td>\n",
       "      <td>14.1</td>\n",
       "      <td>14.2</td>\n",
       "      <td>14.3</td>\n",
       "      <td>highest</td>\n",
       "    </tr>\n",
       "    <tr>\n",
       "      <th>46</th>\n",
       "      <td>Denmark</td>\n",
       "      <td>8.22</td>\n",
       "      <td>8.38</td>\n",
       "      <td>8.54</td>\n",
       "      <td>8.71</td>\n",
       "      <td>8.87</td>\n",
       "      <td>9.04</td>\n",
       "      <td>9.21</td>\n",
       "      <td>9.37</td>\n",
       "      <td>9.54</td>\n",
       "      <td>...</td>\n",
       "      <td>14.0</td>\n",
       "      <td>14.1</td>\n",
       "      <td>14.2</td>\n",
       "      <td>14.4</td>\n",
       "      <td>14.5</td>\n",
       "      <td>14.6</td>\n",
       "      <td>14.8</td>\n",
       "      <td>14.9</td>\n",
       "      <td>15.0</td>\n",
       "      <td>highest</td>\n",
       "    </tr>\n",
       "    <tr>\n",
       "      <th>55</th>\n",
       "      <td>Estonia</td>\n",
       "      <td>7.27</td>\n",
       "      <td>7.43</td>\n",
       "      <td>7.59</td>\n",
       "      <td>7.75</td>\n",
       "      <td>7.92</td>\n",
       "      <td>8.08</td>\n",
       "      <td>8.25</td>\n",
       "      <td>8.41</td>\n",
       "      <td>8.58</td>\n",
       "      <td>...</td>\n",
       "      <td>13.5</td>\n",
       "      <td>13.6</td>\n",
       "      <td>13.8</td>\n",
       "      <td>13.9</td>\n",
       "      <td>14.1</td>\n",
       "      <td>14.2</td>\n",
       "      <td>14.3</td>\n",
       "      <td>14.5</td>\n",
       "      <td>14.6</td>\n",
       "      <td>highest</td>\n",
       "    </tr>\n",
       "  </tbody>\n",
       "</table>\n",
       "<p>5 rows × 48 columns</p>\n",
       "</div>"
      ],
      "text/plain": [
       "           country  1970  1971  1972  1973   1974   1975   1976   1977   1978  \\\n",
       "15         Belarus  7.25  7.40  7.56  7.72   7.88   8.04   8.21   8.37   8.53   \n",
       "30          Canada  9.39  9.58  9.77  9.96  10.20  10.30  10.50  10.70  10.90   \n",
       "45  Czech Republic  7.49  7.65  7.81  7.98   8.14   8.31   8.48   8.64   8.81   \n",
       "46         Denmark  8.22  8.38  8.54  8.71   8.87   9.04   9.21   9.37   9.54   \n",
       "55         Estonia  7.27  7.43  7.59  7.75   7.92   8.08   8.25   8.41   8.58   \n",
       "\n",
       "       ...      2007  2008  2009  2010  2011  2012  2013  2014  2015  \\\n",
       "15     ...      13.5  13.7  13.9  14.0  14.2  14.3  14.5  14.6  14.8   \n",
       "30     ...      14.7  14.8  14.9  15.1  15.2  15.3  15.4  15.5  15.6   \n",
       "45     ...      13.3  13.4  13.5  13.7  13.8  13.9  14.1  14.2  14.3   \n",
       "46     ...      14.0  14.1  14.2  14.4  14.5  14.6  14.8  14.9  15.0   \n",
       "55     ...      13.5  13.6  13.8  13.9  14.1  14.2  14.3  14.5  14.6   \n",
       "\n",
       "    levels2015  \n",
       "15     highest  \n",
       "30     highest  \n",
       "45     highest  \n",
       "46     highest  \n",
       "55     highest  \n",
       "\n",
       "[5 rows x 48 columns]"
      ]
     },
     "execution_count": 318,
     "metadata": {},
     "output_type": "execute_result"
    }
   ],
   "source": [
    "school[school['levels2015'] == 'highest'].head(5)"
   ]
  },
  {
   "cell_type": "code",
   "execution_count": 321,
   "metadata": {},
   "outputs": [
    {
     "data": {
      "image/png": "[encoded data removed]",
      "text/plain": [
       "<Figure size 720x504 with 1 Axes>"
      ]
     },
     "metadata": {
      "needs_background": "light"
     },
     "output_type": "display_data"
    }
   ],
   "source": [
    "#visualize the lowest countries\n",
    "country_bar_plot(school, 10, 7, 'levels2015', 'lowest', '2015','Years of Education', 'Countries with women who have the least amount of education (in years, on average) by age range 35-44.', rot_ticks= True)    \n"
   ]
  },
  {
   "cell_type": "code",
   "execution_count": 323,
   "metadata": {},
   "outputs": [
    {
     "data": {
      "image/png": "[encoded data removed]",
      "text/plain": [
       "<Figure size 720x504 with 1 Axes>"
      ]
     },
     "metadata": {
      "needs_background": "light"
     },
     "output_type": "display_data"
    }
   ],
   "source": [
    "#visualize the highest countries\n",
    "country_bar_plot(school, 10, 7, 'levels2015', 'highest', '2015', 'Years of Education', 'Countries with women who have the most amount of education (in years, on average) by age range 35-44.', rot_ticks= True)    \n"
   ]
  },
  {
   "cell_type": "markdown",
   "metadata": {},
   "source": [
    "**Again, least educated females are from countries that also have low GDP- most from Africa. Highly educated females are from countires in Europe and North America (except for Mexico). Canada has the most educated females by the age of 35, on average. Females in this country have close to 16 years of education which is roughly K - 12 + 3-4 years of post-secondary school. These are data just for 2015 so let's see how these indicators have changed from 1970 to 2015**"
   ]
  },
  {
   "cell_type": "markdown",
   "metadata": {},
   "source": [
    "\n",
    "### Research Question 2: Where have there been increases, where have these indicators been stagnant?\n",
    "> A. Where has GDP increased the most since 1970? Where has GDP growth been stagnant?  \n",
    "> B. Where has mortality rate decreased the most since 1970? Where has mortality rate been stagnant? Has there been an increase in mortality rate anywhere?  \n",
    "> C. Where has education rate of women increased the most since 1970? Where has it been stagnant?   \n",
    "\n"
   ]
  },
  {
   "cell_type": "markdown",
   "metadata": {},
   "source": [
    "**A. Where has GDP increased the most since 1970? Where has GDP growth been stagnant? Where has there been a decline?**"
   ]
  },
  {
   "cell_type": "code",
   "execution_count": 324,
   "metadata": {},
   "outputs": [],
   "source": [
    "#make rate of increase column`\n",
    "inc['rate'] = ((inc['2015']-inc['1970'])/inc['1970']) *100\n",
    "#M['rate'] = ((M['2015']-M['1970'])/M['1970']) *100\n",
    "#school['rate'] = ((school['2015']-school['1970'])/school['1970']) *100"
   ]
  },
  {
   "cell_type": "code",
   "execution_count": 325,
   "metadata": {},
   "outputs": [
    {
     "data": {
      "text/plain": [
       "count     187.000000\n",
       "mean      160.196880\n",
       "std       264.111496\n",
       "min       -79.483283\n",
       "25%        45.547786\n",
       "50%        97.540984\n",
       "75%       187.027169\n",
       "max      2265.217391\n",
       "Name: rate, dtype: float64"
      ]
     },
     "execution_count": 325,
     "metadata": {},
     "output_type": "execute_result"
    }
   ],
   "source": [
    "sum = inc['rate'].describe()\n",
    "sum"
   ]
  },
  {
   "cell_type": "code",
   "execution_count": 326,
   "metadata": {},
   "outputs": [
    {
     "data": {
      "text/plain": [
       "[-79.48428267477205,\n",
       " 0,\n",
       " 22.773892773892776,\n",
       " 45.54778554778555,\n",
       " 97.54098360655738,\n",
       " 187.02716944044806,\n",
       " 1226.1222803723979,\n",
       " 2265.2183913043477]"
      ]
     },
     "execution_count": 326,
     "metadata": {},
     "output_type": "execute_result"
    }
   ],
   "source": [
    "#make bins, here we need to use a different function \n",
    "def make_bin_edges_rate(x):\n",
    "    ''' x -> an array of floats'''\n",
    "    \n",
    "    if sum['min'] < 0:\n",
    "        dec = sum['min']-0.001\n",
    "        min1 = 0\n",
    "    else: \n",
    "        min1 = sum['min']\n",
    "    \n",
    "    low = (min1 + x['25%'])/2\n",
    "    low_med = x['25%']\n",
    "    med = x['50%']\n",
    "    med_high = x['75%']\n",
    "    high = (med_high + x['max'])/2\n",
    "    highest = x['max']+0.001\n",
    "    return [dec, min1, low, low_med, med, med_high, high, highest]\n",
    "\n",
    "\n",
    "bin_edges = make_bin_edges_rate(sum)\n",
    "bin_names = ['decreasing', 'lowest', 'low', 'medium_low', 'medium', 'high', 'highest']\n",
    "bin_edges"
   ]
  },
  {
   "cell_type": "code",
   "execution_count": 327,
   "metadata": {},
   "outputs": [
    {
     "data": {
      "text/plain": [
       "0    medium_low\n",
       "1          high\n",
       "2    medium_low\n",
       "3           low\n",
       "4        lowest\n",
       "Name: level_rate, dtype: category\n",
       "Categories (7, object): [decreasing < lowest < low < medium_low < medium < high < highest]"
      ]
     },
     "execution_count": 327,
     "metadata": {},
     "output_type": "execute_result"
    }
   ],
   "source": [
    "#add bins to the inc df\n",
    "inc['level_rate'] = pd.cut(inc['rate'], bin_edges, labels=bin_names)\n",
    "\n",
    "inc['level_rate'].head(5)"
   ]
  },
  {
   "cell_type": "code",
   "execution_count": 328,
   "metadata": {},
   "outputs": [
    {
     "data": {
      "text/html": [
       "<div>\n",
       "<style scoped>\n",
       "    .dataframe tbody tr th:only-of-type {\n",
       "        vertical-align: middle;\n",
       "    }\n",
       "\n",
       "    .dataframe tbody tr th {\n",
       "        vertical-align: top;\n",
       "    }\n",
       "\n",
       "    .dataframe thead th {\n",
       "        text-align: right;\n",
       "    }\n",
       "</style>\n",
       "<table border=\"1\" class=\"dataframe\">\n",
       "  <thead>\n",
       "    <tr style=\"text-align: right;\">\n",
       "      <th></th>\n",
       "      <th>country</th>\n",
       "      <th>1970</th>\n",
       "      <th>1971</th>\n",
       "      <th>1972</th>\n",
       "      <th>1973</th>\n",
       "      <th>1974</th>\n",
       "      <th>1975</th>\n",
       "      <th>1976</th>\n",
       "      <th>1977</th>\n",
       "      <th>1978</th>\n",
       "      <th>...</th>\n",
       "      <th>2009</th>\n",
       "      <th>2010</th>\n",
       "      <th>2011</th>\n",
       "      <th>2012</th>\n",
       "      <th>2013</th>\n",
       "      <th>2014</th>\n",
       "      <th>2015</th>\n",
       "      <th>levels2015</th>\n",
       "      <th>rate</th>\n",
       "      <th>level_rate</th>\n",
       "    </tr>\n",
       "  </thead>\n",
       "  <tbody>\n",
       "    <tr>\n",
       "      <th>24</th>\n",
       "      <td>Brunei</td>\n",
       "      <td>79300</td>\n",
       "      <td>83800</td>\n",
       "      <td>88700</td>\n",
       "      <td>93400</td>\n",
       "      <td>100000</td>\n",
       "      <td>96800</td>\n",
       "      <td>112000</td>\n",
       "      <td>120000</td>\n",
       "      <td>123000</td>\n",
       "      <td>...</td>\n",
       "      <td>79500</td>\n",
       "      <td>80600</td>\n",
       "      <td>82400</td>\n",
       "      <td>82000</td>\n",
       "      <td>79100</td>\n",
       "      <td>76100</td>\n",
       "      <td>74600</td>\n",
       "      <td>highest</td>\n",
       "      <td>-5.926860</td>\n",
       "      <td>decreasing</td>\n",
       "    </tr>\n",
       "    <tr>\n",
       "      <th>27</th>\n",
       "      <td>Burundi</td>\n",
       "      <td>802</td>\n",
       "      <td>849</td>\n",
       "      <td>773</td>\n",
       "      <td>828</td>\n",
       "      <td>810</td>\n",
       "      <td>802</td>\n",
       "      <td>850</td>\n",
       "      <td>936</td>\n",
       "      <td>905</td>\n",
       "      <td>...</td>\n",
       "      <td>760</td>\n",
       "      <td>764</td>\n",
       "      <td>772</td>\n",
       "      <td>779</td>\n",
       "      <td>791</td>\n",
       "      <td>803</td>\n",
       "      <td>749</td>\n",
       "      <td>lowest</td>\n",
       "      <td>-6.608479</td>\n",
       "      <td>decreasing</td>\n",
       "    </tr>\n",
       "    <tr>\n",
       "      <th>32</th>\n",
       "      <td>Central African Republic</td>\n",
       "      <td>1350</td>\n",
       "      <td>1270</td>\n",
       "      <td>1220</td>\n",
       "      <td>1240</td>\n",
       "      <td>1180</td>\n",
       "      <td>1170</td>\n",
       "      <td>1190</td>\n",
       "      <td>1250</td>\n",
       "      <td>1240</td>\n",
       "      <td>...</td>\n",
       "      <td>870</td>\n",
       "      <td>888</td>\n",
       "      <td>912</td>\n",
       "      <td>946</td>\n",
       "      <td>598</td>\n",
       "      <td>602</td>\n",
       "      <td>626</td>\n",
       "      <td>lowest</td>\n",
       "      <td>-53.629630</td>\n",
       "      <td>decreasing</td>\n",
       "    </tr>\n",
       "    <tr>\n",
       "      <th>37</th>\n",
       "      <td>Comoros</td>\n",
       "      <td>1430</td>\n",
       "      <td>1460</td>\n",
       "      <td>1460</td>\n",
       "      <td>1530</td>\n",
       "      <td>1530</td>\n",
       "      <td>1580</td>\n",
       "      <td>1530</td>\n",
       "      <td>1530</td>\n",
       "      <td>1510</td>\n",
       "      <td>...</td>\n",
       "      <td>1420</td>\n",
       "      <td>1410</td>\n",
       "      <td>1420</td>\n",
       "      <td>1420</td>\n",
       "      <td>1440</td>\n",
       "      <td>1430</td>\n",
       "      <td>1410</td>\n",
       "      <td>lowest</td>\n",
       "      <td>-1.398601</td>\n",
       "      <td>decreasing</td>\n",
       "    </tr>\n",
       "    <tr>\n",
       "      <th>38</th>\n",
       "      <td>Congo, Dem. Rep.</td>\n",
       "      <td>2110</td>\n",
       "      <td>2210</td>\n",
       "      <td>2160</td>\n",
       "      <td>2270</td>\n",
       "      <td>2340</td>\n",
       "      <td>2050</td>\n",
       "      <td>1850</td>\n",
       "      <td>1790</td>\n",
       "      <td>1640</td>\n",
       "      <td>...</td>\n",
       "      <td>588</td>\n",
       "      <td>609</td>\n",
       "      <td>630</td>\n",
       "      <td>653</td>\n",
       "      <td>685</td>\n",
       "      <td>726</td>\n",
       "      <td>750</td>\n",
       "      <td>lowest</td>\n",
       "      <td>-64.454976</td>\n",
       "      <td>decreasing</td>\n",
       "    </tr>\n",
       "  </tbody>\n",
       "</table>\n",
       "<p>5 rows × 50 columns</p>\n",
       "</div>"
      ],
      "text/plain": [
       "                     country   1970   1971   1972   1973    1974   1975  \\\n",
       "24                    Brunei  79300  83800  88700  93400  100000  96800   \n",
       "27                   Burundi    802    849    773    828     810    802   \n",
       "32  Central African Republic   1350   1270   1220   1240    1180   1170   \n",
       "37                   Comoros   1430   1460   1460   1530    1530   1580   \n",
       "38          Congo, Dem. Rep.   2110   2210   2160   2270    2340   2050   \n",
       "\n",
       "      1976    1977    1978     ...       2009   2010   2011   2012   2013  \\\n",
       "24  112000  120000  123000     ...      79500  80600  82400  82000  79100   \n",
       "27     850     936     905     ...        760    764    772    779    791   \n",
       "32    1190    1250    1240     ...        870    888    912    946    598   \n",
       "37    1530    1530    1510     ...       1420   1410   1420   1420   1440   \n",
       "38    1850    1790    1640     ...        588    609    630    653    685   \n",
       "\n",
       "     2014   2015  levels2015       rate  level_rate  \n",
       "24  76100  74600     highest  -5.926860  decreasing  \n",
       "27    803    749      lowest  -6.608479  decreasing  \n",
       "32    602    626      lowest -53.629630  decreasing  \n",
       "37   1430   1410      lowest  -1.398601  decreasing  \n",
       "38    726    750      lowest -64.454976  decreasing  \n",
       "\n",
       "[5 rows x 50 columns]"
      ]
     },
     "execution_count": 328,
     "metadata": {},
     "output_type": "execute_result"
    }
   ],
   "source": [
    "inc[inc['level_rate'] == 'decreasing'].head(5)"
   ]
  },
  {
   "cell_type": "code",
   "execution_count": 329,
   "metadata": {},
   "outputs": [
    {
     "data": {
      "text/plain": [
       "0"
      ]
     },
     "execution_count": 329,
     "metadata": {},
     "output_type": "execute_result"
    }
   ],
   "source": [
    "#check to make sure every entry got a level\n",
    "inc['level_rate'].isnull().any().sum()"
   ]
  },
  {
   "cell_type": "code",
   "execution_count": 330,
   "metadata": {},
   "outputs": [
    {
     "data": {
      "text/html": [
       "<div>\n",
       "<style scoped>\n",
       "    .dataframe tbody tr th:only-of-type {\n",
       "        vertical-align: middle;\n",
       "    }\n",
       "\n",
       "    .dataframe tbody tr th {\n",
       "        vertical-align: top;\n",
       "    }\n",
       "\n",
       "    .dataframe thead th {\n",
       "        text-align: right;\n",
       "    }\n",
       "</style>\n",
       "<table border=\"1\" class=\"dataframe\">\n",
       "  <thead>\n",
       "    <tr style=\"text-align: right;\">\n",
       "      <th></th>\n",
       "      <th>country</th>\n",
       "      <th>1970</th>\n",
       "      <th>1971</th>\n",
       "      <th>1972</th>\n",
       "      <th>1973</th>\n",
       "      <th>1974</th>\n",
       "      <th>1975</th>\n",
       "      <th>1976</th>\n",
       "      <th>1977</th>\n",
       "      <th>1978</th>\n",
       "      <th>...</th>\n",
       "      <th>2009</th>\n",
       "      <th>2010</th>\n",
       "      <th>2011</th>\n",
       "      <th>2012</th>\n",
       "      <th>2013</th>\n",
       "      <th>2014</th>\n",
       "      <th>2015</th>\n",
       "      <th>levels2015</th>\n",
       "      <th>rate</th>\n",
       "      <th>level_rate</th>\n",
       "    </tr>\n",
       "  </thead>\n",
       "  <tbody>\n",
       "    <tr>\n",
       "      <th>4</th>\n",
       "      <td>Angola</td>\n",
       "      <td>5550</td>\n",
       "      <td>5780</td>\n",
       "      <td>5670</td>\n",
       "      <td>6000</td>\n",
       "      <td>6060</td>\n",
       "      <td>5620</td>\n",
       "      <td>5200</td>\n",
       "      <td>5110</td>\n",
       "      <td>4720</td>\n",
       "      <td>...</td>\n",
       "      <td>5910</td>\n",
       "      <td>5900</td>\n",
       "      <td>5910</td>\n",
       "      <td>6000</td>\n",
       "      <td>6190</td>\n",
       "      <td>6260</td>\n",
       "      <td>6230</td>\n",
       "      <td>medium_low</td>\n",
       "      <td>12.252252</td>\n",
       "      <td>lowest</td>\n",
       "    </tr>\n",
       "    <tr>\n",
       "      <th>11</th>\n",
       "      <td>Bahamas</td>\n",
       "      <td>21200</td>\n",
       "      <td>21000</td>\n",
       "      <td>19900</td>\n",
       "      <td>21000</td>\n",
       "      <td>17100</td>\n",
       "      <td>14300</td>\n",
       "      <td>14800</td>\n",
       "      <td>15800</td>\n",
       "      <td>17700</td>\n",
       "      <td>...</td>\n",
       "      <td>22900</td>\n",
       "      <td>22900</td>\n",
       "      <td>22700</td>\n",
       "      <td>23000</td>\n",
       "      <td>22700</td>\n",
       "      <td>22300</td>\n",
       "      <td>21700</td>\n",
       "      <td>medium</td>\n",
       "      <td>2.358491</td>\n",
       "      <td>lowest</td>\n",
       "    </tr>\n",
       "    <tr>\n",
       "      <th>54</th>\n",
       "      <td>Eritrea</td>\n",
       "      <td>1090</td>\n",
       "      <td>1110</td>\n",
       "      <td>1120</td>\n",
       "      <td>1120</td>\n",
       "      <td>1090</td>\n",
       "      <td>1020</td>\n",
       "      <td>999</td>\n",
       "      <td>983</td>\n",
       "      <td>913</td>\n",
       "      <td>...</td>\n",
       "      <td>1410</td>\n",
       "      <td>1420</td>\n",
       "      <td>1510</td>\n",
       "      <td>1180</td>\n",
       "      <td>1160</td>\n",
       "      <td>1200</td>\n",
       "      <td>1240</td>\n",
       "      <td>lowest</td>\n",
       "      <td>13.761468</td>\n",
       "      <td>lowest</td>\n",
       "    </tr>\n",
       "    <tr>\n",
       "      <th>61</th>\n",
       "      <td>Gambia</td>\n",
       "      <td>1480</td>\n",
       "      <td>1600</td>\n",
       "      <td>1660</td>\n",
       "      <td>1680</td>\n",
       "      <td>1960</td>\n",
       "      <td>1780</td>\n",
       "      <td>1920</td>\n",
       "      <td>1960</td>\n",
       "      <td>1800</td>\n",
       "      <td>...</td>\n",
       "      <td>1600</td>\n",
       "      <td>1660</td>\n",
       "      <td>1540</td>\n",
       "      <td>1580</td>\n",
       "      <td>1600</td>\n",
       "      <td>1560</td>\n",
       "      <td>1590</td>\n",
       "      <td>lowest</td>\n",
       "      <td>7.432432</td>\n",
       "      <td>lowest</td>\n",
       "    </tr>\n",
       "    <tr>\n",
       "      <th>68</th>\n",
       "      <td>Guinea</td>\n",
       "      <td>963</td>\n",
       "      <td>975</td>\n",
       "      <td>976</td>\n",
       "      <td>1000</td>\n",
       "      <td>1050</td>\n",
       "      <td>1070</td>\n",
       "      <td>1160</td>\n",
       "      <td>1160</td>\n",
       "      <td>1170</td>\n",
       "      <td>...</td>\n",
       "      <td>1200</td>\n",
       "      <td>1190</td>\n",
       "      <td>1210</td>\n",
       "      <td>1230</td>\n",
       "      <td>1240</td>\n",
       "      <td>1210</td>\n",
       "      <td>1180</td>\n",
       "      <td>lowest</td>\n",
       "      <td>22.533749</td>\n",
       "      <td>lowest</td>\n",
       "    </tr>\n",
       "  </tbody>\n",
       "</table>\n",
       "<p>5 rows × 50 columns</p>\n",
       "</div>"
      ],
      "text/plain": [
       "    country   1970   1971   1972   1973   1974   1975   1976   1977   1978  \\\n",
       "4    Angola   5550   5780   5670   6000   6060   5620   5200   5110   4720   \n",
       "11  Bahamas  21200  21000  19900  21000  17100  14300  14800  15800  17700   \n",
       "54  Eritrea   1090   1110   1120   1120   1090   1020    999    983    913   \n",
       "61   Gambia   1480   1600   1660   1680   1960   1780   1920   1960   1800   \n",
       "68   Guinea    963    975    976   1000   1050   1070   1160   1160   1170   \n",
       "\n",
       "       ...       2009   2010   2011   2012   2013   2014   2015  levels2015  \\\n",
       "4      ...       5910   5900   5910   6000   6190   6260   6230  medium_low   \n",
       "11     ...      22900  22900  22700  23000  22700  22300  21700      medium   \n",
       "54     ...       1410   1420   1510   1180   1160   1200   1240      lowest   \n",
       "61     ...       1600   1660   1540   1580   1600   1560   1590      lowest   \n",
       "68     ...       1200   1190   1210   1230   1240   1210   1180      lowest   \n",
       "\n",
       "         rate  level_rate  \n",
       "4   12.252252      lowest  \n",
       "11   2.358491      lowest  \n",
       "54  13.761468      lowest  \n",
       "61   7.432432      lowest  \n",
       "68  22.533749      lowest  \n",
       "\n",
       "[5 rows x 50 columns]"
      ]
     },
     "execution_count": 330,
     "metadata": {},
     "output_type": "execute_result"
    }
   ],
   "source": [
    "#select lowest countries and select highest countries\n",
    "inc[inc['level_rate'] == 'lowest'].head(5)"
   ]
  },
  {
   "cell_type": "code",
   "execution_count": 331,
   "metadata": {},
   "outputs": [
    {
     "data": {
      "text/html": [
       "<div>\n",
       "<style scoped>\n",
       "    .dataframe tbody tr th:only-of-type {\n",
       "        vertical-align: middle;\n",
       "    }\n",
       "\n",
       "    .dataframe tbody tr th {\n",
       "        vertical-align: top;\n",
       "    }\n",
       "\n",
       "    .dataframe thead th {\n",
       "        text-align: right;\n",
       "    }\n",
       "</style>\n",
       "<table border=\"1\" class=\"dataframe\">\n",
       "  <thead>\n",
       "    <tr style=\"text-align: right;\">\n",
       "      <th></th>\n",
       "      <th>country</th>\n",
       "      <th>1970</th>\n",
       "      <th>1971</th>\n",
       "      <th>1972</th>\n",
       "      <th>1973</th>\n",
       "      <th>1974</th>\n",
       "      <th>1975</th>\n",
       "      <th>1976</th>\n",
       "      <th>1977</th>\n",
       "      <th>1978</th>\n",
       "      <th>...</th>\n",
       "      <th>2009</th>\n",
       "      <th>2010</th>\n",
       "      <th>2011</th>\n",
       "      <th>2012</th>\n",
       "      <th>2013</th>\n",
       "      <th>2014</th>\n",
       "      <th>2015</th>\n",
       "      <th>levels2015</th>\n",
       "      <th>rate</th>\n",
       "      <th>level_rate</th>\n",
       "    </tr>\n",
       "  </thead>\n",
       "  <tbody>\n",
       "    <tr>\n",
       "      <th>35</th>\n",
       "      <td>China</td>\n",
       "      <td>851</td>\n",
       "      <td>879</td>\n",
       "      <td>846</td>\n",
       "      <td>898</td>\n",
       "      <td>892</td>\n",
       "      <td>924</td>\n",
       "      <td>896</td>\n",
       "      <td>909</td>\n",
       "      <td>1020</td>\n",
       "      <td>...</td>\n",
       "      <td>8650</td>\n",
       "      <td>9530</td>\n",
       "      <td>10400</td>\n",
       "      <td>11100</td>\n",
       "      <td>12000</td>\n",
       "      <td>12800</td>\n",
       "      <td>13600</td>\n",
       "      <td>medium</td>\n",
       "      <td>1498.119859</td>\n",
       "      <td>highest</td>\n",
       "    </tr>\n",
       "    <tr>\n",
       "      <th>53</th>\n",
       "      <td>Equatorial Guinea</td>\n",
       "      <td>1150</td>\n",
       "      <td>1040</td>\n",
       "      <td>899</td>\n",
       "      <td>936</td>\n",
       "      <td>991</td>\n",
       "      <td>1140</td>\n",
       "      <td>1270</td>\n",
       "      <td>1280</td>\n",
       "      <td>1380</td>\n",
       "      <td>...</td>\n",
       "      <td>38700</td>\n",
       "      <td>33700</td>\n",
       "      <td>34400</td>\n",
       "      <td>35600</td>\n",
       "      <td>32700</td>\n",
       "      <td>31200</td>\n",
       "      <td>27200</td>\n",
       "      <td>high</td>\n",
       "      <td>2265.217391</td>\n",
       "      <td>highest</td>\n",
       "    </tr>\n",
       "    <tr>\n",
       "      <th>156</th>\n",
       "      <td>South Korea</td>\n",
       "      <td>2080</td>\n",
       "      <td>2360</td>\n",
       "      <td>2680</td>\n",
       "      <td>3230</td>\n",
       "      <td>3570</td>\n",
       "      <td>3990</td>\n",
       "      <td>4470</td>\n",
       "      <td>4810</td>\n",
       "      <td>5210</td>\n",
       "      <td>...</td>\n",
       "      <td>28600</td>\n",
       "      <td>30400</td>\n",
       "      <td>31200</td>\n",
       "      <td>31800</td>\n",
       "      <td>32500</td>\n",
       "      <td>33400</td>\n",
       "      <td>34200</td>\n",
       "      <td>high</td>\n",
       "      <td>1544.230769</td>\n",
       "      <td>highest</td>\n",
       "    </tr>\n",
       "  </tbody>\n",
       "</table>\n",
       "<p>3 rows × 50 columns</p>\n",
       "</div>"
      ],
      "text/plain": [
       "               country  1970  1971  1972  1973  1974  1975  1976  1977  1978  \\\n",
       "35               China   851   879   846   898   892   924   896   909  1020   \n",
       "53   Equatorial Guinea  1150  1040   899   936   991  1140  1270  1280  1380   \n",
       "156        South Korea  2080  2360  2680  3230  3570  3990  4470  4810  5210   \n",
       "\n",
       "        ...       2009   2010   2011   2012   2013   2014   2015  levels2015  \\\n",
       "35      ...       8650   9530  10400  11100  12000  12800  13600      medium   \n",
       "53      ...      38700  33700  34400  35600  32700  31200  27200        high   \n",
       "156     ...      28600  30400  31200  31800  32500  33400  34200        high   \n",
       "\n",
       "            rate  level_rate  \n",
       "35   1498.119859     highest  \n",
       "53   2265.217391     highest  \n",
       "156  1544.230769     highest  \n",
       "\n",
       "[3 rows x 50 columns]"
      ]
     },
     "execution_count": 331,
     "metadata": {},
     "output_type": "execute_result"
    }
   ],
   "source": [
    "inc[inc['level_rate'] == 'highest']"
   ]
  },
  {
   "cell_type": "code",
   "execution_count": 332,
   "metadata": {},
   "outputs": [
    {
     "data": {
      "image/png": "[encoded data removed]",
      "text/plain": [
       "<Figure size 720x504 with 1 Axes>"
      ]
     },
     "metadata": {
      "needs_background": "light"
     },
     "output_type": "display_data"
    }
   ],
   "source": [
    "#visualize countries who have grown the least\n",
    "country_bar_plot(inc, 10, 7, 'level_rate', 'lowest', 'rate', 'Percent Change in GDP PPP per capita US Dollar, \\n adjusted for inflation', 'Smallest Change in GDP from 1970 to 2015', rot_ticks= True)    "
   ]
  },
  {
   "cell_type": "markdown",
   "metadata": {},
   "source": [
    "**These countries have had the smallest change in GDP since 1970. In these cases these countries are closest to their GDP in 1970. Venezuela has had the smallest increase in GDP and they have been having civil unrest due to their devestating economic issues under the reign of Hugo Chavez and Nicolas Maduro.**"
   ]
  },
  {
   "cell_type": "code",
   "execution_count": 335,
   "metadata": {},
   "outputs": [
    {
     "data": {
      "image/png": "[encoded data removed]",
      "text/plain": [
       "<Figure size 504x360 with 1 Axes>"
      ]
     },
     "metadata": {
      "needs_background": "light"
     },
     "output_type": "display_data"
    }
   ],
   "source": [
    "#visualize the countries who have grown the most\n",
    "country_bar_plot(inc, 7, 5, 'level_rate', 'highest', 'rate', 'Percent Change in GDP PPP per capita US Dollar, \\n adjusted for inflation', 'Countries who have had the largest Change in GDP from 1970 to 2015.', rot_ticks= True)    \n"
   ]
  },
  {
   "cell_type": "markdown",
   "metadata": {},
   "source": [
    "**China, South Korea and Equatorial Guinea have grown the most in GDP**"
   ]
  },
  {
   "cell_type": "code",
   "execution_count": 336,
   "metadata": {},
   "outputs": [
    {
     "data": {
      "image/png": "[encoded data removed]",
      "text/plain": [
       "<Figure size 720x360 with 1 Axes>"
      ]
     },
     "metadata": {
      "needs_background": "light"
     },
     "output_type": "display_data"
    }
   ],
   "source": [
    "\n",
    "#visualize the countries decreasing\n",
    "country_bar_plot(inc, 10, 5, 'level_rate', 'decreasing', 'rate', 'Percent Change in GDP PPP per capita US Dollar, \\n adjusted for inflation', 'Countries with decreasing GDP since 1970.', rot_ticks= True)    \n"
   ]
  },
  {
   "cell_type": "markdown",
   "metadata": {},
   "source": [
    "**Again, the GDP in many countries in Africa has declined since 1970. Most of these countries have gone through civil unrest, dictatorships, or environtmental disaster (i.e. Haiti).**"
   ]
  },
  {
   "cell_type": "markdown",
   "metadata": {},
   "source": [
    "**B. Where has mortality rate decreased the most since 1970? Where has mortality rate been stagnant? Has there been an increase in mortality rate anywhere?**"
   ]
  },
  {
   "cell_type": "code",
   "execution_count": 337,
   "metadata": {},
   "outputs": [],
   "source": [
    "#make rate of increase column`\n",
    "M['rate'] = ((M['2015']-M['1970'])/M['1970']) *100"
   ]
  },
  {
   "cell_type": "code",
   "execution_count": 338,
   "metadata": {},
   "outputs": [
    {
     "data": {
      "text/plain": [
       "count    187.000000\n",
       "mean     -77.129728\n",
       "std       11.631910\n",
       "min      -96.551724\n",
       "25%      -86.339623\n",
       "50%      -79.047619\n",
       "75%      -70.404132\n",
       "max      -41.363636\n",
       "Name: rate, dtype: float64"
      ]
     },
     "execution_count": 338,
     "metadata": {},
     "output_type": "execute_result"
    }
   ],
   "source": [
    "sum = M['rate'].describe()\n",
    "sum"
   ]
  },
  {
   "cell_type": "code",
   "execution_count": 339,
   "metadata": {},
   "outputs": [
    {
     "data": {
      "text/plain": [
       "[-96.55272413793104,\n",
       " -91.44617338972023,\n",
       " -86.33962264150944,\n",
       " -79.04761904761905,\n",
       " -70.40413163426169,\n",
       " -55.88388399894903,\n",
       " -41.36263636363637]"
      ]
     },
     "execution_count": 339,
     "metadata": {},
     "output_type": "execute_result"
    }
   ],
   "source": [
    "#make bins\n",
    "# here we will use the first make_bin_edge function\n",
    "\n",
    "bin_edges=make_bin_edges(sum)\n",
    "bin_names = ['highest', 'high', 'medium high', 'medium', 'medium_low', 'low']\n",
    "bin_edges"
   ]
  },
  {
   "cell_type": "code",
   "execution_count": 340,
   "metadata": {},
   "outputs": [
    {
     "data": {
      "text/plain": [
       "0        medium\n",
       "1          high\n",
       "2          high\n",
       "3        medium\n",
       "4    medium_low\n",
       "Name: level_rate, dtype: category\n",
       "Categories (6, object): [highest < high < medium high < medium < medium_low < low]"
      ]
     },
     "execution_count": 340,
     "metadata": {},
     "output_type": "execute_result"
    }
   ],
   "source": [
    "#add bins to the M df\n",
    "M['level_rate'] = pd.cut(M['rate'], bin_edges, labels=bin_names)\n",
    "\n",
    "M['level_rate'].head(5)"
   ]
  },
  {
   "cell_type": "code",
   "execution_count": 341,
   "metadata": {},
   "outputs": [
    {
     "data": {
      "text/plain": [
       "0"
      ]
     },
     "execution_count": 341,
     "metadata": {},
     "output_type": "execute_result"
    }
   ],
   "source": [
    "#check to make sure every entry got a level\n",
    "M['level_rate'].isnull().any().sum()"
   ]
  },
  {
   "cell_type": "code",
   "execution_count": 342,
   "metadata": {},
   "outputs": [
    {
     "data": {
      "text/html": [
       "<div>\n",
       "<style scoped>\n",
       "    .dataframe tbody tr th:only-of-type {\n",
       "        vertical-align: middle;\n",
       "    }\n",
       "\n",
       "    .dataframe tbody tr th {\n",
       "        vertical-align: top;\n",
       "    }\n",
       "\n",
       "    .dataframe thead th {\n",
       "        text-align: right;\n",
       "    }\n",
       "</style>\n",
       "<table border=\"1\" class=\"dataframe\">\n",
       "  <thead>\n",
       "    <tr style=\"text-align: right;\">\n",
       "      <th></th>\n",
       "      <th>country</th>\n",
       "      <th>1970</th>\n",
       "      <th>1971</th>\n",
       "      <th>1972</th>\n",
       "      <th>1973</th>\n",
       "      <th>1974</th>\n",
       "      <th>1975</th>\n",
       "      <th>1976</th>\n",
       "      <th>1977</th>\n",
       "      <th>1978</th>\n",
       "      <th>...</th>\n",
       "      <th>2009</th>\n",
       "      <th>2010</th>\n",
       "      <th>2011</th>\n",
       "      <th>2012</th>\n",
       "      <th>2013</th>\n",
       "      <th>2014</th>\n",
       "      <th>2015</th>\n",
       "      <th>levels2015</th>\n",
       "      <th>rate</th>\n",
       "      <th>level_rate</th>\n",
       "    </tr>\n",
       "  </thead>\n",
       "  <tbody>\n",
       "    <tr>\n",
       "      <th>32</th>\n",
       "      <td>Central African Republic</td>\n",
       "      <td>220.0</td>\n",
       "      <td>215.0</td>\n",
       "      <td>210.0</td>\n",
       "      <td>205.0</td>\n",
       "      <td>201.0</td>\n",
       "      <td>197.0</td>\n",
       "      <td>194.0</td>\n",
       "      <td>191.0</td>\n",
       "      <td>187.0</td>\n",
       "      <td>...</td>\n",
       "      <td>153.0</td>\n",
       "      <td>149.0</td>\n",
       "      <td>145.0</td>\n",
       "      <td>141.0</td>\n",
       "      <td>138.0</td>\n",
       "      <td>134.0</td>\n",
       "      <td>129.0</td>\n",
       "      <td>highest</td>\n",
       "      <td>-41.363636</td>\n",
       "      <td>low</td>\n",
       "    </tr>\n",
       "    <tr>\n",
       "      <th>33</th>\n",
       "      <td>Chad</td>\n",
       "      <td>256.0</td>\n",
       "      <td>252.0</td>\n",
       "      <td>248.0</td>\n",
       "      <td>247.0</td>\n",
       "      <td>245.0</td>\n",
       "      <td>244.0</td>\n",
       "      <td>243.0</td>\n",
       "      <td>242.0</td>\n",
       "      <td>240.0</td>\n",
       "      <td>...</td>\n",
       "      <td>154.0</td>\n",
       "      <td>150.0</td>\n",
       "      <td>146.0</td>\n",
       "      <td>142.0</td>\n",
       "      <td>138.0</td>\n",
       "      <td>135.0</td>\n",
       "      <td>131.0</td>\n",
       "      <td>highest</td>\n",
       "      <td>-48.828125</td>\n",
       "      <td>low</td>\n",
       "    </tr>\n",
       "    <tr>\n",
       "      <th>48</th>\n",
       "      <td>Dominica</td>\n",
       "      <td>64.4</td>\n",
       "      <td>58.2</td>\n",
       "      <td>51.7</td>\n",
       "      <td>45.2</td>\n",
       "      <td>39.3</td>\n",
       "      <td>34.1</td>\n",
       "      <td>29.7</td>\n",
       "      <td>26.1</td>\n",
       "      <td>23.3</td>\n",
       "      <td>...</td>\n",
       "      <td>20.3</td>\n",
       "      <td>22.1</td>\n",
       "      <td>24.2</td>\n",
       "      <td>26.7</td>\n",
       "      <td>29.2</td>\n",
       "      <td>31.4</td>\n",
       "      <td>33.0</td>\n",
       "      <td>medium</td>\n",
       "      <td>-48.757764</td>\n",
       "      <td>low</td>\n",
       "    </tr>\n",
       "    <tr>\n",
       "      <th>70</th>\n",
       "      <td>Guyana</td>\n",
       "      <td>73.6</td>\n",
       "      <td>73.3</td>\n",
       "      <td>73.1</td>\n",
       "      <td>72.9</td>\n",
       "      <td>72.7</td>\n",
       "      <td>72.5</td>\n",
       "      <td>72.1</td>\n",
       "      <td>71.7</td>\n",
       "      <td>71.2</td>\n",
       "      <td>...</td>\n",
       "      <td>38.3</td>\n",
       "      <td>37.6</td>\n",
       "      <td>36.9</td>\n",
       "      <td>36.1</td>\n",
       "      <td>35.3</td>\n",
       "      <td>34.4</td>\n",
       "      <td>33.4</td>\n",
       "      <td>medium</td>\n",
       "      <td>-54.619565</td>\n",
       "      <td>low</td>\n",
       "    </tr>\n",
       "    <tr>\n",
       "      <th>93</th>\n",
       "      <td>Lesotho</td>\n",
       "      <td>178.0</td>\n",
       "      <td>174.0</td>\n",
       "      <td>169.0</td>\n",
       "      <td>165.0</td>\n",
       "      <td>160.0</td>\n",
       "      <td>155.0</td>\n",
       "      <td>149.0</td>\n",
       "      <td>143.0</td>\n",
       "      <td>137.0</td>\n",
       "      <td>...</td>\n",
       "      <td>103.0</td>\n",
       "      <td>99.7</td>\n",
       "      <td>98.0</td>\n",
       "      <td>97.6</td>\n",
       "      <td>98.5</td>\n",
       "      <td>98.3</td>\n",
       "      <td>97.9</td>\n",
       "      <td>highest</td>\n",
       "      <td>-45.000000</td>\n",
       "      <td>low</td>\n",
       "    </tr>\n",
       "  </tbody>\n",
       "</table>\n",
       "<p>5 rows × 50 columns</p>\n",
       "</div>"
      ],
      "text/plain": [
       "                     country   1970   1971   1972   1973   1974   1975   1976  \\\n",
       "32  Central African Republic  220.0  215.0  210.0  205.0  201.0  197.0  194.0   \n",
       "33                      Chad  256.0  252.0  248.0  247.0  245.0  244.0  243.0   \n",
       "48                  Dominica   64.4   58.2   51.7   45.2   39.3   34.1   29.7   \n",
       "70                    Guyana   73.6   73.3   73.1   72.9   72.7   72.5   72.1   \n",
       "93                   Lesotho  178.0  174.0  169.0  165.0  160.0  155.0  149.0   \n",
       "\n",
       "     1977   1978     ...       2009   2010   2011   2012   2013   2014   2015  \\\n",
       "32  191.0  187.0     ...      153.0  149.0  145.0  141.0  138.0  134.0  129.0   \n",
       "33  242.0  240.0     ...      154.0  150.0  146.0  142.0  138.0  135.0  131.0   \n",
       "48   26.1   23.3     ...       20.3   22.1   24.2   26.7   29.2   31.4   33.0   \n",
       "70   71.7   71.2     ...       38.3   37.6   36.9   36.1   35.3   34.4   33.4   \n",
       "93  143.0  137.0     ...      103.0   99.7   98.0   97.6   98.5   98.3   97.9   \n",
       "\n",
       "    levels2015       rate  level_rate  \n",
       "32     highest -41.363636         low  \n",
       "33     highest -48.828125         low  \n",
       "48      medium -48.757764         low  \n",
       "70      medium -54.619565         low  \n",
       "93     highest -45.000000         low  \n",
       "\n",
       "[5 rows x 50 columns]"
      ]
     },
     "execution_count": 342,
     "metadata": {},
     "output_type": "execute_result"
    }
   ],
   "source": [
    "#select countries with smallest decrease in mortality rate\n",
    "M[M['level_rate'] == 'low'].head(5)"
   ]
  },
  {
   "cell_type": "code",
   "execution_count": 343,
   "metadata": {},
   "outputs": [
    {
     "data": {
      "text/html": [
       "<div>\n",
       "<style scoped>\n",
       "    .dataframe tbody tr th:only-of-type {\n",
       "        vertical-align: middle;\n",
       "    }\n",
       "\n",
       "    .dataframe tbody tr th {\n",
       "        vertical-align: top;\n",
       "    }\n",
       "\n",
       "    .dataframe thead th {\n",
       "        text-align: right;\n",
       "    }\n",
       "</style>\n",
       "<table border=\"1\" class=\"dataframe\">\n",
       "  <thead>\n",
       "    <tr style=\"text-align: right;\">\n",
       "      <th></th>\n",
       "      <th>country</th>\n",
       "      <th>1970</th>\n",
       "      <th>1971</th>\n",
       "      <th>1972</th>\n",
       "      <th>1973</th>\n",
       "      <th>1974</th>\n",
       "      <th>1975</th>\n",
       "      <th>1976</th>\n",
       "      <th>1977</th>\n",
       "      <th>1978</th>\n",
       "      <th>...</th>\n",
       "      <th>2009</th>\n",
       "      <th>2010</th>\n",
       "      <th>2011</th>\n",
       "      <th>2012</th>\n",
       "      <th>2013</th>\n",
       "      <th>2014</th>\n",
       "      <th>2015</th>\n",
       "      <th>levels2015</th>\n",
       "      <th>rate</th>\n",
       "      <th>level_rate</th>\n",
       "    </tr>\n",
       "  </thead>\n",
       "  <tbody>\n",
       "    <tr>\n",
       "      <th>44</th>\n",
       "      <td>Cyprus</td>\n",
       "      <td>35.1</td>\n",
       "      <td>33.4</td>\n",
       "      <td>31.8</td>\n",
       "      <td>30.3</td>\n",
       "      <td>28.8</td>\n",
       "      <td>27.4</td>\n",
       "      <td>26.1</td>\n",
       "      <td>24.8</td>\n",
       "      <td>23.6</td>\n",
       "      <td>...</td>\n",
       "      <td>3.8</td>\n",
       "      <td>3.6</td>\n",
       "      <td>3.4</td>\n",
       "      <td>3.2</td>\n",
       "      <td>3.0</td>\n",
       "      <td>2.9</td>\n",
       "      <td>2.7</td>\n",
       "      <td>lowest</td>\n",
       "      <td>-92.307692</td>\n",
       "      <td>highest</td>\n",
       "    </tr>\n",
       "    <tr>\n",
       "      <th>77</th>\n",
       "      <td>Iran</td>\n",
       "      <td>227.0</td>\n",
       "      <td>184.0</td>\n",
       "      <td>176.0</td>\n",
       "      <td>168.0</td>\n",
       "      <td>160.0</td>\n",
       "      <td>152.0</td>\n",
       "      <td>143.0</td>\n",
       "      <td>135.0</td>\n",
       "      <td>126.0</td>\n",
       "      <td>...</td>\n",
       "      <td>20.3</td>\n",
       "      <td>19.3</td>\n",
       "      <td>18.4</td>\n",
       "      <td>17.6</td>\n",
       "      <td>16.9</td>\n",
       "      <td>16.3</td>\n",
       "      <td>15.7</td>\n",
       "      <td>medium_low</td>\n",
       "      <td>-93.083700</td>\n",
       "      <td>highest</td>\n",
       "    </tr>\n",
       "    <tr>\n",
       "      <th>102</th>\n",
       "      <td>Maldives</td>\n",
       "      <td>261.0</td>\n",
       "      <td>251.0</td>\n",
       "      <td>240.0</td>\n",
       "      <td>229.0</td>\n",
       "      <td>217.0</td>\n",
       "      <td>205.0</td>\n",
       "      <td>194.0</td>\n",
       "      <td>184.0</td>\n",
       "      <td>174.0</td>\n",
       "      <td>...</td>\n",
       "      <td>14.5</td>\n",
       "      <td>13.2</td>\n",
       "      <td>12.0</td>\n",
       "      <td>11.0</td>\n",
       "      <td>10.2</td>\n",
       "      <td>9.5</td>\n",
       "      <td>9.0</td>\n",
       "      <td>medium_low</td>\n",
       "      <td>-96.551724</td>\n",
       "      <td>highest</td>\n",
       "    </tr>\n",
       "    <tr>\n",
       "      <th>127</th>\n",
       "      <td>Oman</td>\n",
       "      <td>229.0</td>\n",
       "      <td>217.0</td>\n",
       "      <td>204.0</td>\n",
       "      <td>192.0</td>\n",
       "      <td>180.0</td>\n",
       "      <td>169.0</td>\n",
       "      <td>157.0</td>\n",
       "      <td>145.0</td>\n",
       "      <td>134.0</td>\n",
       "      <td>...</td>\n",
       "      <td>11.8</td>\n",
       "      <td>11.7</td>\n",
       "      <td>11.5</td>\n",
       "      <td>11.4</td>\n",
       "      <td>11.2</td>\n",
       "      <td>11.0</td>\n",
       "      <td>10.9</td>\n",
       "      <td>medium_low</td>\n",
       "      <td>-95.240175</td>\n",
       "      <td>highest</td>\n",
       "    </tr>\n",
       "    <tr>\n",
       "      <th>137</th>\n",
       "      <td>Portugal</td>\n",
       "      <td>68.3</td>\n",
       "      <td>63.1</td>\n",
       "      <td>57.8</td>\n",
       "      <td>52.7</td>\n",
       "      <td>47.9</td>\n",
       "      <td>43.5</td>\n",
       "      <td>39.4</td>\n",
       "      <td>35.7</td>\n",
       "      <td>32.4</td>\n",
       "      <td>...</td>\n",
       "      <td>4.0</td>\n",
       "      <td>3.9</td>\n",
       "      <td>3.8</td>\n",
       "      <td>3.7</td>\n",
       "      <td>3.7</td>\n",
       "      <td>3.6</td>\n",
       "      <td>3.5</td>\n",
       "      <td>lowest</td>\n",
       "      <td>-94.875549</td>\n",
       "      <td>highest</td>\n",
       "    </tr>\n",
       "  </tbody>\n",
       "</table>\n",
       "<p>5 rows × 50 columns</p>\n",
       "</div>"
      ],
      "text/plain": [
       "      country   1970   1971   1972   1973   1974   1975   1976   1977   1978  \\\n",
       "44     Cyprus   35.1   33.4   31.8   30.3   28.8   27.4   26.1   24.8   23.6   \n",
       "77       Iran  227.0  184.0  176.0  168.0  160.0  152.0  143.0  135.0  126.0   \n",
       "102  Maldives  261.0  251.0  240.0  229.0  217.0  205.0  194.0  184.0  174.0   \n",
       "127      Oman  229.0  217.0  204.0  192.0  180.0  169.0  157.0  145.0  134.0   \n",
       "137  Portugal   68.3   63.1   57.8   52.7   47.9   43.5   39.4   35.7   32.4   \n",
       "\n",
       "        ...      2009  2010  2011  2012  2013  2014  2015  levels2015  \\\n",
       "44      ...       3.8   3.6   3.4   3.2   3.0   2.9   2.7      lowest   \n",
       "77      ...      20.3  19.3  18.4  17.6  16.9  16.3  15.7  medium_low   \n",
       "102     ...      14.5  13.2  12.0  11.0  10.2   9.5   9.0  medium_low   \n",
       "127     ...      11.8  11.7  11.5  11.4  11.2  11.0  10.9  medium_low   \n",
       "137     ...       4.0   3.9   3.8   3.7   3.7   3.6   3.5      lowest   \n",
       "\n",
       "          rate  level_rate  \n",
       "44  -92.307692     highest  \n",
       "77  -93.083700     highest  \n",
       "102 -96.551724     highest  \n",
       "127 -95.240175     highest  \n",
       "137 -94.875549     highest  \n",
       "\n",
       "[5 rows x 50 columns]"
      ]
     },
     "execution_count": 343,
     "metadata": {},
     "output_type": "execute_result"
    }
   ],
   "source": [
    "#select countries with largest decrease in mortality rate\n",
    "M[M['level_rate'] == 'highest'].head(5)"
   ]
  },
  {
   "cell_type": "code",
   "execution_count": 344,
   "metadata": {},
   "outputs": [
    {
     "data": {
      "image/png": "[encoded data removed]",
      "text/plain": [
       "<Figure size 1080x720 with 1 Axes>"
      ]
     },
     "metadata": {
      "needs_background": "light"
     },
     "output_type": "display_data"
    }
   ],
   "source": [
    "#visualize the largest decrease in mortality rate\n",
    "country_bar_plot(M, 15, 10, 'level_rate', 'highest', 'rate', 'Percent Change in Child Mortality', 'Countries with largest decrease in mortality rate from 1970 - 2015', rot_ticks= True)    \n"
   ]
  },
  {
   "cell_type": "code",
   "execution_count": 345,
   "metadata": {},
   "outputs": [
    {
     "data": {
      "image/png": "[encoded data removed]",
      "text/plain": [
       "<Figure size 1080x720 with 1 Axes>"
      ]
     },
     "metadata": {
      "needs_background": "light"
     },
     "output_type": "display_data"
    }
   ],
   "source": [
    "#visualize the smallest decrease in mortality rate\n",
    "country_bar_plot(M, 15, 10, 'level_rate', 'low', 'rate', 'Percent Change in Child Mortality', 'Countries with smallest decrease in mortality rate from 1970 - 2015', rot_ticks= True)    \n"
   ]
  },
  {
   "cell_type": "markdown",
   "metadata": {},
   "source": [
    "**Child mortality rate has greatly decreased in several countries since 1970 especially within the Middle East (Iran, Turkey, Saudi Arabia, UAE, Tunisia). However, still child mortality has not budged much in countries in Africa (i.e. Chad, Zimbabwe, Lesotho, Somalia). These countries still do have room for improvement (they are not at 0 child mortality rate).**"
   ]
  },
  {
   "cell_type": "markdown",
   "metadata": {},
   "source": [
    "**C. Where has education rate of women increased the most since 1970? Where has it been stagnant?**"
   ]
  },
  {
   "cell_type": "code",
   "execution_count": 346,
   "metadata": {},
   "outputs": [],
   "source": [
    "school['rate'] = ((school['2015']-school['1970'])/school['1970']) *100"
   ]
  },
  {
   "cell_type": "code",
   "execution_count": 347,
   "metadata": {},
   "outputs": [
    {
     "data": {
      "text/plain": [
       "count    187.000000\n",
       "mean     229.370411\n",
       "std      130.265639\n",
       "min       34.821429\n",
       "25%      119.052419\n",
       "50%      189.171975\n",
       "75%      319.602205\n",
       "max      800.000000\n",
       "Name: rate, dtype: float64"
      ]
     },
     "execution_count": 347,
     "metadata": {},
     "output_type": "execute_result"
    }
   ],
   "source": [
    "sum = school['rate'].describe()\n",
    "sum"
   ]
  },
  {
   "cell_type": "code",
   "execution_count": 348,
   "metadata": {},
   "outputs": [
    {
     "data": {
      "text/plain": [
       "[34.82042857142858,\n",
       " 76.93642396313363,\n",
       " 119.05241935483869,\n",
       " 189.17197452229297,\n",
       " 319.6022046489336,\n",
       " 559.8011023244668,\n",
       " 800.001]"
      ]
     },
     "execution_count": 348,
     "metadata": {},
     "output_type": "execute_result"
    }
   ],
   "source": [
    "#make bins\n",
    "#rate has increased so I can use the first make_bin_edges function\n",
    "\n",
    "bin_edges=make_bin_edges(sum)\n",
    "bin_names = ['lowest', 'low', 'medium_low', 'medium', 'high', 'highest']\n",
    "bin_edges"
   ]
  },
  {
   "cell_type": "code",
   "execution_count": 349,
   "metadata": {},
   "outputs": [
    {
     "data": {
      "text/plain": [
       "0          high\n",
       "1    medium_low\n",
       "2          high\n",
       "3           low\n",
       "4        medium\n",
       "Name: level_rate, dtype: category\n",
       "Categories (6, object): [lowest < low < medium_low < medium < high < highest]"
      ]
     },
     "execution_count": 349,
     "metadata": {},
     "output_type": "execute_result"
    }
   ],
   "source": [
    "#add bins to the school df\n",
    "school['level_rate'] = pd.cut(school['rate'], bin_edges, labels=bin_names)\n",
    "school['level_rate'].head(5)"
   ]
  },
  {
   "cell_type": "code",
   "execution_count": 350,
   "metadata": {},
   "outputs": [
    {
     "data": {
      "text/plain": [
       "0"
      ]
     },
     "execution_count": 350,
     "metadata": {},
     "output_type": "execute_result"
    }
   ],
   "source": [
    "#check to make sure every entry got a level\n",
    "school['level_rate'].isnull().any().sum()"
   ]
  },
  {
   "cell_type": "code",
   "execution_count": 351,
   "metadata": {},
   "outputs": [
    {
     "data": {
      "text/html": [
       "<div>\n",
       "<style scoped>\n",
       "    .dataframe tbody tr th:only-of-type {\n",
       "        vertical-align: middle;\n",
       "    }\n",
       "\n",
       "    .dataframe tbody tr th {\n",
       "        vertical-align: top;\n",
       "    }\n",
       "\n",
       "    .dataframe thead th {\n",
       "        text-align: right;\n",
       "    }\n",
       "</style>\n",
       "<table border=\"1\" class=\"dataframe\">\n",
       "  <thead>\n",
       "    <tr style=\"text-align: right;\">\n",
       "      <th></th>\n",
       "      <th>country</th>\n",
       "      <th>1970</th>\n",
       "      <th>1971</th>\n",
       "      <th>1972</th>\n",
       "      <th>1973</th>\n",
       "      <th>1974</th>\n",
       "      <th>1975</th>\n",
       "      <th>1976</th>\n",
       "      <th>1977</th>\n",
       "      <th>1978</th>\n",
       "      <th>...</th>\n",
       "      <th>2009</th>\n",
       "      <th>2010</th>\n",
       "      <th>2011</th>\n",
       "      <th>2012</th>\n",
       "      <th>2013</th>\n",
       "      <th>2014</th>\n",
       "      <th>2015</th>\n",
       "      <th>levels2015</th>\n",
       "      <th>rate</th>\n",
       "      <th>level_rate</th>\n",
       "    </tr>\n",
       "  </thead>\n",
       "  <tbody>\n",
       "    <tr>\n",
       "      <th>30</th>\n",
       "      <td>Canada</td>\n",
       "      <td>9.39</td>\n",
       "      <td>9.58</td>\n",
       "      <td>9.77</td>\n",
       "      <td>9.96</td>\n",
       "      <td>10.2</td>\n",
       "      <td>10.3</td>\n",
       "      <td>10.5</td>\n",
       "      <td>10.7</td>\n",
       "      <td>10.9</td>\n",
       "      <td>...</td>\n",
       "      <td>14.9</td>\n",
       "      <td>15.1</td>\n",
       "      <td>15.2</td>\n",
       "      <td>15.3</td>\n",
       "      <td>15.4</td>\n",
       "      <td>15.5</td>\n",
       "      <td>15.6</td>\n",
       "      <td>highest</td>\n",
       "      <td>66.134185</td>\n",
       "      <td>lowest</td>\n",
       "    </tr>\n",
       "    <tr>\n",
       "      <th>178</th>\n",
       "      <td>United States</td>\n",
       "      <td>11.20</td>\n",
       "      <td>11.40</td>\n",
       "      <td>11.50</td>\n",
       "      <td>11.60</td>\n",
       "      <td>11.8</td>\n",
       "      <td>11.9</td>\n",
       "      <td>12.0</td>\n",
       "      <td>12.1</td>\n",
       "      <td>12.2</td>\n",
       "      <td>...</td>\n",
       "      <td>14.4</td>\n",
       "      <td>14.5</td>\n",
       "      <td>14.6</td>\n",
       "      <td>14.7</td>\n",
       "      <td>14.8</td>\n",
       "      <td>14.9</td>\n",
       "      <td>15.1</td>\n",
       "      <td>highest</td>\n",
       "      <td>34.821429</td>\n",
       "      <td>lowest</td>\n",
       "    </tr>\n",
       "  </tbody>\n",
       "</table>\n",
       "<p>2 rows × 50 columns</p>\n",
       "</div>"
      ],
      "text/plain": [
       "           country   1970   1971   1972   1973  1974  1975  1976  1977  1978  \\\n",
       "30          Canada   9.39   9.58   9.77   9.96  10.2  10.3  10.5  10.7  10.9   \n",
       "178  United States  11.20  11.40  11.50  11.60  11.8  11.9  12.0  12.1  12.2   \n",
       "\n",
       "        ...      2009  2010  2011  2012  2013  2014  2015  levels2015  \\\n",
       "30      ...      14.9  15.1  15.2  15.3  15.4  15.5  15.6     highest   \n",
       "178     ...      14.4  14.5  14.6  14.7  14.8  14.9  15.1     highest   \n",
       "\n",
       "          rate  level_rate  \n",
       "30   66.134185      lowest  \n",
       "178  34.821429      lowest  \n",
       "\n",
       "[2 rows x 50 columns]"
      ]
     },
     "execution_count": 351,
     "metadata": {},
     "output_type": "execute_result"
    }
   ],
   "source": [
    "#select lowest countries and select highest countries\n",
    "school[school['level_rate'] == 'lowest']"
   ]
  },
  {
   "cell_type": "code",
   "execution_count": 352,
   "metadata": {},
   "outputs": [
    {
     "data": {
      "text/html": [
       "<div>\n",
       "<style scoped>\n",
       "    .dataframe tbody tr th:only-of-type {\n",
       "        vertical-align: middle;\n",
       "    }\n",
       "\n",
       "    .dataframe tbody tr th {\n",
       "        vertical-align: top;\n",
       "    }\n",
       "\n",
       "    .dataframe thead th {\n",
       "        text-align: right;\n",
       "    }\n",
       "</style>\n",
       "<table border=\"1\" class=\"dataframe\">\n",
       "  <thead>\n",
       "    <tr style=\"text-align: right;\">\n",
       "      <th></th>\n",
       "      <th>country</th>\n",
       "      <th>1970</th>\n",
       "      <th>1971</th>\n",
       "      <th>1972</th>\n",
       "      <th>1973</th>\n",
       "      <th>1974</th>\n",
       "      <th>1975</th>\n",
       "      <th>1976</th>\n",
       "      <th>1977</th>\n",
       "      <th>1978</th>\n",
       "      <th>...</th>\n",
       "      <th>2009</th>\n",
       "      <th>2010</th>\n",
       "      <th>2011</th>\n",
       "      <th>2012</th>\n",
       "      <th>2013</th>\n",
       "      <th>2014</th>\n",
       "      <th>2015</th>\n",
       "      <th>levels2015</th>\n",
       "      <th>rate</th>\n",
       "      <th>level_rate</th>\n",
       "    </tr>\n",
       "  </thead>\n",
       "  <tbody>\n",
       "    <tr>\n",
       "      <th>77</th>\n",
       "      <td>Iran</td>\n",
       "      <td>0.99</td>\n",
       "      <td>1.04</td>\n",
       "      <td>1.09</td>\n",
       "      <td>1.14</td>\n",
       "      <td>1.20</td>\n",
       "      <td>1.27</td>\n",
       "      <td>1.34</td>\n",
       "      <td>1.41</td>\n",
       "      <td>1.49</td>\n",
       "      <td>...</td>\n",
       "      <td>6.33</td>\n",
       "      <td>6.49</td>\n",
       "      <td>6.65</td>\n",
       "      <td>6.81</td>\n",
       "      <td>6.97</td>\n",
       "      <td>7.13</td>\n",
       "      <td>7.29</td>\n",
       "      <td>medium_low</td>\n",
       "      <td>636.363636</td>\n",
       "      <td>highest</td>\n",
       "    </tr>\n",
       "    <tr>\n",
       "      <th>78</th>\n",
       "      <td>Iraq</td>\n",
       "      <td>1.02</td>\n",
       "      <td>1.07</td>\n",
       "      <td>1.12</td>\n",
       "      <td>1.18</td>\n",
       "      <td>1.24</td>\n",
       "      <td>1.30</td>\n",
       "      <td>1.37</td>\n",
       "      <td>1.45</td>\n",
       "      <td>1.52</td>\n",
       "      <td>...</td>\n",
       "      <td>5.85</td>\n",
       "      <td>6.00</td>\n",
       "      <td>6.15</td>\n",
       "      <td>6.30</td>\n",
       "      <td>6.45</td>\n",
       "      <td>6.61</td>\n",
       "      <td>6.76</td>\n",
       "      <td>medium_low</td>\n",
       "      <td>562.745098</td>\n",
       "      <td>highest</td>\n",
       "    </tr>\n",
       "    <tr>\n",
       "      <th>171</th>\n",
       "      <td>Tunisia</td>\n",
       "      <td>0.83</td>\n",
       "      <td>0.87</td>\n",
       "      <td>0.91</td>\n",
       "      <td>0.96</td>\n",
       "      <td>1.01</td>\n",
       "      <td>1.06</td>\n",
       "      <td>1.12</td>\n",
       "      <td>1.18</td>\n",
       "      <td>1.24</td>\n",
       "      <td>...</td>\n",
       "      <td>5.68</td>\n",
       "      <td>5.84</td>\n",
       "      <td>6.00</td>\n",
       "      <td>6.16</td>\n",
       "      <td>6.32</td>\n",
       "      <td>6.48</td>\n",
       "      <td>6.64</td>\n",
       "      <td>medium_low</td>\n",
       "      <td>700.000000</td>\n",
       "      <td>highest</td>\n",
       "    </tr>\n",
       "    <tr>\n",
       "      <th>184</th>\n",
       "      <td>Yemen</td>\n",
       "      <td>0.11</td>\n",
       "      <td>0.11</td>\n",
       "      <td>0.12</td>\n",
       "      <td>0.12</td>\n",
       "      <td>0.13</td>\n",
       "      <td>0.13</td>\n",
       "      <td>0.14</td>\n",
       "      <td>0.15</td>\n",
       "      <td>0.15</td>\n",
       "      <td>...</td>\n",
       "      <td>0.78</td>\n",
       "      <td>0.81</td>\n",
       "      <td>0.84</td>\n",
       "      <td>0.88</td>\n",
       "      <td>0.91</td>\n",
       "      <td>0.95</td>\n",
       "      <td>0.99</td>\n",
       "      <td>lowest</td>\n",
       "      <td>800.000000</td>\n",
       "      <td>highest</td>\n",
       "    </tr>\n",
       "  </tbody>\n",
       "</table>\n",
       "<p>4 rows × 50 columns</p>\n",
       "</div>"
      ],
      "text/plain": [
       "     country  1970  1971  1972  1973  1974  1975  1976  1977  1978  \\\n",
       "77      Iran  0.99  1.04  1.09  1.14  1.20  1.27  1.34  1.41  1.49   \n",
       "78      Iraq  1.02  1.07  1.12  1.18  1.24  1.30  1.37  1.45  1.52   \n",
       "171  Tunisia  0.83  0.87  0.91  0.96  1.01  1.06  1.12  1.18  1.24   \n",
       "184    Yemen  0.11  0.11  0.12  0.12  0.13  0.13  0.14  0.15  0.15   \n",
       "\n",
       "        ...      2009  2010  2011  2012  2013  2014  2015  levels2015  \\\n",
       "77      ...      6.33  6.49  6.65  6.81  6.97  7.13  7.29  medium_low   \n",
       "78      ...      5.85  6.00  6.15  6.30  6.45  6.61  6.76  medium_low   \n",
       "171     ...      5.68  5.84  6.00  6.16  6.32  6.48  6.64  medium_low   \n",
       "184     ...      0.78  0.81  0.84  0.88  0.91  0.95  0.99      lowest   \n",
       "\n",
       "           rate  level_rate  \n",
       "77   636.363636     highest  \n",
       "78   562.745098     highest  \n",
       "171  700.000000     highest  \n",
       "184  800.000000     highest  \n",
       "\n",
       "[4 rows x 50 columns]"
      ]
     },
     "execution_count": 352,
     "metadata": {},
     "output_type": "execute_result"
    }
   ],
   "source": [
    "school[school['level_rate'] == 'highest']"
   ]
  },
  {
   "cell_type": "code",
   "execution_count": 353,
   "metadata": {},
   "outputs": [
    {
     "data": {
      "image/png": "[encoded data removed]",
      "text/plain": [
       "<Figure size 720x504 with 1 Axes>"
      ]
     },
     "metadata": {
      "needs_background": "light"
     },
     "output_type": "display_data"
    }
   ],
   "source": [
    "#visualize the lowest growth in education rate\n",
    "country_bar_plot(school, 10, 7, 'level_rate', 'lowest', 'rate', 'Years', 'Percent change in the amount of education (on average) received by women by age 35-44 between 1970 to 2015', rot_ticks= True)    \n"
   ]
  },
  {
   "cell_type": "code",
   "execution_count": 354,
   "metadata": {},
   "outputs": [
    {
     "data": {
      "image/png": "[encoded data removed]",
      "text/plain": [
       "<Figure size 720x504 with 1 Axes>"
      ]
     },
     "metadata": {
      "needs_background": "light"
     },
     "output_type": "display_data"
    }
   ],
   "source": [
    "#visualize greatest increase in rate\n",
    "country_bar_plot(school, 10, 7, 'level_rate', 'highest', 'rate', 'Years', 'Percent change in the amount of education (on average) received by women by age 35-44 between 1970 to 2015', rot_ticks= True)    "
   ]
  },
  {
   "cell_type": "markdown",
   "metadata": {},
   "source": [
    "**United States and Canada are countriest where the education rate changed the least from 1970 to 2015 but they are already among the countriest with highest education rate. I don't expect the average to budge much more in the coming years because it would mean that more females were searching for post-graduate education (additional education follwoing a traditional 4 year college). With the changing economoy that may not be likely as education is becoming more expensive. Irag, Iran, Tunisia, and Yemen are making great strides when it comes to educating women. However, it is unclear if these women are technically citizens but are ex-pats and live elsewhere. SOmething to consider in future explorations**"
   ]
  },
  {
   "cell_type": "markdown",
   "metadata": {},
   "source": [
    "### Research Question 3: What is the child mortality rate like in countries with highly educated women compared to those with uneducated women? \n",
    "> Do wealthier countries have more highly educated women?  \n",
    "> Do wealthier countries have lower child mortality?  \n",
    "> Do highly educated women have healthier babies/children?   \n",
    "\n"
   ]
  },
  {
   "cell_type": "code",
   "execution_count": 355,
   "metadata": {},
   "outputs": [],
   "source": [
    "# plot wealth vs. female eduction\n",
    "# plot wealth vs child mortality\n",
    "#plot female eduction vs child mortality (where size of the pt indicates GDP of the country)"
   ]
  },
  {
   "cell_type": "code",
   "execution_count": 356,
   "metadata": {},
   "outputs": [
    {
     "data": {
      "image/png": "[encoded data removed]",
      "text/plain": [
       "<Figure size 720x504 with 1 Axes>"
      ]
     },
     "metadata": {
      "needs_background": "light"
     },
     "output_type": "display_data"
    }
   ],
   "source": [
    "def country_scatter(figx, figy, df_x, df_y, area_df, scaling, xlabel, ylabel, title):\n",
    "    plt.figure(figsize=(figx,figy))\n",
    "    plt.scatter(df_x, df_y, s=area_df*scaling)\n",
    "    plt.xlabel(xlabel)\n",
    "    plt.ylabel(ylabel)\n",
    "    plt.title(title);\n",
    "    \n",
    "country_scatter(10,7, inc['2015'], school['2015'], M['2015'], 1.15,'GDP PPP adjusted',\"Years\",'Average amount of education (years) women have received by the age of 35-44 plotted \\n against GDP PPP. \\n Size of point reflects child mortality rate.')\n",
    "    \n",
    "   "
   ]
  },
  {
   "cell_type": "markdown",
   "metadata": {},
   "source": [
    "**The above scatter plot indicates that GDP may not be the strongest predictor of average female education. For example, a high GDP does not guarantee high level of education as indicated by some of the data points in the high GDP range but average to low education range.**"
   ]
  },
  {
   "cell_type": "code",
   "execution_count": 357,
   "metadata": {},
   "outputs": [
    {
     "data": {
      "image/png": "[encoded data removed]",
      "text/plain": [
       "<Figure size 720x360 with 1 Axes>"
      ]
     },
     "metadata": {
      "needs_background": "light"
     },
     "output_type": "display_data"
    }
   ],
   "source": [
    "country_scatter(10,5, inc['2015'], M['2015'], school['2015'], 10,'GDP PPP adjusted',\"Child Mortality per 1000\",'Country GDP (PPP) plotted against mortality of children (0-5) per 1000 births. \\n Size of point reflects relative average number of years education received by women.')\n"
   ]
  },
  {
   "cell_type": "markdown",
   "metadata": {},
   "source": [
    "**As expected, there is some relationship between child mortality rate and GDP. Child mortality is generally lower in countries with higher GDP. However, the gradient showing female education may indicate that female education - even in poor countries - may also affect child mortality rate. Let's take a closer look below...**"
   ]
  },
  {
   "cell_type": "code",
   "execution_count": 358,
   "metadata": {},
   "outputs": [
    {
     "data": {
      "text/plain": [
       "['Afghanistan',\n",
       " 'Burkina Faso',\n",
       " 'Burundi',\n",
       " 'Central African Republic',\n",
       " 'Comoros',\n",
       " 'Congo, Dem. Rep.',\n",
       " 'Eritrea',\n",
       " 'Ethiopia',\n",
       " 'Gambia',\n",
       " 'Guinea',\n",
       " 'Guinea-Bissau',\n",
       " 'Haiti',\n",
       " 'Kiribati',\n",
       " 'Liberia',\n",
       " 'Madagascar',\n",
       " 'Malawi',\n",
       " 'Mali',\n",
       " 'Mozambique',\n",
       " 'Niger',\n",
       " 'North Korea',\n",
       " 'Rwanda',\n",
       " 'Sierra Leone',\n",
       " 'Somalia',\n",
       " 'South Sudan',\n",
       " 'Togo',\n",
       " 'Uganda',\n",
       " 'Zimbabwe']"
      ]
     },
     "execution_count": 358,
     "metadata": {},
     "output_type": "execute_result"
    }
   ],
   "source": [
    "#lets look at poor countries only\n",
    "poor_countries = inc[inc['levels2015']== \"lowest\"]['country'].tolist()\n",
    "poor_countries"
   ]
  },
  {
   "cell_type": "code",
   "execution_count": 359,
   "metadata": {},
   "outputs": [],
   "source": [
    "school_poor = school[school['country'].isin(poor_countries)]\n",
    "M_poor = M[M['country'].isin(poor_countries)]"
   ]
  },
  {
   "cell_type": "code",
   "execution_count": 360,
   "metadata": {},
   "outputs": [
    {
     "data": {
      "image/png": "[encoded data removed]",
      "text/plain": [
       "<Figure size 720x360 with 1 Axes>"
      ]
     },
     "metadata": {
      "needs_background": "light"
     },
     "output_type": "display_data"
    }
   ],
   "source": [
    "\n",
    "plt.figure(figsize=(10,5))\n",
    "plt.scatter(school_poor['2015'], M_poor['2015'])\n",
    "plt.xlabel('Years of education acheived by females by age 35-44, on average')\n",
    "plt.ylabel('Child mortality rate (age 0-5) per 1000')\n",
    "plt.title('Child mortality per 1000 vs female education in the most poor countries around the globe');"
   ]
  },
  {
   "cell_type": "markdown",
   "metadata": {},
   "source": [
    "**The results here are encouraging. It's not just GDP that affects child mortality but level of education of mothers appears to also be correlated to child mortality. Child mortality of 10% (100/1000) is only associated with countries where mothers have 3 or less years of education by the time they reach 35. With an additional 3 more year on average, so 6 total, the child mortality rate is within the  6% - 7% (60 - 70 /1000) range which is a reduction by almost half.**"
   ]
  },
  {
   "cell_type": "code",
   "execution_count": 361,
   "metadata": {},
   "outputs": [
    {
     "data": {
      "image/png": "[encoded data removed]",
      "text/plain": [
       "<Figure size 720x360 with 1 Axes>"
      ]
     },
     "metadata": {
      "needs_background": "light"
     },
     "output_type": "display_data"
    }
   ],
   "source": [
    "# finally, let's take a closer look at child mortality compared to female education. \n",
    "country_scatter(10,5, school['2015'], M['2015'], inc['2015'], 0.05,'Avearge number of years education received by women',\"Child Mortality per 1000\",' Average amount of education (years) women have received by the age range of 35-44 \\n plotted against child mortality ages 0-5 (per 1000 births). \\n Size of point reflects country GPD.')"
   ]
  },
  {
   "cell_type": "markdown",
   "metadata": {
    "collapsed": true
   },
   "source": [
    "**This plot depicts a correlation betwen education and child mortality, which we just saw above. Also, it highlights a very strong correlation between female education and GDP. The figure is overwhelmed by the bubble size (indicative of high GDP) where average female education reaches the upper limit (16).**\n"
   ]
  },
  {
   "cell_type": "markdown",
   "metadata": {},
   "source": [
    "<a id='conclusions'></a>\n",
    "## Conclusions\n",
    "\n",
    "For this project I explored the Gapminder datasets. I specifically chose to explore GPD (PPP), child mortality rate, and female education levels around the globe. \n",
    "\n",
    "GDP around the globe is right skewed; the greatest mass occurs in the low end (most countries are very poor) and a select few countries have very high GDPs. A portion of these countries are oil rich countries (i.e. Qatar) with very low debt. Most of the poorest countries are those in Africa or the Middle East: regions with long records of war and civil unreast (e.g. Eritrea, Yemen, DOC, etc). \n",
    "\n",
    "Child mortality rate around the globe is also right skewed; many countries have very high mortality rates. Most of the high mortality rates are in very poor countries. However, there has been a large decrease in child mortality rate since 1970 which likely is a result of societal advancements (sanitation, access to health care, etc). \n",
    "\n",
    "Female education levels around the globe were generally related to GDP but the relationsip was not a strong as I first hypothesized. For example, average number of years educated in countries with a GDP PPP of only 20,000 was similar to that in countries with GDP closer to 100,000. After reading more about GDP PPP, it seems that it may not be the most accurate description of personal income. Also, the primary export of many countries with high GDP is oil and the wealth may not be distributed evenly between men and women. \n",
    "\n",
    "Another conclusion that I made was that, not surprisingly, children in wealthier countries fare better. But what is notable is that female education may also strongly predict child mortality rates. For example, among poor countries, countries with more educated women have healthier babies and children (lower child mortality). \n",
    "\n",
    "### Important Considerations and Limitations\n",
    "\n"
   ]
  },
  {
   "cell_type": "markdown",
   "metadata": {
    "collapsed": true
   },
   "source": [
    "These explorations were performed using data up to terminal year of 2015. It is likely these numbers have changed since then. Also, it may be more accurate to explore running averages of these values which better incorporate annual noise. Exploring a running average (say of the last 5 years) may better depict trends in GDP, female education, and child mortality rate. Further, using a moving average to making inferences about rate of change may be more accurate. \n",
    "\n",
    "To note, this analysis only covered years 1970 to 2015. The inferences made may be affected by length of timeseries. Also, there were 5 countries not accounted for in these analyses: Monaco, Nauru, Palau, San Marino, St. Kitts and Nevis, Tuvalu because some indicators were not available for these countries. In addition, information about Andorra for the earlier portion of the timeseries was inferred using imputation. \n",
    "\n",
    "Finally, because no statistical analyses were leveraged throughout this exploration the results can only be inferred in terms of possible correlation between each factor explored. They are qualitative findings not suppprted by inferential statistics. "
   ]
  }
 ],
 "metadata": {
  "kernelspec": {
   "display_name": "Python 3",
   "language": "python",
   "name": "python3"
  },
  "language_info": {
   "codemirror_mode": {
    "name": "ipython",
    "version": 3
   },
   "file_extension": ".py",
   "mimetype": "text/x-python",
   "name": "python",
   "nbconvert_exporter": "python",
   "pygments_lexer": "ipython3",
   "version": "3.7.1"
  }
 },
 "nbformat": 4,
 "nbformat_minor": 2
}
